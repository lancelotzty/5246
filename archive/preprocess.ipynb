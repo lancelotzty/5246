{
 "cells": [
  {
   "cell_type": "code",
   "execution_count": null,
   "metadata": {
    "id": "f9dUlZAT7Alz"
   },
   "outputs": [],
   "source": [
    "import pandas as pd\n",
    "pd.set_option('display.max_colwidth', None)\n",
    "import re\n",
    "import numpy as np\n",
    "import matplotlib.pyplot as plt\n",
    "import os\n",
    "import glob\n",
    "import nltk\n",
    "\n",
    "import preprocess"
   ]
  },
  {
   "cell_type": "code",
   "execution_count": null,
   "metadata": {
    "colab": {
     "base_uri": "https://localhost:8080/"
    },
    "id": "kyQDo0MQ_gA6",
    "outputId": "1763e286-55ef-4fa2-c31a-cac473134344"
   },
   "outputs": [
    {
     "name": "stdout",
     "output_type": "stream",
     "text": [
      "Mounted at /content/drive/\n"
     ]
    }
   ],
   "source": [
    "from google.colab import drive\n",
    "drive.mount('/content/drive/')"
   ]
  },
  {
   "cell_type": "code",
   "execution_count": null,
   "metadata": {
    "colab": {
     "base_uri": "https://localhost:8080/"
    },
    "id": "a8DmVK5P_hWO",
    "outputId": "ccdfc7a4-27a0-4872-986c-6537b8d79bb9"
   },
   "outputs": [
    {
     "name": "stdout",
     "output_type": "stream",
     "text": [
      "/content/drive/My Drive/Text mining project\n"
     ]
    }
   ],
   "source": [
    "%cd /content/drive/My Drive/Text mining project/"
   ]
  },
  {
   "cell_type": "code",
   "execution_count": null,
   "metadata": {
    "colab": {
     "base_uri": "https://localhost:8080/"
    },
    "id": "wtG9ElPad6GV",
    "outputId": "8fbe8cb5-98aa-442d-977f-c42a89fdca82"
   },
   "outputs": [
    {
     "name": "stderr",
     "output_type": "stream",
     "text": [
      "[nltk_data] Downloading package punkt to /root/nltk_data...\n",
      "[nltk_data]   Unzipping tokenizers/punkt.zip.\n",
      "[nltk_data] Downloading package wordnet to /root/nltk_data...\n"
     ]
    },
    {
     "data": {
      "text/plain": [
       "True"
      ]
     },
     "execution_count": 5,
     "metadata": {},
     "output_type": "execute_result"
    }
   ],
   "source": [
    "# download nltk packages\n",
    "nltk.download('punkt')\n",
    "nltk.download('wordnet')"
   ]
  },
  {
   "cell_type": "code",
   "execution_count": null,
   "metadata": {
    "id": "H5SN1e8bB07t"
   },
   "outputs": [],
   "source": [
    "# get filenames\n",
    "mental_health_path = \"datasets/mental_health/\"\n",
    "mental_health_csv_files = glob.glob(os.path.join(mental_health_path, \"*.csv\"))\n",
    "\n",
    "non_mental_health_path = \"datasets/non_mental_health/\"\n",
    "non_mental_health_csv_files = glob.glob(os.path.join(non_mental_health_path, \"*.csv\"))"
   ]
  },
  {
   "cell_type": "code",
   "execution_count": null,
   "metadata": {
    "colab": {
     "base_uri": "https://localhost:8080/"
    },
    "id": "lcj-PR_M7Al4",
    "outputId": "b27a4353-ef7d-43cc-cefa-5709abd48210"
   },
   "outputs": [
    {
     "name": "stdout",
     "output_type": "stream",
     "text": [
      "File Name: datasets/mental_health/addiction_pre_features_tfidf_256.csv\n",
      "length of df:  4099\n",
      "File Name: datasets/mental_health/addiction_post_features_tfidf_256.csv\n",
      "length of df:  5882\n",
      "File Name: datasets/mental_health/addiction_2018_features_tfidf_256.csv\n",
      "length of df:  6384\n",
      "File Name: datasets/mental_health/addiction_2019_features_tfidf_256.csv\n",
      "length of df:  7641\n",
      "File Name: datasets/mental_health/adhd_post_features_tfidf_256.csv\n",
      "length of df:  21243\n",
      "File Name: datasets/mental_health/adhd_2019_features_tfidf_256.csv\n",
      "length of df:  31466\n",
      "File Name: datasets/mental_health/adhd_2018_features_tfidf_256.csv\n",
      "length of df:  36576\n",
      "File Name: datasets/mental_health/alcoholism_pre_features_tfidf_256.csv\n",
      "length of df:  39663\n",
      "File Name: datasets/mental_health/alcoholism_post_features_tfidf_256.csv\n",
      "length of df:  41091\n",
      "File Name: datasets/mental_health/alcoholism_2019_features_tfidf_256.csv\n",
      "length of df:  42033\n",
      "File Name: datasets/mental_health/alcoholism_2018_features_tfidf_256.csv\n",
      "length of df:  42487\n",
      "File Name: datasets/mental_health/adhd_pre_features_tfidf_256.csv\n",
      "length of df:  59183\n",
      "File Name: datasets/mental_health/anxiety_2019_features_tfidf_256.csv\n",
      "length of df:  72396\n",
      "File Name: datasets/mental_health/anxiety_2018_features_tfidf_256.csv\n",
      "length of df:  80982\n",
      "File Name: datasets/mental_health/bpd_2018_features_tfidf_256.csv\n",
      "length of df:  83308\n",
      "File Name: datasets/mental_health/bipolarreddit_pre_features_tfidf_256.csv\n",
      "length of df:  86028\n",
      "File Name: datasets/mental_health/bipolarreddit_post_features_tfidf_256.csv\n",
      "length of df:  87396\n",
      "File Name: datasets/mental_health/bipolarreddit_2019_features_tfidf_256.csv\n",
      "length of df:  88306\n",
      "File Name: datasets/mental_health/bipolarreddit_2018_features_tfidf_256.csv\n",
      "length of df:  89088\n",
      "File Name: datasets/mental_health/autism_pre_features_tfidf_256.csv\n",
      "length of df:  93664\n",
      "File Name: datasets/mental_health/autism_post_features_tfidf_256.csv\n",
      "length of df:  95873\n",
      "File Name: datasets/mental_health/autism_2019_features_tfidf_256.csv\n",
      "length of df:  97274\n",
      "File Name: datasets/mental_health/autism_2018_features_tfidf_256.csv\n",
      "length of df:  97957\n",
      "File Name: datasets/mental_health/anxiety_pre_features_tfidf_256.csv\n",
      "length of df:  117933\n",
      "File Name: datasets/mental_health/anxiety_post_features_tfidf_256.csv\n",
      "length of df:  133829\n",
      "File Name: datasets/mental_health/COVID19_support_post_features_tfidf_256.csv\n",
      "length of df:  134810\n",
      "File Name: datasets/mental_health/bpd_pre_features_tfidf_256.csv\n",
      "length of df:  145817\n",
      "File Name: datasets/mental_health/bpd_post_features_tfidf_256.csv\n",
      "length of df:  151790\n",
      "File Name: datasets/mental_health/bpd_2019_features_tfidf_256.csv\n",
      "length of df:  156778\n",
      "File Name: datasets/mental_health/depression_2019_features_tfidf_256.csv\n",
      "length of df:  190332\n",
      "File Name: datasets/mental_health/depression_2018_features_tfidf_256.csv\n",
      "length of df:  214867\n",
      "File Name: datasets/mental_health/depression_post_features_tfidf_256.csv\n",
      "length of df:  252900\n",
      "File Name: datasets/mental_health/depression_pre_features_tfidf_256.csv\n",
      "length of df:  274109\n",
      "File Name: datasets/mental_health/EDAnonymous_pre_features_tfidf_256.csv\n",
      "length of df:  281056\n",
      "File Name: datasets/mental_health/EDAnonymous_post_features_tfidf_256.csv\n",
      "length of df:  286098\n",
      "File Name: datasets/mental_health/EDAnonymous_2019_features_tfidf_256.csv\n",
      "length of df:  288686\n",
      "File Name: datasets/mental_health/healthanxiety_post_features_tfidf_256.csv\n",
      "length of df:  291113\n",
      "File Name: datasets/mental_health/healthanxiety_2019_features_tfidf_256.csv\n",
      "length of df:  292285\n",
      "File Name: datasets/mental_health/healthanxiety_2018_features_tfidf_256.csv\n",
      "length of df:  293080\n",
      "File Name: datasets/mental_health/healthanxiety_pre_features_tfidf_256.csv\n",
      "length of df:  297334\n",
      "File Name: datasets/mental_health/lonely_2019_features_tfidf_256.csv\n",
      "length of df:  300154\n",
      "File Name: datasets/mental_health/lonely_2018_features_tfidf_256.csv\n",
      "length of df:  301469\n",
      "File Name: datasets/mental_health/lonely_pre_features_tfidf_256.csv\n",
      "length of df:  313014\n",
      "File Name: datasets/mental_health/lonely_post_features_tfidf_256.csv\n",
      "length of df:  320969\n",
      "File Name: datasets/mental_health/mentalhealth_2019_features_tfidf_256.csv\n",
      "length of df:  330502\n",
      "File Name: datasets/mental_health/mentalhealth_2018_features_tfidf_256.csv\n",
      "length of df:  333862\n",
      "File Name: datasets/mental_health/mentalhealth_post_features_tfidf_256.csv\n",
      "length of df:  347376\n",
      "File Name: datasets/mental_health/mentalhealth_pre_features_tfidf_256.csv\n",
      "length of df:  366301\n",
      "File Name: datasets/mental_health/ptsd_pre_features_tfidf_256.csv\n",
      "length of df:  370784\n",
      "File Name: datasets/mental_health/ptsd_2018_features_tfidf_256.csv\n",
      "length of df:  371488\n",
      "File Name: datasets/mental_health/ptsd_2019_features_tfidf_256.csv\n",
      "length of df:  372885\n",
      "File Name: datasets/mental_health/ptsd_post_features_tfidf_256.csv\n",
      "length of df:  374944\n",
      "File Name: datasets/mental_health/schizophrenia_post_features_tfidf_256.csv\n",
      "length of df:  376807\n",
      "File Name: datasets/mental_health/schizophrenia_2019_features_tfidf_256.csv\n",
      "length of df:  378357\n",
      "File Name: datasets/mental_health/schizophrenia_2018_features_tfidf_256.csv\n",
      "length of df:  379375\n",
      "File Name: datasets/mental_health/suicidewatch_2019_features_tfidf_256.csv\n",
      "length of df:  393967\n",
      "File Name: datasets/mental_health/suicidewatch_2018_features_tfidf_256.csv\n",
      "length of df:  404182\n",
      "File Name: datasets/mental_health/socialanxiety_pre_features_tfidf_256.csv\n",
      "length of df:  416459\n",
      "File Name: datasets/mental_health/socialanxiety_post_features_tfidf_256.csv\n",
      "length of df:  420197\n",
      "File Name: datasets/mental_health/socialanxiety_2019_features_tfidf_256.csv\n",
      "length of df:  424353\n",
      "File Name: datasets/mental_health/socialanxiety_2018_features_tfidf_256.csv\n",
      "length of df:  427178\n",
      "File Name: datasets/mental_health/schizophrenia_pre_features_tfidf_256.csv\n",
      "length of df:  431459\n",
      "File Name: datasets/mental_health/suicidewatch_pre_features_tfidf_256.csv\n",
      "length of df:  451403\n",
      "File Name: datasets/mental_health/suicidewatch_post_features_tfidf_256.csv\n",
      "length of df:  472813\n"
     ]
    }
   ],
   "source": [
    "# read mental health issues data\n",
    "for i in range(len(mental_health_csv_files)):\n",
    "\n",
    "    if i == 0:\n",
    "      mental_health_df = pd.read_csv(mental_health_csv_files[i], encoding='utf-8')\n",
    "    else:\n",
    "      mental_health_df = pd.concat([mental_health_df, pd.read_csv(mental_health_csv_files[i], encoding='utf-8')])\n",
    "      \n",
    "    # print the location and filename\n",
    "    print('File Name:', mental_health_csv_files[i])\n",
    "      \n",
    "    # print the content\n",
    "    print(\"length of df: \", len(mental_health_df))"
   ]
  },
  {
   "cell_type": "code",
   "execution_count": null,
   "metadata": {
    "colab": {
     "base_uri": "https://localhost:8080/"
    },
    "id": "zP-1xYpSHb6Y",
    "outputId": "1b13830c-c67d-4bed-ee0d-d22974f6b99b"
   },
   "outputs": [
    {
     "name": "stdout",
     "output_type": "stream",
     "text": [
      "File Name: datasets/non_mental_health/conspiracy_pre_features_tfidf_256.csv\n",
      "length of df:  12457\n",
      "File Name: datasets/non_mental_health/conspiracy_post_features_tfidf_256.csv\n",
      "length of df:  22390\n",
      "File Name: datasets/non_mental_health/conspiracy_2019_features_tfidf_256.csv\n",
      "length of df:  26503\n",
      "File Name: datasets/non_mental_health/conspiracy_2018_features_tfidf_256.csv\n",
      "length of df:  29847\n",
      "File Name: datasets/non_mental_health/divorce_pre_features_tfidf_256.csv\n",
      "length of df:  36266\n",
      "File Name: datasets/non_mental_health/divorce_post_features_tfidf_256.csv\n",
      "length of df:  39013\n",
      "File Name: datasets/non_mental_health/divorce_2019_features_tfidf_256.csv\n",
      "length of df:  41216\n",
      "File Name: datasets/non_mental_health/divorce_2018_features_tfidf_256.csv\n",
      "length of df:  42441\n",
      "File Name: datasets/non_mental_health/guns_2018_features_tfidf_256.csv\n",
      "length of df:  45629\n",
      "File Name: datasets/non_mental_health/fitness_pre_features_tfidf_256.csv\n",
      "length of df:  67793\n",
      "File Name: datasets/non_mental_health/fitness_post_features_tfidf_256.csv\n",
      "length of df:  77822\n",
      "File Name: datasets/non_mental_health/fitness_2019_features_tfidf_256.csv\n",
      "length of df:  91985\n",
      "File Name: datasets/non_mental_health/fitness_2018_features_tfidf_256.csv\n",
      "length of df:  95473\n",
      "File Name: datasets/non_mental_health/guns_pre_features_tfidf_256.csv\n",
      "length of df:  106373\n",
      "File Name: datasets/non_mental_health/guns_post_features_tfidf_256.csv\n",
      "length of df:  111263\n",
      "File Name: datasets/non_mental_health/guns_2019_features_tfidf_256.csv\n",
      "length of df:  115258\n",
      "File Name: datasets/non_mental_health/jokes_2018_features_tfidf_256.csv\n",
      "length of df:  135315\n",
      "File Name: datasets/non_mental_health/jokes_pre_features_tfidf_256.csv\n",
      "length of df:  154564\n",
      "File Name: datasets/non_mental_health/jokes_post_features_tfidf_256.csv\n",
      "length of df:  181564\n",
      "File Name: datasets/non_mental_health/jokes_2019_features_tfidf_256.csv\n",
      "length of df:  209763\n",
      "File Name: datasets/non_mental_health/legaladvice_2018_features_tfidf_256.csv\n",
      "length of df:  237963\n",
      "File Name: datasets/non_mental_health/legaladvice_pre_features_tfidf_256.csv\n",
      "length of df:  261983\n",
      "File Name: datasets/non_mental_health/legaladvice_post_features_tfidf_256.csv\n",
      "length of df:  318720\n",
      "File Name: datasets/non_mental_health/legaladvice_2019_features_tfidf_256.csv\n",
      "length of df:  373996\n",
      "File Name: datasets/non_mental_health/meditation_2018_features_tfidf_256.csv\n",
      "length of df:  376201\n",
      "File Name: datasets/non_mental_health/meditation_post_features_tfidf_256.csv\n",
      "length of df:  379908\n",
      "File Name: datasets/non_mental_health/meditation_2019_features_tfidf_256.csv\n",
      "length of df:  382615\n",
      "File Name: datasets/non_mental_health/parenting_2018_features_tfidf_256.csv\n",
      "length of df:  385695\n",
      "File Name: datasets/non_mental_health/parenting_2019_features_tfidf_256.csv\n",
      "length of df:  392067\n",
      "File Name: datasets/non_mental_health/parenting_post_features_tfidf_256.csv\n",
      "length of df:  399112\n",
      "File Name: datasets/non_mental_health/meditation_pre_features_tfidf_256.csv\n",
      "length of df:  406968\n",
      "File Name: datasets/non_mental_health/parenting_pre_features_tfidf_256.csv\n",
      "length of df:  424339\n",
      "File Name: datasets/non_mental_health/personalfinance_2019_features_tfidf_256.csv\n",
      "length of df:  460073\n",
      "File Name: datasets/non_mental_health/personalfinance_2018_features_tfidf_256.csv\n",
      "length of df:  491872\n",
      "File Name: datasets/non_mental_health/personalfinance_post_features_tfidf_256.csv\n",
      "length of df:  529037\n",
      "File Name: datasets/non_mental_health/relationships_post_features_tfidf_256.csv\n",
      "length of df:  549804\n",
      "File Name: datasets/non_mental_health/relationships_2019_features_tfidf_256.csv\n",
      "length of df:  574479\n",
      "File Name: datasets/non_mental_health/relationships_2018_features_tfidf_256.csv\n",
      "length of df:  591223\n",
      "File Name: datasets/non_mental_health/relationships_pre_features_tfidf_256.csv\n",
      "length of df:  606260\n",
      "File Name: datasets/non_mental_health/personalfinance_pre_features_tfidf_256.csv\n",
      "length of df:  629700\n",
      "File Name: datasets/non_mental_health/teaching_pre_features_tfidf_256.csv\n",
      "length of df:  632050\n",
      "File Name: datasets/non_mental_health/teaching_post_features_tfidf_256.csv\n",
      "length of df:  633113\n",
      "File Name: datasets/non_mental_health/teaching_2019_features_tfidf_256.csv\n",
      "length of df:  633940\n",
      "File Name: datasets/non_mental_health/teaching_2018_features_tfidf_256.csv\n",
      "length of df:  634489\n"
     ]
    }
   ],
   "source": [
    "# load non-mental health issues data\n",
    "for i in range(len(non_mental_health_csv_files)):\n",
    "\n",
    "    if i == 0:\n",
    "      non_mental_health_df = pd.read_csv(non_mental_health_csv_files[i], encoding='utf-8')\n",
    "    else:\n",
    "      non_mental_health_df = pd.concat([non_mental_health_df, pd.read_csv(non_mental_health_csv_files[i], encoding='utf-8')])\n",
    "      \n",
    "    # print the location and filename\n",
    "    print('File Name:', non_mental_health_csv_files[i])\n",
    "      \n",
    "    # print the content\n",
    "    print(\"length of df: \", len(non_mental_health_df))"
   ]
  },
  {
   "cell_type": "code",
   "execution_count": null,
   "metadata": {
    "colab": {
     "base_uri": "https://localhost:8080/",
     "height": 667
    },
    "id": "6oaio4pz7Al6",
    "outputId": "d6c325e6-d866-42a7-8025-80876c0684eb",
    "scrolled": true
   },
   "outputs": [
    {
     "data": {
      "text/html": [
       "\n",
       "  <div id=\"df-93f0489a-6837-4d30-bac9-eee4042cb04d\">\n",
       "    <div class=\"colab-df-container\">\n",
       "      <div>\n",
       "<style scoped>\n",
       "    .dataframe tbody tr th:only-of-type {\n",
       "        vertical-align: middle;\n",
       "    }\n",
       "\n",
       "    .dataframe tbody tr th {\n",
       "        vertical-align: top;\n",
       "    }\n",
       "\n",
       "    .dataframe thead th {\n",
       "        text-align: right;\n",
       "    }\n",
       "</style>\n",
       "<table border=\"1\" class=\"dataframe\">\n",
       "  <thead>\n",
       "    <tr style=\"text-align: right;\">\n",
       "      <th></th>\n",
       "      <th>subreddit</th>\n",
       "      <th>author</th>\n",
       "      <th>date</th>\n",
       "      <th>post</th>\n",
       "    </tr>\n",
       "  </thead>\n",
       "  <tbody>\n",
       "    <tr>\n",
       "      <th>0</th>\n",
       "      <td>addiction</td>\n",
       "      <td>iephillips</td>\n",
       "      <td>2019/04/16</td>\n",
       "      <td>Heroin Should I tell my ex wife that I tried heroin?</td>\n",
       "    </tr>\n",
       "    <tr>\n",
       "      <th>1</th>\n",
       "      <td>addiction</td>\n",
       "      <td>michaelmichael861</td>\n",
       "      <td>2019/04/16</td>\n",
       "      <td>Strange side effects, please give any advice. For roughly the past four years, I had not been able to go more than a few days without drinking. I drank pretty heavily, and also smoked a lot of pot.This began to affect my focus, which caused me to go on Adderall 2 years ago. I also smoked cigarettes pretty heavily. I'm recently, as of the past two months, completely sober of everything but marijuana, which I tried to quit a week ago. This is the longest I've ever gone without drinking as in every other time I tried to quit I barely lasted 3-4 days.\\n\\n&amp;amp;#x200B;\\n\\nI wanted to discuss two side effects that are one bad and the other maybe bad/strange and definitely would like some of your advice on.\\n\\n&amp;amp;#x200B;\\n\\nI have never gone this long without using alcohol, by the way, the adderall and cigarettes are just an added bonus. It's an amazing feeling I have, but I want to address the fact that I have substituted alcohol with working out. I find this bizarre, but cool at the same time. I also experienced intense anger issues 3 days ago when I tried to quit marijuana.\\n\\n&amp;amp;#x200B;\\n\\nI worked out for four hours straight one day.\\n\\n&amp;amp;#x200B;\\n\\nHas anyone experienced any strange substitutions like this?\\n\\n&amp;amp;#x200B;\\n\\nI guess my question to summarize, is do you, or is it common for people to experience weird substitutes and/or the intense anger that came three days ago when I tried to quit marijuana?\\n\\n&amp;amp;#x200B;\\n\\nWeed's the last thing I need to quit.\\n\\n&amp;amp;#x200B;\\n\\nI'm very proud of myself and don't want to screw this up. I've never felt or looked this amazing.</td>\n",
       "    </tr>\n",
       "    <tr>\n",
       "      <th>2</th>\n",
       "      <td>addiction</td>\n",
       "      <td>waismannmethod</td>\n",
       "      <td>2019/04/16</td>\n",
       "      <td>New York Heroin Use Figures Higher Than US Average  We need to be very careful when reading these reports in order to understand what they really mean. Not long ago, people got excited about reports showing a decline in the number of people abusing prescription opiates. The real reason for the decline, however, was that people escalated their use from pills to heroin. In other words, news that was supposed to be good should actually have been a reason for alarm!\\n\\nAs [opioid treatment specialists](https://www.opiates.com/opioid-treatment/) for over 20 years, we see patients who fly in from all over the country. Lately, a large number of our heroin patients, especially from the east coast, have tested negative for opioids. What does that mean? It means we don't even know what is being sold on the streets as \"heroin.\" As similar as the euphoria is to a heroin high, the chemicals used are unknown. We are treating these patients in the hospital while preparing for very unusual withdrawal symptoms.\\n\\nSo when I see reports about a decline in addiction to a certain drug, I become wary of the news. Effective detoxification followed by accessible, individual mental health is still a rarity. Without that or other clear, positive factors to cause that decline, the real reason for the decline needs to be carefully identified.</td>\n",
       "    </tr>\n",
       "    <tr>\n",
       "      <th>3</th>\n",
       "      <td>addiction</td>\n",
       "      <td>StunnyG</td>\n",
       "      <td>2019/04/16</td>\n",
       "      <td>New here but not to recovery. Looking to share my song/video with those that know exactly what it’s like! It’s up to ME to find relief and it starts within, can’t always rely on drugs or sex! My name is StunnyG and I am a hip hop artist in recovery. I find releasing these emotions over a beat to be extremely helpful and I truly hope you all will enjoy this! Do not mean to spam, I really hope this helps someone get another day clean or shocks someones system into starting the process of getting clean. \\n[Come Here (Official Music Video) WARNING: May contain triggers!](https://youtu.be/3Egm4pirrJY)</td>\n",
       "    </tr>\n",
       "    <tr>\n",
       "      <th>4</th>\n",
       "      <td>addiction</td>\n",
       "      <td>8923578295789advice</td>\n",
       "      <td>2019/04/16</td>\n",
       "      <td>im clean my aunt (who i live with) found a packet of cigarettes in the trash, she then searched my room and found all my smoking gear (i also smoke pot) and when i got home she confronted me about it. i admitted i had an addiction, and since she smoked when she was younger but got off it, she knew what to do. she went into the garage and found a bunch of spare locks she had lying around, then she took me to the top floor of the house where the spare room is, a room that had 2 locks on it. she shut me in and locked the door behind me. she told me she'd give me a load of food every morning, then go out to work and leave me at home to go thru withdrawals. i tried to resist but she'd already locked me in, and the deal was done. there was a bed and nothing else in the room. the withdrawals were basically finished by the first week but she kept me in for a second for good measure. she let me out at the end of the 2nd week and took me to five guys to congratulate me. its quite extreme but it worked. im clean :)</td>\n",
       "    </tr>\n",
       "  </tbody>\n",
       "</table>\n",
       "</div>\n",
       "      <button class=\"colab-df-convert\" onclick=\"convertToInteractive('df-93f0489a-6837-4d30-bac9-eee4042cb04d')\"\n",
       "              title=\"Convert this dataframe to an interactive table.\"\n",
       "              style=\"display:none;\">\n",
       "        \n",
       "  <svg xmlns=\"http://www.w3.org/2000/svg\" height=\"24px\"viewBox=\"0 0 24 24\"\n",
       "       width=\"24px\">\n",
       "    <path d=\"M0 0h24v24H0V0z\" fill=\"none\"/>\n",
       "    <path d=\"M18.56 5.44l.94 2.06.94-2.06 2.06-.94-2.06-.94-.94-2.06-.94 2.06-2.06.94zm-11 1L8.5 8.5l.94-2.06 2.06-.94-2.06-.94L8.5 2.5l-.94 2.06-2.06.94zm10 10l.94 2.06.94-2.06 2.06-.94-2.06-.94-.94-2.06-.94 2.06-2.06.94z\"/><path d=\"M17.41 7.96l-1.37-1.37c-.4-.4-.92-.59-1.43-.59-.52 0-1.04.2-1.43.59L10.3 9.45l-7.72 7.72c-.78.78-.78 2.05 0 2.83L4 21.41c.39.39.9.59 1.41.59.51 0 1.02-.2 1.41-.59l7.78-7.78 2.81-2.81c.8-.78.8-2.07 0-2.86zM5.41 20L4 18.59l7.72-7.72 1.47 1.35L5.41 20z\"/>\n",
       "  </svg>\n",
       "      </button>\n",
       "      \n",
       "  <style>\n",
       "    .colab-df-container {\n",
       "      display:flex;\n",
       "      flex-wrap:wrap;\n",
       "      gap: 12px;\n",
       "    }\n",
       "\n",
       "    .colab-df-convert {\n",
       "      background-color: #E8F0FE;\n",
       "      border: none;\n",
       "      border-radius: 50%;\n",
       "      cursor: pointer;\n",
       "      display: none;\n",
       "      fill: #1967D2;\n",
       "      height: 32px;\n",
       "      padding: 0 0 0 0;\n",
       "      width: 32px;\n",
       "    }\n",
       "\n",
       "    .colab-df-convert:hover {\n",
       "      background-color: #E2EBFA;\n",
       "      box-shadow: 0px 1px 2px rgba(60, 64, 67, 0.3), 0px 1px 3px 1px rgba(60, 64, 67, 0.15);\n",
       "      fill: #174EA6;\n",
       "    }\n",
       "\n",
       "    [theme=dark] .colab-df-convert {\n",
       "      background-color: #3B4455;\n",
       "      fill: #D2E3FC;\n",
       "    }\n",
       "\n",
       "    [theme=dark] .colab-df-convert:hover {\n",
       "      background-color: #434B5C;\n",
       "      box-shadow: 0px 1px 3px 1px rgba(0, 0, 0, 0.15);\n",
       "      filter: drop-shadow(0px 1px 2px rgba(0, 0, 0, 0.3));\n",
       "      fill: #FFFFFF;\n",
       "    }\n",
       "  </style>\n",
       "\n",
       "      <script>\n",
       "        const buttonEl =\n",
       "          document.querySelector('#df-93f0489a-6837-4d30-bac9-eee4042cb04d button.colab-df-convert');\n",
       "        buttonEl.style.display =\n",
       "          google.colab.kernel.accessAllowed ? 'block' : 'none';\n",
       "\n",
       "        async function convertToInteractive(key) {\n",
       "          const element = document.querySelector('#df-93f0489a-6837-4d30-bac9-eee4042cb04d');\n",
       "          const dataTable =\n",
       "            await google.colab.kernel.invokeFunction('convertToInteractive',\n",
       "                                                     [key], {});\n",
       "          if (!dataTable) return;\n",
       "\n",
       "          const docLinkHtml = 'Like what you see? Visit the ' +\n",
       "            '<a target=\"_blank\" href=https://colab.research.google.com/notebooks/data_table.ipynb>data table notebook</a>'\n",
       "            + ' to learn more about interactive tables.';\n",
       "          element.innerHTML = '';\n",
       "          dataTable['output_type'] = 'display_data';\n",
       "          await google.colab.output.renderOutput(dataTable, element);\n",
       "          const docLink = document.createElement('div');\n",
       "          docLink.innerHTML = docLinkHtml;\n",
       "          element.appendChild(docLink);\n",
       "        }\n",
       "      </script>\n",
       "    </div>\n",
       "  </div>\n",
       "  "
      ],
      "text/plain": [
       "   subreddit               author        date  \\\n",
       "0  addiction           iephillips  2019/04/16   \n",
       "1  addiction    michaelmichael861  2019/04/16   \n",
       "2  addiction       waismannmethod  2019/04/16   \n",
       "3  addiction              StunnyG  2019/04/16   \n",
       "4  addiction  8923578295789advice  2019/04/16   \n",
       "\n",
       "                                                                                                                                                                                                                                                                                                                                                                                                                                                                                                                                                                                                                                                                                                                                                                                                                                                                                                                                                                                                                                                                                                                                                                                                                                                                                                                                                                                                                                                                                                                                                                                                                                                                         post  \n",
       "0                                                                                                                                                                                                                                                                                                                                                                                                                                                                                                                                                                                                                                                                                                                                                                                                                                                                                                                                                                                                                                                                                                                                                                                                                                                                                                                                                                                                                                                                                                                                                                                                                        Heroin Should I tell my ex wife that I tried heroin?  \n",
       "1  Strange side effects, please give any advice. For roughly the past four years, I had not been able to go more than a few days without drinking. I drank pretty heavily, and also smoked a lot of pot.This began to affect my focus, which caused me to go on Adderall 2 years ago. I also smoked cigarettes pretty heavily. I'm recently, as of the past two months, completely sober of everything but marijuana, which I tried to quit a week ago. This is the longest I've ever gone without drinking as in every other time I tried to quit I barely lasted 3-4 days.\\n\\n&amp;#x200B;\\n\\nI wanted to discuss two side effects that are one bad and the other maybe bad/strange and definitely would like some of your advice on.\\n\\n&amp;#x200B;\\n\\nI have never gone this long without using alcohol, by the way, the adderall and cigarettes are just an added bonus. It's an amazing feeling I have, but I want to address the fact that I have substituted alcohol with working out. I find this bizarre, but cool at the same time. I also experienced intense anger issues 3 days ago when I tried to quit marijuana.\\n\\n&amp;#x200B;\\n\\nI worked out for four hours straight one day.\\n\\n&amp;#x200B;\\n\\nHas anyone experienced any strange substitutions like this?\\n\\n&amp;#x200B;\\n\\nI guess my question to summarize, is do you, or is it common for people to experience weird substitutes and/or the intense anger that came three days ago when I tried to quit marijuana?\\n\\n&amp;#x200B;\\n\\nWeed's the last thing I need to quit.\\n\\n&amp;#x200B;\\n\\nI'm very proud of myself and don't want to screw this up. I've never felt or looked this amazing.  \n",
       "2                                                                                                                                                                                                                                                                                   New York Heroin Use Figures Higher Than US Average  We need to be very careful when reading these reports in order to understand what they really mean. Not long ago, people got excited about reports showing a decline in the number of people abusing prescription opiates. The real reason for the decline, however, was that people escalated their use from pills to heroin. In other words, news that was supposed to be good should actually have been a reason for alarm!\\n\\nAs [opioid treatment specialists](https://www.opiates.com/opioid-treatment/) for over 20 years, we see patients who fly in from all over the country. Lately, a large number of our heroin patients, especially from the east coast, have tested negative for opioids. What does that mean? It means we don't even know what is being sold on the streets as \"heroin.\" As similar as the euphoria is to a heroin high, the chemicals used are unknown. We are treating these patients in the hospital while preparing for very unusual withdrawal symptoms.\\n\\nSo when I see reports about a decline in addiction to a certain drug, I become wary of the news. Effective detoxification followed by accessible, individual mental health is still a rarity. Without that or other clear, positive factors to cause that decline, the real reason for the decline needs to be carefully identified.  \n",
       "3                                                                                                                                                                                                                                                                                                                                                                                                                                                                                                                                                                                                                                                                                                                                                                                                                                                                                                                                                                                                                                                 New here but not to recovery. Looking to share my song/video with those that know exactly what it’s like! It’s up to ME to find relief and it starts within, can’t always rely on drugs or sex! My name is StunnyG and I am a hip hop artist in recovery. I find releasing these emotions over a beat to be extremely helpful and I truly hope you all will enjoy this! Do not mean to spam, I really hope this helps someone get another day clean or shocks someones system into starting the process of getting clean. \\n[Come Here (Official Music Video) WARNING: May contain triggers!](https://youtu.be/3Egm4pirrJY)  \n",
       "4                                                                                                                                                                                                                                                                                                                                                                                                                                                                                                                                                                                                                 im clean my aunt (who i live with) found a packet of cigarettes in the trash, she then searched my room and found all my smoking gear (i also smoke pot) and when i got home she confronted me about it. i admitted i had an addiction, and since she smoked when she was younger but got off it, she knew what to do. she went into the garage and found a bunch of spare locks she had lying around, then she took me to the top floor of the house where the spare room is, a room that had 2 locks on it. she shut me in and locked the door behind me. she told me she'd give me a load of food every morning, then go out to work and leave me at home to go thru withdrawals. i tried to resist but she'd already locked me in, and the deal was done. there was a bed and nothing else in the room. the withdrawals were basically finished by the first week but she kept me in for a second for good measure. she let me out at the end of the 2nd week and took me to five guys to congratulate me. its quite extreme but it worked. im clean :)  "
      ]
     },
     "execution_count": 8,
     "metadata": {},
     "output_type": "execute_result"
    }
   ],
   "source": [
    "short_1 = mental_health_df[[\"subreddit\", \"author\", \"date\", \"post\"]]\n",
    "short_1.head(5)"
   ]
  },
  {
   "cell_type": "code",
   "execution_count": null,
   "metadata": {
    "colab": {
     "base_uri": "https://localhost:8080/"
    },
    "id": "BVBID8x2L7fK",
    "outputId": "7701b985-afcd-4736-ff5a-959efa2cbd35"
   },
   "outputs": [
    {
     "name": "stdout",
     "output_type": "stream",
     "text": [
      "num_1_labels:  472813\n"
     ]
    }
   ],
   "source": [
    "print(\"num_1_labels: \", len(short_1))"
   ]
  },
  {
   "cell_type": "code",
   "execution_count": null,
   "metadata": {
    "id": "N-R53ZBOLvtB"
   },
   "outputs": [],
   "source": [
    "del mental_health_df"
   ]
  },
  {
   "cell_type": "code",
   "execution_count": null,
   "metadata": {
    "colab": {
     "base_uri": "https://localhost:8080/",
     "height": 649
    },
    "id": "alsssdThIGJY",
    "outputId": "355c0186-ae67-46b2-e08f-a842e1a1f422"
   },
   "outputs": [
    {
     "data": {
      "text/html": [
       "\n",
       "  <div id=\"df-5fdb5e68-00c6-4b69-a7dc-4eab5a183d1f\">\n",
       "    <div class=\"colab-df-container\">\n",
       "      <div>\n",
       "<style scoped>\n",
       "    .dataframe tbody tr th:only-of-type {\n",
       "        vertical-align: middle;\n",
       "    }\n",
       "\n",
       "    .dataframe tbody tr th {\n",
       "        vertical-align: top;\n",
       "    }\n",
       "\n",
       "    .dataframe thead th {\n",
       "        text-align: right;\n",
       "    }\n",
       "</style>\n",
       "<table border=\"1\" class=\"dataframe\">\n",
       "  <thead>\n",
       "    <tr style=\"text-align: right;\">\n",
       "      <th></th>\n",
       "      <th>subreddit</th>\n",
       "      <th>author</th>\n",
       "      <th>date</th>\n",
       "      <th>post</th>\n",
       "    </tr>\n",
       "  </thead>\n",
       "  <tbody>\n",
       "    <tr>\n",
       "      <th>0</th>\n",
       "      <td>conspiracy</td>\n",
       "      <td>catvlyst</td>\n",
       "      <td>2018/12/17</td>\n",
       "      <td>My argument against the annunaki narrative One idea I’ve always toyed with is whether or not there is any truth to Zecharia Sitchin’s work pertaining to the idea that extraterrestrials have been manipulating our government since at least Sumerian times. After watching countless annunaki videos on YouTube, I’ve concluded that the idea is mostly new age pseudoscience. Thinking of things rationally, the idea that a species that’s advanced enough to travel inter galactic-ally would come all the way here to engineer a slave race to mine for gold instead of simply using AI is ridiculous. Then deciding that their creation is so disobedient that they need to take them out with a flood, it just sounds like complete mythology to me. And the idea of their planet Nibiru rotating around two suns in the opposite direction, I feel it doesn’t reflect accurate astronomy at all. Why there definitely may be a large planet beyond Pluto somewhere, I don’t believe it’s more likely to have life than any others with an atmosphere similar to earth.\\n\\nI always consider all views but my belief is that if extra terrestrials are here already, it’s not related to the mainstream narrative that’s portrayed to the public.\\n\\nJust my opinion, other input is welcome.</td>\n",
       "    </tr>\n",
       "    <tr>\n",
       "      <th>1</th>\n",
       "      <td>conspiracy</td>\n",
       "      <td>When_The_Dank_Hits</td>\n",
       "      <td>2018/12/17</td>\n",
       "      <td>diagram of all involved in 911 is there a diagram of every person and company involved in 911 attacks ?</td>\n",
       "    </tr>\n",
       "    <tr>\n",
       "      <th>2</th>\n",
       "      <td>conspiracy</td>\n",
       "      <td>freethinker78</td>\n",
       "      <td>2018/12/17</td>\n",
       "      <td>Is the US government analyzing online comments and putting some people in killing lists? It was revealed during the Obama administration that the US government had an assassination program, which was used to find and kill US citizens,  including a 16-year-old, who were suspected members of military adversaries. It is incredibly alarming and hard to believe that the US government can do this, apparently even legally. \\n\\nI wonder if at this very moment our own online comments are being analyzed and some names submitted to be candidates for the killing list. Can you really fathom that this actually really may be happening? It is hard to believe but I think it is happening. \\n\\nTake good care my fellow concerned citizens. And may one day US elections be won by good people who really get to stop all the chaos, death and destruction that successive US administrations are bringing to the world. \\n\\n[https://www.theguardian.com/commentisfree/2013/feb/05/obama-kill-list-doj-memo](https://www.theguardian.com/commentisfree/2013/feb/05/obama-kill-list-doj-memo)</td>\n",
       "    </tr>\n",
       "    <tr>\n",
       "      <th>3</th>\n",
       "      <td>conspiracy</td>\n",
       "      <td>MrBobosky</td>\n",
       "      <td>2018/12/17</td>\n",
       "      <td>Who owns the media? It’s clear that many companies grow uncorrupted. That’s just the result of capitalism. \\n\\nBut I’ve always wondered who owns the major media companies once they’ve grown. I mean, somebody is clearly trying to buy them out to further their agenda.\\n\\nI’m not referring to companies like CNN. I’m referring to Facebook, SnapChat, YouTube and so on. THESE are the media’s of the future. \\n\\nSometimes for fun I will go on Snapchat and look at the news stories that it shows. To me that indicates what kind of ideas they are trying to put in our minds.\\n\\nOf course, some companies aren’t going to sell out. Maybe Snapchat hasn’t. But it all just makes me wonder, who is buying out these companies? \\n\\n</td>\n",
       "    </tr>\n",
       "    <tr>\n",
       "      <th>4</th>\n",
       "      <td>conspiracy</td>\n",
       "      <td>KodiakDog</td>\n",
       "      <td>2018/12/17</td>\n",
       "      <td>[Discussion] Top Secret Pharmaceuticals Does anybody have any good sources for militarized (and/or elite) applications of pharmaceuticals?, We always hear about different secret technologies that the government/defense agencies are developing or sitting on; whether it be direct energy weapons/death rays, unconventional aircraft, weather modifications and the likes, but I rarely hear of any theories of pharma technologies that enhance the most important resource (arguably) in any military, the human being itself. Outside of the classic MKUltra experiments with LSD and hypnosis and what not does anyone have any good videos or reads on different theories of potential substances that the elite mercenaries have access too? Shit, I’d be interested in any resources that discuss the top secret alteration of biology in any kind of way to enhance the warrior. \\n\\nIt seems to me that an amphetamine style stimulant with some kind of sensory enhancing, but also pain numbing drug would be worth researching. We really don’t know the limits of pharmaceuticals. I don’t think it is so far-fetched to believe that there is a significant chunk of the black budget that goes towards developing these kinds of things for combat uses.\\n\\nWhat do y’all think? Have any theories of your own?</td>\n",
       "    </tr>\n",
       "  </tbody>\n",
       "</table>\n",
       "</div>\n",
       "      <button class=\"colab-df-convert\" onclick=\"convertToInteractive('df-5fdb5e68-00c6-4b69-a7dc-4eab5a183d1f')\"\n",
       "              title=\"Convert this dataframe to an interactive table.\"\n",
       "              style=\"display:none;\">\n",
       "        \n",
       "  <svg xmlns=\"http://www.w3.org/2000/svg\" height=\"24px\"viewBox=\"0 0 24 24\"\n",
       "       width=\"24px\">\n",
       "    <path d=\"M0 0h24v24H0V0z\" fill=\"none\"/>\n",
       "    <path d=\"M18.56 5.44l.94 2.06.94-2.06 2.06-.94-2.06-.94-.94-2.06-.94 2.06-2.06.94zm-11 1L8.5 8.5l.94-2.06 2.06-.94-2.06-.94L8.5 2.5l-.94 2.06-2.06.94zm10 10l.94 2.06.94-2.06 2.06-.94-2.06-.94-.94-2.06-.94 2.06-2.06.94z\"/><path d=\"M17.41 7.96l-1.37-1.37c-.4-.4-.92-.59-1.43-.59-.52 0-1.04.2-1.43.59L10.3 9.45l-7.72 7.72c-.78.78-.78 2.05 0 2.83L4 21.41c.39.39.9.59 1.41.59.51 0 1.02-.2 1.41-.59l7.78-7.78 2.81-2.81c.8-.78.8-2.07 0-2.86zM5.41 20L4 18.59l7.72-7.72 1.47 1.35L5.41 20z\"/>\n",
       "  </svg>\n",
       "      </button>\n",
       "      \n",
       "  <style>\n",
       "    .colab-df-container {\n",
       "      display:flex;\n",
       "      flex-wrap:wrap;\n",
       "      gap: 12px;\n",
       "    }\n",
       "\n",
       "    .colab-df-convert {\n",
       "      background-color: #E8F0FE;\n",
       "      border: none;\n",
       "      border-radius: 50%;\n",
       "      cursor: pointer;\n",
       "      display: none;\n",
       "      fill: #1967D2;\n",
       "      height: 32px;\n",
       "      padding: 0 0 0 0;\n",
       "      width: 32px;\n",
       "    }\n",
       "\n",
       "    .colab-df-convert:hover {\n",
       "      background-color: #E2EBFA;\n",
       "      box-shadow: 0px 1px 2px rgba(60, 64, 67, 0.3), 0px 1px 3px 1px rgba(60, 64, 67, 0.15);\n",
       "      fill: #174EA6;\n",
       "    }\n",
       "\n",
       "    [theme=dark] .colab-df-convert {\n",
       "      background-color: #3B4455;\n",
       "      fill: #D2E3FC;\n",
       "    }\n",
       "\n",
       "    [theme=dark] .colab-df-convert:hover {\n",
       "      background-color: #434B5C;\n",
       "      box-shadow: 0px 1px 3px 1px rgba(0, 0, 0, 0.15);\n",
       "      filter: drop-shadow(0px 1px 2px rgba(0, 0, 0, 0.3));\n",
       "      fill: #FFFFFF;\n",
       "    }\n",
       "  </style>\n",
       "\n",
       "      <script>\n",
       "        const buttonEl =\n",
       "          document.querySelector('#df-5fdb5e68-00c6-4b69-a7dc-4eab5a183d1f button.colab-df-convert');\n",
       "        buttonEl.style.display =\n",
       "          google.colab.kernel.accessAllowed ? 'block' : 'none';\n",
       "\n",
       "        async function convertToInteractive(key) {\n",
       "          const element = document.querySelector('#df-5fdb5e68-00c6-4b69-a7dc-4eab5a183d1f');\n",
       "          const dataTable =\n",
       "            await google.colab.kernel.invokeFunction('convertToInteractive',\n",
       "                                                     [key], {});\n",
       "          if (!dataTable) return;\n",
       "\n",
       "          const docLinkHtml = 'Like what you see? Visit the ' +\n",
       "            '<a target=\"_blank\" href=https://colab.research.google.com/notebooks/data_table.ipynb>data table notebook</a>'\n",
       "            + ' to learn more about interactive tables.';\n",
       "          element.innerHTML = '';\n",
       "          dataTable['output_type'] = 'display_data';\n",
       "          await google.colab.output.renderOutput(dataTable, element);\n",
       "          const docLink = document.createElement('div');\n",
       "          docLink.innerHTML = docLinkHtml;\n",
       "          element.appendChild(docLink);\n",
       "        }\n",
       "      </script>\n",
       "    </div>\n",
       "  </div>\n",
       "  "
      ],
      "text/plain": [
       "    subreddit              author        date  \\\n",
       "0  conspiracy            catvlyst  2018/12/17   \n",
       "1  conspiracy  When_The_Dank_Hits  2018/12/17   \n",
       "2  conspiracy       freethinker78  2018/12/17   \n",
       "3  conspiracy           MrBobosky  2018/12/17   \n",
       "4  conspiracy           KodiakDog  2018/12/17   \n",
       "\n",
       "                                                                                                                                                                                                                                                                                                                                                                                                                                                                                                                                                                                                                                                                                                                                                                                                                                                                                                                                                                                                                                                                                                                                                                                                                                                                                                                                  post  \n",
       "0                                My argument against the annunaki narrative One idea I’ve always toyed with is whether or not there is any truth to Zecharia Sitchin’s work pertaining to the idea that extraterrestrials have been manipulating our government since at least Sumerian times. After watching countless annunaki videos on YouTube, I’ve concluded that the idea is mostly new age pseudoscience. Thinking of things rationally, the idea that a species that’s advanced enough to travel inter galactic-ally would come all the way here to engineer a slave race to mine for gold instead of simply using AI is ridiculous. Then deciding that their creation is so disobedient that they need to take them out with a flood, it just sounds like complete mythology to me. And the idea of their planet Nibiru rotating around two suns in the opposite direction, I feel it doesn’t reflect accurate astronomy at all. Why there definitely may be a large planet beyond Pluto somewhere, I don’t believe it’s more likely to have life than any others with an atmosphere similar to earth.\\n\\nI always consider all views but my belief is that if extra terrestrials are here already, it’s not related to the mainstream narrative that’s portrayed to the public.\\n\\nJust my opinion, other input is welcome.  \n",
       "1                                                                                                                                                                                                                                                                                                                                                                                                                                                                                                                                                                                                                                                                                                                                                                                                                                                                                                                                                                                                                                                                                                                                                                                                                              diagram of all involved in 911 is there a diagram of every person and company involved in 911 attacks ?  \n",
       "2                                                                                                                                                                                                                           Is the US government analyzing online comments and putting some people in killing lists? It was revealed during the Obama administration that the US government had an assassination program, which was used to find and kill US citizens,  including a 16-year-old, who were suspected members of military adversaries. It is incredibly alarming and hard to believe that the US government can do this, apparently even legally. \\n\\nI wonder if at this very moment our own online comments are being analyzed and some names submitted to be candidates for the killing list. Can you really fathom that this actually really may be happening? It is hard to believe but I think it is happening. \\n\\nTake good care my fellow concerned citizens. And may one day US elections be won by good people who really get to stop all the chaos, death and destruction that successive US administrations are bringing to the world. \\n\\n[https://www.theguardian.com/commentisfree/2013/feb/05/obama-kill-list-doj-memo](https://www.theguardian.com/commentisfree/2013/feb/05/obama-kill-list-doj-memo)  \n",
       "3                                                                                                                                                                                                                                                                                                                                                                                                                                                                                                                                                                                      Who owns the media? It’s clear that many companies grow uncorrupted. That’s just the result of capitalism. \\n\\nBut I’ve always wondered who owns the major media companies once they’ve grown. I mean, somebody is clearly trying to buy them out to further their agenda.\\n\\nI’m not referring to companies like CNN. I’m referring to Facebook, SnapChat, YouTube and so on. THESE are the media’s of the future. \\n\\nSometimes for fun I will go on Snapchat and look at the news stories that it shows. To me that indicates what kind of ideas they are trying to put in our minds.\\n\\nOf course, some companies aren’t going to sell out. Maybe Snapchat hasn’t. But it all just makes me wonder, who is buying out these companies? \\n\\n  \n",
       "4  [Discussion] Top Secret Pharmaceuticals Does anybody have any good sources for militarized (and/or elite) applications of pharmaceuticals?, We always hear about different secret technologies that the government/defense agencies are developing or sitting on; whether it be direct energy weapons/death rays, unconventional aircraft, weather modifications and the likes, but I rarely hear of any theories of pharma technologies that enhance the most important resource (arguably) in any military, the human being itself. Outside of the classic MKUltra experiments with LSD and hypnosis and what not does anyone have any good videos or reads on different theories of potential substances that the elite mercenaries have access too? Shit, I’d be interested in any resources that discuss the top secret alteration of biology in any kind of way to enhance the warrior. \\n\\nIt seems to me that an amphetamine style stimulant with some kind of sensory enhancing, but also pain numbing drug would be worth researching. We really don’t know the limits of pharmaceuticals. I don’t think it is so far-fetched to believe that there is a significant chunk of the black budget that goes towards developing these kinds of things for combat uses.\\n\\nWhat do y’all think? Have any theories of your own?  "
      ]
     },
     "execution_count": 10,
     "metadata": {},
     "output_type": "execute_result"
    }
   ],
   "source": [
    "short_0 = non_mental_health_df[[\"subreddit\", \"author\", \"date\", \"post\"]]\n",
    "short_0.head(5)"
   ]
  },
  {
   "cell_type": "code",
   "execution_count": null,
   "metadata": {
    "colab": {
     "base_uri": "https://localhost:8080/"
    },
    "id": "wj5LzcX6MtlL",
    "outputId": "9fc51312-6643-4f8b-fc05-65b5324d5da8"
   },
   "outputs": [
    {
     "name": "stderr",
     "output_type": "stream",
     "text": [
      "<ipython-input-12-f608f7073bbc>:1: SettingWithCopyWarning: \n",
      "A value is trying to be set on a copy of a slice from a DataFrame.\n",
      "Try using .loc[row_indexer,col_indexer] = value instead\n",
      "\n",
      "See the caveats in the documentation: https://pandas.pydata.org/pandas-docs/stable/user_guide/indexing.html#returning-a-view-versus-a-copy\n",
      "  short_0[\"label\"] = 0\n"
     ]
    }
   ],
   "source": [
    "# add label column\n",
    "short_0[\"label\"] = 0\n",
    "short_1[\"label\"] = 1"
   ]
  },
  {
   "cell_type": "code",
   "execution_count": null,
   "metadata": {
    "id": "jKcbPFUVLygs"
   },
   "outputs": [],
   "source": [
    "del non_mental_health_df"
   ]
  },
  {
   "cell_type": "code",
   "execution_count": null,
   "metadata": {
    "colab": {
     "base_uri": "https://localhost:8080/"
    },
    "id": "zraVJezZMBD0",
    "outputId": "23193aeb-7824-4f7b-b0c8-d42ad2f06d23"
   },
   "outputs": [
    {
     "name": "stdout",
     "output_type": "stream",
     "text": [
      "num_0_labels:  634489\n"
     ]
    }
   ],
   "source": [
    "print(\"num_0_labels: \", len(short_0))"
   ]
  },
  {
   "cell_type": "code",
   "execution_count": null,
   "metadata": {
    "id": "pkyE2TMcNib3"
   },
   "outputs": [],
   "source": [
    "# concatenate data into 1 dataframe\n",
    "df = pd.concat([short_0, short_1])\n",
    "del short_0\n",
    "del short_1"
   ]
  },
  {
   "cell_type": "code",
   "execution_count": null,
   "metadata": {
    "id": "IgEPLcFS7Al9"
   },
   "outputs": [],
   "source": [
    "CONTRACTIONS = load_dict_contractions()\n",
    "SMILEY = load_dict_smileys()\n",
    "\n",
    "from nltk.stem import WordNetLemmatizer\n",
    "wnl = WordNetLemmatizer()\n",
    "\n",
    "def lemmatize(text, wnl):\n",
    "    # cleaned_tokens = [wnl.lemmatize(ps.stem(x)) for x in word_tokenize(text)]\n",
    "    cleaned_tokens = [wnl.lemmatize(str(x)) for x in word_tokenize(str(text))]\n",
    "    text = \" \".join(cleaned_tokens)\n",
    "    return text"
   ]
  },
  {
   "cell_type": "code",
   "execution_count": null,
   "metadata": {
    "id": "My9qFDiK7AmA"
   },
   "outputs": [],
   "source": [
    "df[\"num_char\"] = df[\"post\"].apply(get_num_char)\n",
    "df[\"text_processed\"] = df[\"post\"] \\\n",
    "    .apply(replace_trailing_space) \\\n",
    "    .apply(lower)\n",
    "df[\"mentioned_usernames\"] = df['text_processed'].apply(get_username)\n",
    "df[\"num_mentioned_usernames\"] = df[\"mentioned_usernames\"].apply(get_len)\n",
    "df[\"mentioned_urls\"] = df['post'].apply(get_url)\n",
    "df[\"num_mentioned_urls\"] = df['mentioned_urls'].apply(get_len)\n",
    "df = df.drop(columns=[\"mentioned_urls\"])\n",
    "df[\"mentioned_hashtags\"] = df['text_processed'].apply(get_hashtag)\n",
    "df[\"num_mentioned_hashtags\"] = df['mentioned_hashtags'].apply(get_len)\n",
    "df[\"mentioned_smileys\"] = df[\"text_processed\"].apply(get_smiley)\n",
    "df[\"num_mentioned_smileys\"] = df[\"mentioned_smileys\"].apply(get_len)\n",
    "df[\"mentioned_haha\"] = df[\"text_processed\"].apply(get_haha)\n",
    "df[\"num_mentioned_haha\"] = df[\"mentioned_haha\"].apply(get_len)\n",
    "df = df.drop(columns=[\"mentioned_haha\"])\n",
    "df[\"mentioned_lol\"] = df[\"text_processed\"].apply(get_lol)\n",
    "df[\"num_mentioned_lol\"] = df[\"mentioned_lol\"].apply(get_len)\n",
    "df = df.drop(columns=[\"mentioned_lol\"])\n",
    "\n",
    "df[\"text_processed\"] = df[\"text_processed\"] \\\n",
    "    .apply(replace_username) \\\n",
    "    .apply(replace_url) \\\n",
    "    .apply(replace_hashtag) \\\n",
    "    .apply(replace_smiley) \\\n",
    "    .apply(replace_duplicated_word_groups) \\\n",
    "    .apply(replace_new_line) \\\n",
    "    .apply(replace_ampersand) \\\n",
    "    .apply(replace_zero_width_space) \\\n",
    "    .apply(replace_haha) \\\n",
    "    .apply(replace_lol) \\\n",
    "    .apply(replace_contractions) \\\n",
    "    .apply(replace_only_numbers_in_words) \\\n",
    "    .apply(replace_punctuations) \\\n",
    "    .apply(replace_trailing_space) \\\n",
    "    .apply(replace_consecutive_spaces) \\\n",
    "    .apply(lemmatize)\n",
    "\n",
    "df[\"processed_num_char\"] = df[\"text_processed\"].apply(get_num_char)\n",
    "df[\"mentioned_hashtags_cleaned\"] = df['mentioned_hashtags'].apply(replace_hash)\n",
    "df['num_word'] = df['post'].apply(get_len)\n",
    "df['processed_num_word'] = df['text_processed'].apply(get_len)\n",
    "df['num_mentioned_expressions'] = df['num_mentioned_smileys'] + df['num_mentioned_haha'] + df['num_mentioned_lol']\n",
    "df['date_processed'] = pd.to_datetime(df['date'])\n",
    "df['date_day_of_week'] = df['date_processed'].apply(lambda x: x.weekday())\n",
    "df['date_month'] = df['date_processed'].apply(lambda x: x.month)\n",
    "df['date_year'] = df['date_processed'].apply(lambda x: x.year)\n",
    "df['date_hour'] = df['date_processed'].apply(lambda x: x.hour)\n",
    "df['date_date'] = df['date_processed'].apply(lambda x: x.date())"
   ]
  },
  {
   "cell_type": "code",
   "execution_count": null,
   "metadata": {
    "colab": {
     "base_uri": "https://localhost:8080/",
     "height": 1000
    },
    "id": "13Ml5hvfWD35",
    "outputId": "e2a07ca6-a051-4797-850f-68d210d6c5db"
   },
   "outputs": [
    {
     "data": {
      "text/html": [
       "\n",
       "  <div id=\"df-20409a72-6f8c-4ab8-8fbd-887b42eaa2f2\">\n",
       "    <div class=\"colab-df-container\">\n",
       "      <div>\n",
       "<style scoped>\n",
       "    .dataframe tbody tr th:only-of-type {\n",
       "        vertical-align: middle;\n",
       "    }\n",
       "\n",
       "    .dataframe tbody tr th {\n",
       "        vertical-align: top;\n",
       "    }\n",
       "\n",
       "    .dataframe thead th {\n",
       "        text-align: right;\n",
       "    }\n",
       "</style>\n",
       "<table border=\"1\" class=\"dataframe\">\n",
       "  <thead>\n",
       "    <tr style=\"text-align: right;\">\n",
       "      <th></th>\n",
       "      <th>subreddit</th>\n",
       "      <th>author</th>\n",
       "      <th>date</th>\n",
       "      <th>post</th>\n",
       "      <th>label</th>\n",
       "      <th>num_char</th>\n",
       "      <th>text_processed</th>\n",
       "      <th>mentioned_usernames</th>\n",
       "      <th>num_mentioned_usernames</th>\n",
       "      <th>num_mentioned_urls</th>\n",
       "      <th>...</th>\n",
       "      <th>mentioned_hashtags_cleaned</th>\n",
       "      <th>num_word</th>\n",
       "      <th>processed_num_word</th>\n",
       "      <th>num_mentioned_expressions</th>\n",
       "      <th>date_processed</th>\n",
       "      <th>date_day_of_week</th>\n",
       "      <th>date_month</th>\n",
       "      <th>date_year</th>\n",
       "      <th>date_hour</th>\n",
       "      <th>date_date</th>\n",
       "    </tr>\n",
       "  </thead>\n",
       "  <tbody>\n",
       "    <tr>\n",
       "      <th>0</th>\n",
       "      <td>conspiracy</td>\n",
       "      <td>catvlyst</td>\n",
       "      <td>2018/12/17</td>\n",
       "      <td>My argument against the annunaki narrative One idea I’ve always toyed with is whether or not there is any truth to Zecharia Sitchin’s work pertaining to the idea that extraterrestrials have been manipulating our government since at least Sumerian times. After watching countless annunaki videos on YouTube, I’ve concluded that the idea is mostly new age pseudoscience. Thinking of things rationally, the idea that a species that’s advanced enough to travel inter galactic-ally would come all the way here to engineer a slave race to mine for gold instead of simply using AI is ridiculous. Then deciding that their creation is so disobedient that they need to take them out with a flood, it just sounds like complete mythology to me. And the idea of their planet Nibiru rotating around two suns in the opposite direction, I feel it doesn’t reflect accurate astronomy at all. Why there definitely may be a large planet beyond Pluto somewhere, I don’t believe it’s more likely to have life than any others with an atmosphere similar to earth.\\n\\nI always consider all views but my belief is that if extra terrestrials are here already, it’s not related to the mainstream narrative that’s portrayed to the public.\\n\\nJust my opinion, other input is welcome.</td>\n",
       "      <td>0</td>\n",
       "      <td>1249</td>\n",
       "      <td>my argument against the annunaki narrative one idea i have always toyed with is whether or not there is any truth to zecharia sitchin s work pertaining to the idea that extraterrestrials have been manipulating our government since at least sumerian times after watching countless annunaki videos on youtube i have concluded that the idea is mostly new age pseudoscience thinking of things rationally the idea that a species that is advanced enough to travel inter galactic ally would come all the way here to engineer a slave race to mine for gold instead of simply using ai is ridiculous then deciding that their creation is so disobedient that they need to take them out with a flood it just sounds like complete mythology to me and the idea of their planet nibiru rotating around two suns in the opposite direction i feel it does not reflect accurate astronomy at all why there definitely may be a large planet beyond pluto somewhere i do not believe it is more likely to have life than any others with an atmosphere similar to earth i always consider all views but my belief is that if extra terrestrials are here already it is not related to the mainstream narrative that is portrayed to the public just my opinion other input is welcome</td>\n",
       "      <td></td>\n",
       "      <td>0</td>\n",
       "      <td>0</td>\n",
       "      <td>...</td>\n",
       "      <td></td>\n",
       "      <td>207</td>\n",
       "      <td>219</td>\n",
       "      <td>0</td>\n",
       "      <td>2018-12-17</td>\n",
       "      <td>0</td>\n",
       "      <td>12</td>\n",
       "      <td>2018</td>\n",
       "      <td>0</td>\n",
       "      <td>2018-12-17</td>\n",
       "    </tr>\n",
       "    <tr>\n",
       "      <th>1</th>\n",
       "      <td>conspiracy</td>\n",
       "      <td>When_The_Dank_Hits</td>\n",
       "      <td>2018/12/17</td>\n",
       "      <td>diagram of all involved in 911 is there a diagram of every person and company involved in 911 attacks ?</td>\n",
       "      <td>0</td>\n",
       "      <td>103</td>\n",
       "      <td>diagram of all involved in is there a diagram of every person and company involved in attacks</td>\n",
       "      <td></td>\n",
       "      <td>0</td>\n",
       "      <td>0</td>\n",
       "      <td>...</td>\n",
       "      <td></td>\n",
       "      <td>20</td>\n",
       "      <td>17</td>\n",
       "      <td>0</td>\n",
       "      <td>2018-12-17</td>\n",
       "      <td>0</td>\n",
       "      <td>12</td>\n",
       "      <td>2018</td>\n",
       "      <td>0</td>\n",
       "      <td>2018-12-17</td>\n",
       "    </tr>\n",
       "    <tr>\n",
       "      <th>2</th>\n",
       "      <td>conspiracy</td>\n",
       "      <td>freethinker78</td>\n",
       "      <td>2018/12/17</td>\n",
       "      <td>Is the US government analyzing online comments and putting some people in killing lists? It was revealed during the Obama administration that the US government had an assassination program, which was used to find and kill US citizens,  including a 16-year-old, who were suspected members of military adversaries. It is incredibly alarming and hard to believe that the US government can do this, apparently even legally. \\n\\nI wonder if at this very moment our own online comments are being analyzed and some names submitted to be candidates for the killing list. Can you really fathom that this actually really may be happening? It is hard to believe but I think it is happening. \\n\\nTake good care my fellow concerned citizens. And may one day US elections be won by good people who really get to stop all the chaos, death and destruction that successive US administrations are bringing to the world. \\n\\n[https://www.theguardian.com/commentisfree/2013/feb/05/obama-kill-list-doj-memo](https://www.theguardian.com/commentisfree/2013/feb/05/obama-kill-list-doj-memo)</td>\n",
       "      <td>0</td>\n",
       "      <td>1060</td>\n",
       "      <td>is the us government analyzing online comments and putting some people in killing lists it was revealed during the obama administration that the us government had an assassination program which was used to find and kill us citizens including a year old who were suspected members of military adversaries it is incredibly alarming and hard to believe that the us government can do this apparently even legally i wonder if at this very moment our own online comments are being analyzed and some names submitted to be candidates for the killing list can you really fathom that this actually really may be happening it is hard to believe but i think it is happening take good care my fellow concerned citizens and may one day us elections be won by good people who really get to stop all the chaos death and destruction that successive us administrations are bringing to the world</td>\n",
       "      <td></td>\n",
       "      <td>0</td>\n",
       "      <td>1</td>\n",
       "      <td>...</td>\n",
       "      <td></td>\n",
       "      <td>153</td>\n",
       "      <td>152</td>\n",
       "      <td>0</td>\n",
       "      <td>2018-12-17</td>\n",
       "      <td>0</td>\n",
       "      <td>12</td>\n",
       "      <td>2018</td>\n",
       "      <td>0</td>\n",
       "      <td>2018-12-17</td>\n",
       "    </tr>\n",
       "    <tr>\n",
       "      <th>3</th>\n",
       "      <td>conspiracy</td>\n",
       "      <td>MrBobosky</td>\n",
       "      <td>2018/12/17</td>\n",
       "      <td>Who owns the media? It’s clear that many companies grow uncorrupted. That’s just the result of capitalism. \\n\\nBut I’ve always wondered who owns the major media companies once they’ve grown. I mean, somebody is clearly trying to buy them out to further their agenda.\\n\\nI’m not referring to companies like CNN. I’m referring to Facebook, SnapChat, YouTube and so on. THESE are the media’s of the future. \\n\\nSometimes for fun I will go on Snapchat and look at the news stories that it shows. To me that indicates what kind of ideas they are trying to put in our minds.\\n\\nOf course, some companies aren’t going to sell out. Maybe Snapchat hasn’t. But it all just makes me wonder, who is buying out these companies? \\n\\n</td>\n",
       "      <td>0</td>\n",
       "      <td>709</td>\n",
       "      <td>who owns the media it is clear that many companies grow uncorrupted that is just the result of capitalism but i have always wondered who owns the major media companies once they have grown i mean somebody is clearly trying to buy them out to further their agenda i am not referring to companies like cnn i am referring to facebook snapchat youtube and so on these are the media s of the future sometimes for fun i will go on snapchat and look at the news stories that it shows to me that indicates what kind of ideas they are trying to put in our minds of course some companies are not going to sell out maybe snapchat hasn t but it all just makes me wonder who is buying out these companies</td>\n",
       "      <td></td>\n",
       "      <td>0</td>\n",
       "      <td>0</td>\n",
       "      <td>...</td>\n",
       "      <td></td>\n",
       "      <td>124</td>\n",
       "      <td>134</td>\n",
       "      <td>0</td>\n",
       "      <td>2018-12-17</td>\n",
       "      <td>0</td>\n",
       "      <td>12</td>\n",
       "      <td>2018</td>\n",
       "      <td>0</td>\n",
       "      <td>2018-12-17</td>\n",
       "    </tr>\n",
       "    <tr>\n",
       "      <th>4</th>\n",
       "      <td>conspiracy</td>\n",
       "      <td>KodiakDog</td>\n",
       "      <td>2018/12/17</td>\n",
       "      <td>[Discussion] Top Secret Pharmaceuticals Does anybody have any good sources for militarized (and/or elite) applications of pharmaceuticals?, We always hear about different secret technologies that the government/defense agencies are developing or sitting on; whether it be direct energy weapons/death rays, unconventional aircraft, weather modifications and the likes, but I rarely hear of any theories of pharma technologies that enhance the most important resource (arguably) in any military, the human being itself. Outside of the classic MKUltra experiments with LSD and hypnosis and what not does anyone have any good videos or reads on different theories of potential substances that the elite mercenaries have access too? Shit, I’d be interested in any resources that discuss the top secret alteration of biology in any kind of way to enhance the warrior. \\n\\nIt seems to me that an amphetamine style stimulant with some kind of sensory enhancing, but also pain numbing drug would be worth researching. We really don’t know the limits of pharmaceuticals. I don’t think it is so far-fetched to believe that there is a significant chunk of the black budget that goes towards developing these kinds of things for combat uses.\\n\\nWhat do y’all think? Have any theories of your own?</td>\n",
       "      <td>0</td>\n",
       "      <td>1279</td>\n",
       "      <td>discussion top secret pharmaceuticals does anybody have any good sources for militarized and or elite applications of pharmaceuticals we always hear about different secret technologies that the government defense agencies are developing or sitting on whether it be direct energy weapons death rays unconventional aircraft weather modifications and the likes but i rarely hear of any theories of pharma technologies that enhance the most important resource arguably in any military the human being itself outside of the classic mkultra experiments with lsd and hypnosis and what not does anyone have any good videos or reads on different theories of potential substances that the elite mercenaries have access too shit i would be interested in any resources that discuss the top secret alteration of biology in any kind of way to enhance the warrior it seems to me that an amphetamine style stimulant with some kind of sensory enhancing but also pain numbing drug would be worth researching we really do not know the limits of pharmaceuticals i do not think it is so far fetched to believe that there is a significant chunk of the black budget that goes towards developing these kinds of things for combat uses what do you all think have any theories of your own</td>\n",
       "      <td></td>\n",
       "      <td>0</td>\n",
       "      <td>0</td>\n",
       "      <td>...</td>\n",
       "      <td></td>\n",
       "      <td>200</td>\n",
       "      <td>209</td>\n",
       "      <td>0</td>\n",
       "      <td>2018-12-17</td>\n",
       "      <td>0</td>\n",
       "      <td>12</td>\n",
       "      <td>2018</td>\n",
       "      <td>0</td>\n",
       "      <td>2018-12-17</td>\n",
       "    </tr>\n",
       "    <tr>\n",
       "      <th>...</th>\n",
       "      <td>...</td>\n",
       "      <td>...</td>\n",
       "      <td>...</td>\n",
       "      <td>...</td>\n",
       "      <td>...</td>\n",
       "      <td>...</td>\n",
       "      <td>...</td>\n",
       "      <td>...</td>\n",
       "      <td>...</td>\n",
       "      <td>...</td>\n",
       "      <td>...</td>\n",
       "      <td>...</td>\n",
       "      <td>...</td>\n",
       "      <td>...</td>\n",
       "      <td>...</td>\n",
       "      <td>...</td>\n",
       "      <td>...</td>\n",
       "      <td>...</td>\n",
       "      <td>...</td>\n",
       "      <td>...</td>\n",
       "      <td>...</td>\n",
       "    </tr>\n",
       "    <tr>\n",
       "      <th>21405</th>\n",
       "      <td>suicidewatch</td>\n",
       "      <td>deso0000007</td>\n",
       "      <td>2020/04/20</td>\n",
       "      <td>But I want help doing it Tired of everyone saying no don't.\\n\\n*Get up so I can punch you again*\\n\\nI'm exhausted I want to clock out and be done everything just keeps getting worse, everything keeps losing value including myself- as if any of that even mattered.\\n\\nFuck the helpline I want real help I want help out</td>\n",
       "      <td>1</td>\n",
       "      <td>311</td>\n",
       "      <td>but i want help doing it tired of everyone saying no don t get up so i can punch you again i am exhausted i want to clock out and be done everything just keeps getting worse everything keeps losing value including myself as if any of that even mattered fuck the helpline i want real help i want help out</td>\n",
       "      <td></td>\n",
       "      <td>0</td>\n",
       "      <td>0</td>\n",
       "      <td>...</td>\n",
       "      <td></td>\n",
       "      <td>56</td>\n",
       "      <td>61</td>\n",
       "      <td>0</td>\n",
       "      <td>2020-04-20</td>\n",
       "      <td>0</td>\n",
       "      <td>4</td>\n",
       "      <td>2020</td>\n",
       "      <td>0</td>\n",
       "      <td>2020-04-20</td>\n",
       "    </tr>\n",
       "    <tr>\n",
       "      <th>21406</th>\n",
       "      <td>suicidewatch</td>\n",
       "      <td>yourstoxically</td>\n",
       "      <td>2020/04/20</td>\n",
       "      <td>Nothing to live for The ONLY reason I am alive right now is because of my sweet cat Pippin. Yesterday was the anniversary of adopting him 2 years ago. \\nI've been really depressed and haven't been able to play with him as much so hes been meowing and being a little naughty as a result. I got so mad yesterday and yelled at him. All I can think about now is how I should give him to someone healthier. Someone stable. But if I give him away I have nothing to live for. \\nI have my boyfriend but hes so far away... I dont have  friends, haven't spoken to my mother since I was 17 and my dad just disowned me over my political opinion. I haven't accomplished anything and I'm not who I wish I was. I have a job I guess but its minimum wage and I dont have qualifications or experience in anything but customer service and caregiving. \\nI do nothing but waste resources. I hate being in my skin. I have no redeeming qualities. But I'm stuck. I cant bear to think about how abandoned my kitty would feel if I gave him to someone else or took him back to the shelter... so I guess here I stay, hating my own reflection, wishing I could run away from life.</td>\n",
       "      <td>1</td>\n",
       "      <td>1147</td>\n",
       "      <td>nothing to live for the only reason i am alive right now is because of my sweet cat pippin yesterday was the anniversary of adopting him years ago i have been really depressed and have not been able to play with him as much so hes been meowing and being a little naughty as a result i got so mad yesterday and yelled at him all i can think about now is how i should give him to someone healthier someone stable but if i give him away i have nothing to live for i have my boyfriend but hes so far away i dont have friends have not spoken to my mother since i was and my dad just disowned me over my political opinion i have not accomplished anything and i am not who i wish i was i have a job i guess but its minimum wage and i dont have qualifications or experience in anything but customer service and caregiving i do nothing but waste resources i hate being in my skin i have no redeeming qualities but i am stuck i cant bear to think about how abandoned my kitty would feel if i gave him to someone else or took him back to the shelter so i guess here i stay hating my own reflection wishing i could run away from life</td>\n",
       "      <td></td>\n",
       "      <td>0</td>\n",
       "      <td>0</td>\n",
       "      <td>...</td>\n",
       "      <td></td>\n",
       "      <td>225</td>\n",
       "      <td>228</td>\n",
       "      <td>0</td>\n",
       "      <td>2020-04-20</td>\n",
       "      <td>0</td>\n",
       "      <td>4</td>\n",
       "      <td>2020</td>\n",
       "      <td>0</td>\n",
       "      <td>2020-04-20</td>\n",
       "    </tr>\n",
       "    <tr>\n",
       "      <th>21407</th>\n",
       "      <td>suicidewatch</td>\n",
       "      <td>acshit</td>\n",
       "      <td>2020/04/20</td>\n",
       "      <td>I’m going to fucking kill myself 18 years too long. I think I’m going to go</td>\n",
       "      <td>1</td>\n",
       "      <td>75</td>\n",
       "      <td>i am going to fucking kill myself years too long i think i am going to go</td>\n",
       "      <td></td>\n",
       "      <td>0</td>\n",
       "      <td>0</td>\n",
       "      <td>...</td>\n",
       "      <td></td>\n",
       "      <td>16</td>\n",
       "      <td>17</td>\n",
       "      <td>0</td>\n",
       "      <td>2020-04-20</td>\n",
       "      <td>0</td>\n",
       "      <td>4</td>\n",
       "      <td>2020</td>\n",
       "      <td>0</td>\n",
       "      <td>2020-04-20</td>\n",
       "    </tr>\n",
       "    <tr>\n",
       "      <th>21408</th>\n",
       "      <td>suicidewatch</td>\n",
       "      <td>Haunting-Maybe</td>\n",
       "      <td>2020/04/20</td>\n",
       "      <td>I’m going to pieces All I’ve done for about a month has been lay in bed. I don’t enjoy anything. Can’t focus on anything. I am terrified of the future. I don’t want to be alive. I am in so much emotional pain. The only reason I am alive is my father because I don’t want to hurt him. That and I can’t decide on a method. I think not wanting to hurt him keeps me from choosing a method. In the future when my father is no longer around I think I will have no choice but to end my life. I’m so scared. I wish more than anything that I will just go to sleep and not wake up. I hate being alive.</td>\n",
       "      <td>1</td>\n",
       "      <td>591</td>\n",
       "      <td>i am going to pieces all i have done for about a month has been lay in bed i do not enjoy anything cannot focus on anything i am terrified of the future i do not want to be alive i am in so much emotional pain the only reason i am alive is my father because i do not want to hurt him that and i cannot decide on a method i think not wanting to hurt him keeps me from choosing a method in the future when my father is no longer around i think i will have no choice but to end my life i am so scared i wish more than anything that i will just go to sleep and not wake up i hate being alive</td>\n",
       "      <td></td>\n",
       "      <td>0</td>\n",
       "      <td>0</td>\n",
       "      <td>...</td>\n",
       "      <td></td>\n",
       "      <td>125</td>\n",
       "      <td>131</td>\n",
       "      <td>0</td>\n",
       "      <td>2020-04-20</td>\n",
       "      <td>0</td>\n",
       "      <td>4</td>\n",
       "      <td>2020</td>\n",
       "      <td>0</td>\n",
       "      <td>2020-04-20</td>\n",
       "    </tr>\n",
       "    <tr>\n",
       "      <th>21409</th>\n",
       "      <td>suicidewatch</td>\n",
       "      <td>seafoamangeltears</td>\n",
       "      <td>2020/04/20</td>\n",
       "      <td>sigh it's been a wild couple of weeks...i'm very tired of living and im tired of hearing it gets better. I thought i was finally reaching the point where it got better for me, but it's all coming crashing down. I'm in a very very low point of my life. \\n\\nI feel like the only option to end this suffering is suicide.\\n\\nI don't know why I'm posting this here. Maybe I just want someone to listen....maybe I want someone to know how much I was hurting before I finally ended it.\\n\\nThank you for reading. I'm sorry to inconvenience.</td>\n",
       "      <td>1</td>\n",
       "      <td>526</td>\n",
       "      <td>sigh it is been a wild couple of weeks i m very tired of living and im tired of hearing it gets better i thought i was finally reaching the point where it got better for me but it is all coming crashing down i am in a low point of my life i feel like the only option to end this suffering is suicide i do not know why i am posting this here maybe i just want someone to listen maybe i want someone to know how much i was hurting before i finally ended it thank you for reading i am sorry to inconvenience</td>\n",
       "      <td></td>\n",
       "      <td>0</td>\n",
       "      <td>0</td>\n",
       "      <td>...</td>\n",
       "      <td></td>\n",
       "      <td>98</td>\n",
       "      <td>107</td>\n",
       "      <td>0</td>\n",
       "      <td>2020-04-20</td>\n",
       "      <td>0</td>\n",
       "      <td>4</td>\n",
       "      <td>2020</td>\n",
       "      <td>0</td>\n",
       "      <td>2020-04-20</td>\n",
       "    </tr>\n",
       "  </tbody>\n",
       "</table>\n",
       "<p>1107302 rows × 27 columns</p>\n",
       "</div>\n",
       "      <button class=\"colab-df-convert\" onclick=\"convertToInteractive('df-20409a72-6f8c-4ab8-8fbd-887b42eaa2f2')\"\n",
       "              title=\"Convert this dataframe to an interactive table.\"\n",
       "              style=\"display:none;\">\n",
       "        \n",
       "  <svg xmlns=\"http://www.w3.org/2000/svg\" height=\"24px\"viewBox=\"0 0 24 24\"\n",
       "       width=\"24px\">\n",
       "    <path d=\"M0 0h24v24H0V0z\" fill=\"none\"/>\n",
       "    <path d=\"M18.56 5.44l.94 2.06.94-2.06 2.06-.94-2.06-.94-.94-2.06-.94 2.06-2.06.94zm-11 1L8.5 8.5l.94-2.06 2.06-.94-2.06-.94L8.5 2.5l-.94 2.06-2.06.94zm10 10l.94 2.06.94-2.06 2.06-.94-2.06-.94-.94-2.06-.94 2.06-2.06.94z\"/><path d=\"M17.41 7.96l-1.37-1.37c-.4-.4-.92-.59-1.43-.59-.52 0-1.04.2-1.43.59L10.3 9.45l-7.72 7.72c-.78.78-.78 2.05 0 2.83L4 21.41c.39.39.9.59 1.41.59.51 0 1.02-.2 1.41-.59l7.78-7.78 2.81-2.81c.8-.78.8-2.07 0-2.86zM5.41 20L4 18.59l7.72-7.72 1.47 1.35L5.41 20z\"/>\n",
       "  </svg>\n",
       "      </button>\n",
       "      \n",
       "  <style>\n",
       "    .colab-df-container {\n",
       "      display:flex;\n",
       "      flex-wrap:wrap;\n",
       "      gap: 12px;\n",
       "    }\n",
       "\n",
       "    .colab-df-convert {\n",
       "      background-color: #E8F0FE;\n",
       "      border: none;\n",
       "      border-radius: 50%;\n",
       "      cursor: pointer;\n",
       "      display: none;\n",
       "      fill: #1967D2;\n",
       "      height: 32px;\n",
       "      padding: 0 0 0 0;\n",
       "      width: 32px;\n",
       "    }\n",
       "\n",
       "    .colab-df-convert:hover {\n",
       "      background-color: #E2EBFA;\n",
       "      box-shadow: 0px 1px 2px rgba(60, 64, 67, 0.3), 0px 1px 3px 1px rgba(60, 64, 67, 0.15);\n",
       "      fill: #174EA6;\n",
       "    }\n",
       "\n",
       "    [theme=dark] .colab-df-convert {\n",
       "      background-color: #3B4455;\n",
       "      fill: #D2E3FC;\n",
       "    }\n",
       "\n",
       "    [theme=dark] .colab-df-convert:hover {\n",
       "      background-color: #434B5C;\n",
       "      box-shadow: 0px 1px 3px 1px rgba(0, 0, 0, 0.15);\n",
       "      filter: drop-shadow(0px 1px 2px rgba(0, 0, 0, 0.3));\n",
       "      fill: #FFFFFF;\n",
       "    }\n",
       "  </style>\n",
       "\n",
       "      <script>\n",
       "        const buttonEl =\n",
       "          document.querySelector('#df-20409a72-6f8c-4ab8-8fbd-887b42eaa2f2 button.colab-df-convert');\n",
       "        buttonEl.style.display =\n",
       "          google.colab.kernel.accessAllowed ? 'block' : 'none';\n",
       "\n",
       "        async function convertToInteractive(key) {\n",
       "          const element = document.querySelector('#df-20409a72-6f8c-4ab8-8fbd-887b42eaa2f2');\n",
       "          const dataTable =\n",
       "            await google.colab.kernel.invokeFunction('convertToInteractive',\n",
       "                                                     [key], {});\n",
       "          if (!dataTable) return;\n",
       "\n",
       "          const docLinkHtml = 'Like what you see? Visit the ' +\n",
       "            '<a target=\"_blank\" href=https://colab.research.google.com/notebooks/data_table.ipynb>data table notebook</a>'\n",
       "            + ' to learn more about interactive tables.';\n",
       "          element.innerHTML = '';\n",
       "          dataTable['output_type'] = 'display_data';\n",
       "          await google.colab.output.renderOutput(dataTable, element);\n",
       "          const docLink = document.createElement('div');\n",
       "          docLink.innerHTML = docLinkHtml;\n",
       "          element.appendChild(docLink);\n",
       "        }\n",
       "      </script>\n",
       "    </div>\n",
       "  </div>\n",
       "  "
      ],
      "text/plain": [
       "          subreddit              author        date  \\\n",
       "0        conspiracy            catvlyst  2018/12/17   \n",
       "1        conspiracy  When_The_Dank_Hits  2018/12/17   \n",
       "2        conspiracy       freethinker78  2018/12/17   \n",
       "3        conspiracy           MrBobosky  2018/12/17   \n",
       "4        conspiracy           KodiakDog  2018/12/17   \n",
       "...             ...                 ...         ...   \n",
       "21405  suicidewatch         deso0000007  2020/04/20   \n",
       "21406  suicidewatch      yourstoxically  2020/04/20   \n",
       "21407  suicidewatch              acshit  2020/04/20   \n",
       "21408  suicidewatch      Haunting-Maybe  2020/04/20   \n",
       "21409  suicidewatch   seafoamangeltears  2020/04/20   \n",
       "\n",
       "                                                                                                                                                                                                                                                                                                                                                                                                                                                                                                                                                                                                                                                                                                                                                                                                                                                                                                                                                                                                                                                                                                                                                                                                                                                                                                                                      post  \\\n",
       "0                                    My argument against the annunaki narrative One idea I’ve always toyed with is whether or not there is any truth to Zecharia Sitchin’s work pertaining to the idea that extraterrestrials have been manipulating our government since at least Sumerian times. After watching countless annunaki videos on YouTube, I’ve concluded that the idea is mostly new age pseudoscience. Thinking of things rationally, the idea that a species that’s advanced enough to travel inter galactic-ally would come all the way here to engineer a slave race to mine for gold instead of simply using AI is ridiculous. Then deciding that their creation is so disobedient that they need to take them out with a flood, it just sounds like complete mythology to me. And the idea of their planet Nibiru rotating around two suns in the opposite direction, I feel it doesn’t reflect accurate astronomy at all. Why there definitely may be a large planet beyond Pluto somewhere, I don’t believe it’s more likely to have life than any others with an atmosphere similar to earth.\\n\\nI always consider all views but my belief is that if extra terrestrials are here already, it’s not related to the mainstream narrative that’s portrayed to the public.\\n\\nJust my opinion, other input is welcome.   \n",
       "1                                                                                                                                                                                                                                                                                                                                                                                                                                                                                                                                                                                                                                                                                                                                                                                                                                                                                                                                                                                                                                                                                                                                                                                                                                  diagram of all involved in 911 is there a diagram of every person and company involved in 911 attacks ?   \n",
       "2                                                                                                                                                                                                                               Is the US government analyzing online comments and putting some people in killing lists? It was revealed during the Obama administration that the US government had an assassination program, which was used to find and kill US citizens,  including a 16-year-old, who were suspected members of military adversaries. It is incredibly alarming and hard to believe that the US government can do this, apparently even legally. \\n\\nI wonder if at this very moment our own online comments are being analyzed and some names submitted to be candidates for the killing list. Can you really fathom that this actually really may be happening? It is hard to believe but I think it is happening. \\n\\nTake good care my fellow concerned citizens. And may one day US elections be won by good people who really get to stop all the chaos, death and destruction that successive US administrations are bringing to the world. \\n\\n[https://www.theguardian.com/commentisfree/2013/feb/05/obama-kill-list-doj-memo](https://www.theguardian.com/commentisfree/2013/feb/05/obama-kill-list-doj-memo)   \n",
       "3                                                                                                                                                                                                                                                                                                                                                                                                                                                                                                                                                                                          Who owns the media? It’s clear that many companies grow uncorrupted. That’s just the result of capitalism. \\n\\nBut I’ve always wondered who owns the major media companies once they’ve grown. I mean, somebody is clearly trying to buy them out to further their agenda.\\n\\nI’m not referring to companies like CNN. I’m referring to Facebook, SnapChat, YouTube and so on. THESE are the media’s of the future. \\n\\nSometimes for fun I will go on Snapchat and look at the news stories that it shows. To me that indicates what kind of ideas they are trying to put in our minds.\\n\\nOf course, some companies aren’t going to sell out. Maybe Snapchat hasn’t. But it all just makes me wonder, who is buying out these companies? \\n\\n   \n",
       "4      [Discussion] Top Secret Pharmaceuticals Does anybody have any good sources for militarized (and/or elite) applications of pharmaceuticals?, We always hear about different secret technologies that the government/defense agencies are developing or sitting on; whether it be direct energy weapons/death rays, unconventional aircraft, weather modifications and the likes, but I rarely hear of any theories of pharma technologies that enhance the most important resource (arguably) in any military, the human being itself. Outside of the classic MKUltra experiments with LSD and hypnosis and what not does anyone have any good videos or reads on different theories of potential substances that the elite mercenaries have access too? Shit, I’d be interested in any resources that discuss the top secret alteration of biology in any kind of way to enhance the warrior. \\n\\nIt seems to me that an amphetamine style stimulant with some kind of sensory enhancing, but also pain numbing drug would be worth researching. We really don’t know the limits of pharmaceuticals. I don’t think it is so far-fetched to believe that there is a significant chunk of the black budget that goes towards developing these kinds of things for combat uses.\\n\\nWhat do y’all think? Have any theories of your own?   \n",
       "...                                                                                                                                                                                                                                                                                                                                                                                                                                                                                                                                                                                                                                                                                                                                                                                                                                                                                                                                                                                                                                                                                                                                                                                                                                                                                                                                    ...   \n",
       "21405                                                                                                                                                                                                                                                                                                                                                                                                                                                                                                                                                                                                                                                                                                                                                                                                                                                                                                                                                                                                        But I want help doing it Tired of everyone saying no don't.\\n\\n*Get up so I can punch you again*\\n\\nI'm exhausted I want to clock out and be done everything just keeps getting worse, everything keeps losing value including myself- as if any of that even mattered.\\n\\nFuck the helpline I want real help I want help out   \n",
       "21406                                                                                                                                       Nothing to live for The ONLY reason I am alive right now is because of my sweet cat Pippin. Yesterday was the anniversary of adopting him 2 years ago. \\nI've been really depressed and haven't been able to play with him as much so hes been meowing and being a little naughty as a result. I got so mad yesterday and yelled at him. All I can think about now is how I should give him to someone healthier. Someone stable. But if I give him away I have nothing to live for. \\nI have my boyfriend but hes so far away... I dont have  friends, haven't spoken to my mother since I was 17 and my dad just disowned me over my political opinion. I haven't accomplished anything and I'm not who I wish I was. I have a job I guess but its minimum wage and I dont have qualifications or experience in anything but customer service and caregiving. \\nI do nothing but waste resources. I hate being in my skin. I have no redeeming qualities. But I'm stuck. I cant bear to think about how abandoned my kitty would feel if I gave him to someone else or took him back to the shelter... so I guess here I stay, hating my own reflection, wishing I could run away from life.   \n",
       "21407                                                                                                                                                                                                                                                                                                                                                                                                                                                                                                                                                                                                                                                                                                                                                                                                                                                                                                                                                                                                                                                                                                                                                                                                                                                          I’m going to fucking kill myself 18 years too long. I think I’m going to go   \n",
       "21408                                                                                                                                                                                                                                                                                                                                                                                                                                                                                                                                                                                                                                                                                                                      I’m going to pieces All I’ve done for about a month has been lay in bed. I don’t enjoy anything. Can’t focus on anything. I am terrified of the future. I don’t want to be alive. I am in so much emotional pain. The only reason I am alive is my father because I don’t want to hurt him. That and I can’t decide on a method. I think not wanting to hurt him keeps me from choosing a method. In the future when my father is no longer around I think I will have no choice but to end my life. I’m so scared. I wish more than anything that I will just go to sleep and not wake up. I hate being alive.   \n",
       "21409                                                                                                                                                                                                                                                                                                                                                                                                                                                                                                                                                                                                                                                                                                                                                                                 sigh it's been a wild couple of weeks...i'm very tired of living and im tired of hearing it gets better. I thought i was finally reaching the point where it got better for me, but it's all coming crashing down. I'm in a very very low point of my life. \\n\\nI feel like the only option to end this suffering is suicide.\\n\\nI don't know why I'm posting this here. Maybe I just want someone to listen....maybe I want someone to know how much I was hurting before I finally ended it.\\n\\nThank you for reading. I'm sorry to inconvenience.   \n",
       "\n",
       "       label  num_char  \\\n",
       "0          0      1249   \n",
       "1          0       103   \n",
       "2          0      1060   \n",
       "3          0       709   \n",
       "4          0      1279   \n",
       "...      ...       ...   \n",
       "21405      1       311   \n",
       "21406      1      1147   \n",
       "21407      1        75   \n",
       "21408      1       591   \n",
       "21409      1       526   \n",
       "\n",
       "                                                                                                                                                                                                                                                                                                                                                                                                                                                                                                                                                                                                                                                                                                                                                                                                                                                                                                                                                                                                                                                                                                                                                                                                                                                                                                      text_processed  \\\n",
       "0                         my argument against the annunaki narrative one idea i have always toyed with is whether or not there is any truth to zecharia sitchin s work pertaining to the idea that extraterrestrials have been manipulating our government since at least sumerian times after watching countless annunaki videos on youtube i have concluded that the idea is mostly new age pseudoscience thinking of things rationally the idea that a species that is advanced enough to travel inter galactic ally would come all the way here to engineer a slave race to mine for gold instead of simply using ai is ridiculous then deciding that their creation is so disobedient that they need to take them out with a flood it just sounds like complete mythology to me and the idea of their planet nibiru rotating around two suns in the opposite direction i feel it does not reflect accurate astronomy at all why there definitely may be a large planet beyond pluto somewhere i do not believe it is more likely to have life than any others with an atmosphere similar to earth i always consider all views but my belief is that if extra terrestrials are here already it is not related to the mainstream narrative that is portrayed to the public just my opinion other input is welcome   \n",
       "1                                                                                                                                                                                                                                                                                                                                                                                                                                                                                                                                                                                                                                                                                                                                                                                                                                                                                                                                                                                                                                                                                                                                                                                                                      diagram of all involved in is there a diagram of every person and company involved in attacks   \n",
       "2                                                                                                                                                                                                                                                                                                                                                                                                       is the us government analyzing online comments and putting some people in killing lists it was revealed during the obama administration that the us government had an assassination program which was used to find and kill us citizens including a year old who were suspected members of military adversaries it is incredibly alarming and hard to believe that the us government can do this apparently even legally i wonder if at this very moment our own online comments are being analyzed and some names submitted to be candidates for the killing list can you really fathom that this actually really may be happening it is hard to believe but i think it is happening take good care my fellow concerned citizens and may one day us elections be won by good people who really get to stop all the chaos death and destruction that successive us administrations are bringing to the world   \n",
       "3                                                                                                                                                                                                                                                                                                                                                                                                                                                                                                                                                                                                who owns the media it is clear that many companies grow uncorrupted that is just the result of capitalism but i have always wondered who owns the major media companies once they have grown i mean somebody is clearly trying to buy them out to further their agenda i am not referring to companies like cnn i am referring to facebook snapchat youtube and so on these are the media s of the future sometimes for fun i will go on snapchat and look at the news stories that it shows to me that indicates what kind of ideas they are trying to put in our minds of course some companies are not going to sell out maybe snapchat hasn t but it all just makes me wonder who is buying out these companies   \n",
       "4      discussion top secret pharmaceuticals does anybody have any good sources for militarized and or elite applications of pharmaceuticals we always hear about different secret technologies that the government defense agencies are developing or sitting on whether it be direct energy weapons death rays unconventional aircraft weather modifications and the likes but i rarely hear of any theories of pharma technologies that enhance the most important resource arguably in any military the human being itself outside of the classic mkultra experiments with lsd and hypnosis and what not does anyone have any good videos or reads on different theories of potential substances that the elite mercenaries have access too shit i would be interested in any resources that discuss the top secret alteration of biology in any kind of way to enhance the warrior it seems to me that an amphetamine style stimulant with some kind of sensory enhancing but also pain numbing drug would be worth researching we really do not know the limits of pharmaceuticals i do not think it is so far fetched to believe that there is a significant chunk of the black budget that goes towards developing these kinds of things for combat uses what do you all think have any theories of your own   \n",
       "...                                                                                                                                                                                                                                                                                                                                                                                                                                                                                                                                                                                                                                                                                                                                                                                                                                                                                                                                                                                                                                                                                                                                                                                                                                                                                                              ...   \n",
       "21405                                                                                                                                                                                                                                                                                                                                                                                                                                                                                                                                                                                                                                                                                                                                                                                                                                                                                                                                                                                                but i want help doing it tired of everyone saying no don t get up so i can punch you again i am exhausted i want to clock out and be done everything just keeps getting worse everything keeps losing value including myself as if any of that even mattered fuck the helpline i want real help i want help out   \n",
       "21406                                                                                                                                              nothing to live for the only reason i am alive right now is because of my sweet cat pippin yesterday was the anniversary of adopting him years ago i have been really depressed and have not been able to play with him as much so hes been meowing and being a little naughty as a result i got so mad yesterday and yelled at him all i can think about now is how i should give him to someone healthier someone stable but if i give him away i have nothing to live for i have my boyfriend but hes so far away i dont have friends have not spoken to my mother since i was and my dad just disowned me over my political opinion i have not accomplished anything and i am not who i wish i was i have a job i guess but its minimum wage and i dont have qualifications or experience in anything but customer service and caregiving i do nothing but waste resources i hate being in my skin i have no redeeming qualities but i am stuck i cant bear to think about how abandoned my kitty would feel if i gave him to someone else or took him back to the shelter so i guess here i stay hating my own reflection wishing i could run away from life   \n",
       "21407                                                                                                                                                                                                                                                                                                                                                                                                                                                                                                                                                                                                                                                                                                                                                                                                                                                                                                                                                                                                                                                                                                                                                                                                                                      i am going to fucking kill myself years too long i think i am going to go   \n",
       "21408                                                                                                                                                                                                                                                                                                                                                                                                                                                                                                                                                                                                                                                                                                    i am going to pieces all i have done for about a month has been lay in bed i do not enjoy anything cannot focus on anything i am terrified of the future i do not want to be alive i am in so much emotional pain the only reason i am alive is my father because i do not want to hurt him that and i cannot decide on a method i think not wanting to hurt him keeps me from choosing a method in the future when my father is no longer around i think i will have no choice but to end my life i am so scared i wish more than anything that i will just go to sleep and not wake up i hate being alive   \n",
       "21409                                                                                                                                                                                                                                                                                                                                                                                                                                                                                                                                                                                                                                                                                                                                                                                       sigh it is been a wild couple of weeks i m very tired of living and im tired of hearing it gets better i thought i was finally reaching the point where it got better for me but it is all coming crashing down i am in a low point of my life i feel like the only option to end this suffering is suicide i do not know why i am posting this here maybe i just want someone to listen maybe i want someone to know how much i was hurting before i finally ended it thank you for reading i am sorry to inconvenience   \n",
       "\n",
       "      mentioned_usernames  num_mentioned_usernames  num_mentioned_urls  ...  \\\n",
       "0                                                0                   0  ...   \n",
       "1                                                0                   0  ...   \n",
       "2                                                0                   1  ...   \n",
       "3                                                0                   0  ...   \n",
       "4                                                0                   0  ...   \n",
       "...                   ...                      ...                 ...  ...   \n",
       "21405                                            0                   0  ...   \n",
       "21406                                            0                   0  ...   \n",
       "21407                                            0                   0  ...   \n",
       "21408                                            0                   0  ...   \n",
       "21409                                            0                   0  ...   \n",
       "\n",
       "      mentioned_hashtags_cleaned  num_word processed_num_word  \\\n",
       "0                                      207                219   \n",
       "1                                       20                 17   \n",
       "2                                      153                152   \n",
       "3                                      124                134   \n",
       "4                                      200                209   \n",
       "...                          ...       ...                ...   \n",
       "21405                                   56                 61   \n",
       "21406                                  225                228   \n",
       "21407                                   16                 17   \n",
       "21408                                  125                131   \n",
       "21409                                   98                107   \n",
       "\n",
       "       num_mentioned_expressions  date_processed  date_day_of_week  \\\n",
       "0                              0      2018-12-17                 0   \n",
       "1                              0      2018-12-17                 0   \n",
       "2                              0      2018-12-17                 0   \n",
       "3                              0      2018-12-17                 0   \n",
       "4                              0      2018-12-17                 0   \n",
       "...                          ...             ...               ...   \n",
       "21405                          0      2020-04-20                 0   \n",
       "21406                          0      2020-04-20                 0   \n",
       "21407                          0      2020-04-20                 0   \n",
       "21408                          0      2020-04-20                 0   \n",
       "21409                          0      2020-04-20                 0   \n",
       "\n",
       "       date_month date_year  date_hour   date_date  \n",
       "0              12      2018          0  2018-12-17  \n",
       "1              12      2018          0  2018-12-17  \n",
       "2              12      2018          0  2018-12-17  \n",
       "3              12      2018          0  2018-12-17  \n",
       "4              12      2018          0  2018-12-17  \n",
       "...           ...       ...        ...         ...  \n",
       "21405           4      2020          0  2020-04-20  \n",
       "21406           4      2020          0  2020-04-20  \n",
       "21407           4      2020          0  2020-04-20  \n",
       "21408           4      2020          0  2020-04-20  \n",
       "21409           4      2020          0  2020-04-20  \n",
       "\n",
       "[1107302 rows x 27 columns]"
      ]
     },
     "execution_count": 22,
     "metadata": {},
     "output_type": "execute_result"
    }
   ],
   "source": [
    "df"
   ]
  },
  {
   "cell_type": "code",
   "execution_count": null,
   "metadata": {
    "id": "DTpomYxS7AmB"
   },
   "outputs": [],
   "source": [
    "df.to_csv('cleaned_reddit_lemmatized.csv', index=None)"
   ]
  },
  {
   "cell_type": "markdown",
   "metadata": {},
   "source": [
    "Data EDA"
   ]
  },
  {
   "cell_type": "code",
   "execution_count": null,
   "metadata": {
    "colab": {
     "base_uri": "https://localhost:8080/",
     "height": 350
    },
    "id": "PdCQXmEG7AmC",
    "outputId": "41565c8c-0ce9-4d84-fd88-846c211d3db8"
   },
   "outputs": [
    {
     "data": {
      "image/png": "[encoded data removed]",
      "text/plain": [
       "<Figure size 720x360 with 1 Axes>"
      ]
     },
     "metadata": {
      "needs_background": "light"
     },
     "output_type": "display_data"
    }
   ],
   "source": [
    "data = df['num_word'].value_counts()\n",
    "axes = data.index\n",
    "values = data.values\n",
    "  \n",
    "fig = plt.figure(figsize = (10, 5))\n",
    " \n",
    "# creating the bar plot\n",
    "plt.bar(axes, values, color ='maroon',\n",
    "        width = 0.4)\n",
    " \n",
    "plt.xlabel(\"#words in reddit\")\n",
    "plt.ylabel(\"frequency\")\n",
    "plt.title(\"Raw Tweets\")\n",
    "plt.show()"
   ]
  },
  {
   "cell_type": "code",
   "execution_count": null,
   "metadata": {
    "colab": {
     "base_uri": "https://localhost:8080/",
     "height": 350
    },
    "id": "TyOMcyOZ7AmC",
    "outputId": "b6d04703-6b2c-4e02-da4c-831c286f7e82"
   },
   "outputs": [
    {
     "data": {
      "image/png": "[encoded data removed]",
      "text/plain": [
       "<Figure size 720x360 with 1 Axes>"
      ]
     },
     "metadata": {
      "needs_background": "light"
     },
     "output_type": "display_data"
    }
   ],
   "source": [
    "data = df['processed_num_word'].value_counts()\n",
    "axes = data.index\n",
    "values = data.values\n",
    "  \n",
    "fig = plt.figure(figsize = (10, 5))\n",
    " \n",
    "# creating the bar plot\n",
    "plt.bar(axes, values, color ='maroon',\n",
    "        width = 0.4)\n",
    " \n",
    "plt.xlabel(\"#words in reddit\")\n",
    "plt.ylabel(\"frequency\")\n",
    "plt.title(\"Processed reddit\")\n",
    "plt.show()"
   ]
  },
  {
   "cell_type": "code",
   "execution_count": null,
   "metadata": {
    "colab": {
     "base_uri": "https://localhost:8080/",
     "height": 350
    },
    "id": "TXX41hwT7AmD",
    "outputId": "9f484a35-90ba-4c6c-9aad-eae41b725f5b"
   },
   "outputs": [
    {
     "data": {
      "image/png": "[encoded data removed]",
      "text/plain": [
       "<Figure size 720x360 with 1 Axes>"
      ]
     },
     "metadata": {
      "needs_background": "light"
     },
     "output_type": "display_data"
    }
   ],
   "source": [
    "data = df['num_char'].value_counts()\n",
    "axes = data.index\n",
    "values = data.values\n",
    "  \n",
    "fig = plt.figure(figsize = (10, 5))\n",
    " \n",
    "# creating the bar plot\n",
    "plt.bar(axes, values, color ='maroon',\n",
    "        width = 0.4)\n",
    " \n",
    "plt.xlabel(\"#characters in reddit\")\n",
    "plt.ylabel(\"frequency\")\n",
    "plt.title(\"Raw reddit\")\n",
    "plt.show()"
   ]
  },
  {
   "cell_type": "code",
   "execution_count": null,
   "metadata": {
    "colab": {
     "base_uri": "https://localhost:8080/",
     "height": 350
    },
    "id": "hi20htXi7AmD",
    "outputId": "448f4b7f-9393-43ee-bf43-3955c910a40c"
   },
   "outputs": [
    {
     "data": {
      "image/png": "[encoded data removed]",
      "text/plain": [
       "<Figure size 720x360 with 1 Axes>"
      ]
     },
     "metadata": {
      "needs_background": "light"
     },
     "output_type": "display_data"
    }
   ],
   "source": [
    "data = df['processed_num_char'].value_counts()\n",
    "axes = data.index\n",
    "values = data.values\n",
    "  \n",
    "fig = plt.figure(figsize = (10, 5))\n",
    " \n",
    "# creating the bar plot\n",
    "plt.bar(axes, values, color ='maroon',\n",
    "        width = 0.4)\n",
    " \n",
    "plt.xlabel(\"#characters in reddit\")\n",
    "plt.ylabel(\"frequency\")\n",
    "plt.title(\"Processed reddit\")\n",
    "plt.show()"
   ]
  },
  {
   "cell_type": "code",
   "execution_count": null,
   "metadata": {
    "colab": {
     "base_uri": "https://localhost:8080/",
     "height": 334
    },
    "id": "dzE4WTuI7AmD",
    "outputId": "66efaf83-3254-46b7-9a65-7155c3f3b12c"
   },
   "outputs": [
    {
     "data": {
      "image/png": "[encoded data removed]",
      "text/plain": [
       "<Figure size 720x360 with 1 Axes>"
      ]
     },
     "metadata": {
      "needs_background": "light"
     },
     "output_type": "display_data"
    }
   ],
   "source": [
    "data = df['num_mentioned_usernames'].value_counts()[1:]\n",
    "axes = data.index\n",
    "values = data.values\n",
    "  \n",
    "fig = plt.figure(figsize = (10, 5))\n",
    " \n",
    "# creating the bar plot\n",
    "plt.bar(axes, values, color ='maroon',\n",
    "        width = 0.4)\n",
    " \n",
    "plt.xlabel(\"#usernames in reddit\")\n",
    "plt.ylabel(\"frequency\")\n",
    "plt.show()"
   ]
  },
  {
   "cell_type": "code",
   "execution_count": null,
   "metadata": {
    "colab": {
     "base_uri": "https://localhost:8080/",
     "height": 334
    },
    "id": "pCJBNgjB7AmE",
    "outputId": "d129d151-6dc1-41bc-ea75-aac5d34208c5"
   },
   "outputs": [
    {
     "data": {
      "image/png": "[encoded data removed]",
      "text/plain": [
       "<Figure size 720x360 with 1 Axes>"
      ]
     },
     "metadata": {
      "needs_background": "light"
     },
     "output_type": "display_data"
    }
   ],
   "source": [
    "data = df['num_mentioned_hashtags'].value_counts()[1:]\n",
    "axes = data.index\n",
    "values = data.values\n",
    "  \n",
    "fig = plt.figure(figsize = (10, 5))\n",
    " \n",
    "# creating the bar plot\n",
    "plt.bar(axes, values, color ='maroon',\n",
    "        width = 0.4)\n",
    " \n",
    "plt.xlabel(\"#hashtags in reddit\")\n",
    "plt.ylabel(\"frequency\")\n",
    "plt.show()"
   ]
  },
  {
   "cell_type": "code",
   "execution_count": null,
   "metadata": {
    "colab": {
     "base_uri": "https://localhost:8080/",
     "height": 334
    },
    "id": "8AksmKcX7AmE",
    "outputId": "6f04f298-2c41-4929-d9ce-1a49b028e478"
   },
   "outputs": [
    {
     "data": {
      "image/png": "[encoded data removed]",
      "text/plain": [
       "<Figure size 720x360 with 1 Axes>"
      ]
     },
     "metadata": {
      "needs_background": "light"
     },
     "output_type": "display_data"
    }
   ],
   "source": [
    "data = df['num_mentioned_urls'].value_counts()[1:]\n",
    "axes = data.index\n",
    "values = data.values\n",
    "  \n",
    "fig = plt.figure(figsize = (10, 5))\n",
    " \n",
    "# creating the bar plot\n",
    "plt.bar(axes, values, color ='maroon',\n",
    "        width = 0.4)\n",
    " \n",
    "plt.xlabel(\"#urls in reddit\")\n",
    "plt.ylabel(\"frequency\")\n",
    "plt.show()"
   ]
  },
  {
   "cell_type": "code",
   "execution_count": null,
   "metadata": {
    "colab": {
     "base_uri": "https://localhost:8080/",
     "height": 334
    },
    "id": "Kxy6tW0p7AmF",
    "outputId": "4f56f51e-9548-4906-ff44-e00add606d86"
   },
   "outputs": [
    {
     "data": {
      "image/png": "[encoded data removed]",
      "text/plain": [
       "<Figure size 720x360 with 1 Axes>"
      ]
     },
     "metadata": {
      "needs_background": "light"
     },
     "output_type": "display_data"
    }
   ],
   "source": [
    "data = df['num_mentioned_expressions'].value_counts()[1:]\n",
    "axes = data.index\n",
    "values = data.values\n",
    "  \n",
    "fig = plt.figure(figsize = (10, 5))\n",
    " \n",
    "# creating the bar plot\n",
    "plt.bar(axes, values, color ='maroon',\n",
    "        width = 0.4)\n",
    " \n",
    "plt.xlabel(\"#expressions in reddit\")\n",
    "plt.ylabel(\"frequency\")\n",
    "plt.show()"
   ]
  },
  {
   "cell_type": "code",
   "execution_count": null,
   "metadata": {
    "colab": {
     "base_uri": "https://localhost:8080/",
     "height": 334
    },
    "id": "xmDNIKRE7AmG",
    "outputId": "766c711f-c43b-4a88-b694-260f4ccd18d4"
   },
   "outputs": [
    {
     "data": {
      "image/png": "[encoded data removed]",
      "text/plain": [
       "<Figure size 720x360 with 1 Axes>"
      ]
     },
     "metadata": {
      "needs_background": "light"
     },
     "output_type": "display_data"
    }
   ],
   "source": [
    "data = df['date_day_of_week'].value_counts()\n",
    "axes = data.index\n",
    "values = data.values\n",
    "  \n",
    "fig = plt.figure(figsize = (10, 5))\n",
    " \n",
    "# creating the bar plot\n",
    "plt.bar(axes, values, color ='maroon',\n",
    "        width = 0.4)\n",
    " \n",
    "plt.xlabel(\"day of the week\")\n",
    "plt.ylabel(\"frequency\")\n",
    "plt.show()"
   ]
  },
  {
   "cell_type": "code",
   "execution_count": null,
   "metadata": {
    "colab": {
     "base_uri": "https://localhost:8080/",
     "height": 334
    },
    "id": "cUKQFGQq7AmG",
    "outputId": "443a2923-f407-459f-9c82-d273799e7bcf"
   },
   "outputs": [
    {
     "data": {
      "image/png": "[encoded data removed]",
      "text/plain": [
       "<Figure size 720x360 with 1 Axes>"
      ]
     },
     "metadata": {
      "needs_background": "light"
     },
     "output_type": "display_data"
    }
   ],
   "source": [
    "data = df['date_month'].value_counts()\n",
    "axes = data.index\n",
    "values = data.values\n",
    "  \n",
    "fig = plt.figure(figsize = (10, 5))\n",
    " \n",
    "# creating the bar plot\n",
    "plt.bar(axes, values, color ='maroon',\n",
    "        width = 0.4)\n",
    " \n",
    "plt.xlabel(\"month\")\n",
    "plt.ylabel(\"frequency\")\n",
    "plt.show()"
   ]
  },
  {
   "cell_type": "code",
   "execution_count": null,
   "metadata": {
    "colab": {
     "base_uri": "https://localhost:8080/",
     "height": 334
    },
    "id": "__XQ9cA57AmH",
    "outputId": "963357fd-6845-443c-cd71-f5958c4b57eb"
   },
   "outputs": [
    {
     "data": {
      "image/png": "[encoded data removed]",
      "text/plain": [
       "<Figure size 720x360 with 1 Axes>"
      ]
     },
     "metadata": {
      "needs_background": "light"
     },
     "output_type": "display_data"
    }
   ],
   "source": [
    "data = df['date_year'].value_counts()\n",
    "axes = data.index\n",
    "values = data.values\n",
    "  \n",
    "fig = plt.figure(figsize = (10, 5))\n",
    " \n",
    "# creating the bar plot\n",
    "plt.bar(axes, values, color ='maroon',\n",
    "        width = 0.4)\n",
    " \n",
    "plt.xlabel(\"month\")\n",
    "plt.ylabel(\"frequency\")\n",
    "plt.show()"
   ]
  },
  {
   "cell_type": "code",
   "execution_count": null,
   "metadata": {
    "colab": {
     "base_uri": "https://localhost:8080/",
     "height": 345
    },
    "id": "85ZVX64p7AmH",
    "outputId": "47e20396-40fa-434f-c289-3c26e34ca0cb"
   },
   "outputs": [
    {
     "data": {
      "image/png": "[encoded data removed]",
      "text/plain": [
       "<Figure size 720x360 with 1 Axes>"
      ]
     },
     "metadata": {
      "needs_background": "light"
     },
     "output_type": "display_data"
    }
   ],
   "source": [
    "data = df['date_hour'].value_counts()\n",
    "axes = data.index\n",
    "values = data.values\n",
    "  \n",
    "fig = plt.figure(figsize = (10, 5))\n",
    " \n",
    "# creating the bar plot\n",
    "plt.bar(axes, values, color ='maroon',\n",
    "        width = 0.4)\n",
    " \n",
    "plt.xlabel(\"month\")\n",
    "plt.ylabel(\"frequency\")\n",
    "plt.show()"
   ]
  },
  {
   "cell_type": "code",
   "execution_count": null,
   "metadata": {
    "colab": {
     "base_uri": "https://localhost:8080/",
     "height": 334
    },
    "id": "9IJFedFn7AmI",
    "outputId": "fcd3ab00-0e24-451e-c2ae-22508183fd1a"
   },
   "outputs": [
    {
     "data": {
      "image/png": "[encoded data removed]",
      "text/plain": [
       "<Figure size 720x360 with 1 Axes>"
      ]
     },
     "metadata": {
      "needs_background": "light"
     },
     "output_type": "display_data"
    }
   ],
   "source": [
    "data = df['date_date'].value_counts()\n",
    "axes = data.index\n",
    "values = data.values\n",
    "  \n",
    "fig = plt.figure(figsize = (10, 5))\n",
    " \n",
    "# creating the bar plot\n",
    "plt.bar(axes, values, color ='maroon',\n",
    "        width = 0.4)\n",
    " \n",
    "plt.xlabel(\"month\")\n",
    "plt.ylabel(\"frequency\")\n",
    "plt.show()"
   ]
  },
  {
   "cell_type": "code",
   "execution_count": null,
   "metadata": {
    "colab": {
     "base_uri": "https://localhost:8080/"
    },
    "id": "e6kDz8AgDgTH",
    "outputId": "5e7167e2-c52e-44da-a0c6-a4fb87f64934"
   },
   "outputs": [
    {
     "data": {
      "text/plain": [
       "count    1.107302e+06\n",
       "mean     1.835452e+02\n",
       "std      1.881378e+02\n",
       "min      0.000000e+00\n",
       "25%      6.600000e+01\n",
       "50%      1.300000e+02\n",
       "75%      2.360000e+02\n",
       "max      1.200300e+04\n",
       "Name: processed_num_word, dtype: float64"
      ]
     },
     "execution_count": 7,
     "metadata": {},
     "output_type": "execute_result"
    }
   ],
   "source": [
    "df['processed_num_word'].describe()"
   ]
  },
  {
   "cell_type": "code",
   "execution_count": null,
   "metadata": {
    "colab": {
     "base_uri": "https://localhost:8080/"
    },
    "id": "lVwmCEjXFzAi",
    "outputId": "a37816db-1e21-43c5-8b65-125b6e1b83fd"
   },
   "outputs": [
    {
     "data": {
      "text/plain": [
       "393.0"
      ]
     },
     "execution_count": 8,
     "metadata": {},
     "output_type": "execute_result"
    }
   ],
   "source": [
    "# decide to what length the post should be trimmed.\n",
    "# 90% percentile of length is 393. Trim to 400 would eliminate long posts and outliers\n",
    "df.processed_num_word.quantile(0.9)"
   ]
  }
 ],
 "metadata": {
  "colab": {
   "provenance": []
  },
  "kernelspec": {
   "display_name": "Python 3",
   "language": "python",
   "name": "python3"
  },
  "language_info": {
   "codemirror_mode": {
    "name": "ipython",
    "version": 3
   },
   "file_extension": ".py",
   "mimetype": "text/x-python",
   "name": "python",
   "nbconvert_exporter": "python",
   "pygments_lexer": "ipython3",
   "version": "3.7.6"
  }
 },
 "nbformat": 4,
 "nbformat_minor": 1
}
