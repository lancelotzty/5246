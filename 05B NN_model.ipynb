{
 "cells": [
  {
   "cell_type": "code",
   "execution_count": 5,
   "id": "a841aa47",
   "metadata": {},
   "outputs": [],
   "source": [
    "%load_ext autoreload\n",
    "%autoreload 2"
   ]
  },
  {
   "cell_type": "code",
   "execution_count": 6,
   "id": "0154e21b-32ec-4796-8983-8b89acb857d6",
   "metadata": {},
   "outputs": [],
   "source": [
    "import random\n",
    "import unidecode\n",
    "import numpy as np\n",
    "import pandas as pd\n",
    "import torch\n",
    "import torch.nn as nn\n",
    "import time\n",
    "import torch.nn.functional as F\n",
    "from keras.preprocessing import text # depreciated?\n",
    "from torch.utils.data import Dataset, DataLoader,TensorDataset\n",
    "from sklearn.model_selection import train_test_split\n",
    "\n",
    "from tensorflow.keras.preprocessing.sequence import pad_sequences\n",
    "import gc\n",
    "import re\n",
    "import pickle\n",
    "import csv\n",
    "from tqdm import tqdm\n",
    "tqdm.pandas()\n",
    "from gensim.models import KeyedVectors\n",
    "from flashtext import KeywordProcessor\n",
    "\n",
    "CRAWL_EMBEDDING_PATH = 'data/fasttext-crawl-300d-2m/crawl-300d-2M.vec'\n",
    "PARAD_EMBEDDING_PATH = 'data/paragram-dandrocec/paragram_300_sl999.txt'\n",
    "GLOVE_EMBEDDING_PATH = 'data/glove.840B.300d.txt'\n",
    "\n",
    "BATCH_SIZE = 256\n",
    "EPOCHS = 5\n",
    "MAX_LEN = 220\n",
    "NUM_MODEL = 3\n",
    "SEED = 6089"
   ]
  },
  {
   "cell_type": "code",
   "execution_count": 7,
   "id": "c183e352",
   "metadata": {},
   "outputs": [],
   "source": [
    "from utils import seed_everything"
   ]
  },
  {
   "cell_type": "markdown",
   "id": "a4af5f83",
   "metadata": {},
   "source": [
    "# Prepare data"
   ]
  },
  {
   "cell_type": "code",
   "execution_count": 8,
   "id": "8a0bad5a",
   "metadata": {},
   "outputs": [
    {
     "name": "stdout",
     "output_type": "stream",
     "text": [
      "cleaned_reddit.csv\n",
      "cleaned_reddit_lemmatized_60percent.csv\n",
      "cleaned_reddit_lemmatized.csv\n",
      "crawl_matrix_reddit_mental_health_cut.npy\n",
      "crawl_matrix_reddit_mental_health_cut_v2.npy\n",
      "crawl_matrix_reddit_mental_health_cut_v3.npy\n",
      "crawl_matrix_reddit_mental_health_cut_v4.npy\n",
      "crawl_oov_reddit_mental_health_cut.pickle\n",
      "crawl_oov_reddit_mental_health_cut_v2.pickle\n",
      "crawl_oov_reddit_mental_health_cut_v3.pickle\n",
      "mental_health_sentence_embedding.pickle\n",
      "test_roberta.npy\n",
      "train_roberta.npy\n"
     ]
    }
   ],
   "source": [
    "ls ../data"
   ]
  },
  {
   "cell_type": "code",
   "execution_count": 10,
   "id": "21e9c022",
   "metadata": {},
   "outputs": [],
   "source": [
    "df = pd.read_csv('../data/cleaned_reddit_lemmatized_60percent.csv')"
   ]
  },
  {
   "cell_type": "code",
   "execution_count": 11,
   "id": "d558dc76",
   "metadata": {},
   "outputs": [],
   "source": [
    "train_df = df[df[\"date_year\"].isin([2018, 2019])]\n",
    "test_df = df[df[\"date_year\"]==2020]\n",
    "\n",
    "train_df = train_df.reset_index(drop = True)\n",
    "test_df = test_df.reset_index(drop = True)"
   ]
  },
  {
   "cell_type": "code",
   "execution_count": 12,
   "id": "d9750649",
   "metadata": {},
   "outputs": [
    {
     "name": "stdout",
     "output_type": "stream",
     "text": [
      "(452452, 30)\n",
      "(184143, 30)\n"
     ]
    }
   ],
   "source": [
    "print(train_df.shape)\n",
    "print(test_df.shape)"
   ]
  },
  {
   "cell_type": "code",
   "execution_count": 13,
   "id": "cf14bf15",
   "metadata": {},
   "outputs": [],
   "source": [
    "train_roberta = np.load('../data/train_roberta.npy')\n",
    "test_roberta = np.load('../data/test_roberta.npy')"
   ]
  },
  {
   "cell_type": "code",
   "execution_count": 14,
   "id": "4c5c01c2",
   "metadata": {},
   "outputs": [],
   "source": [
    "y_train = train_df['label'].values"
   ]
  },
  {
   "cell_type": "code",
   "execution_count": 16,
   "id": "6f61a209",
   "metadata": {},
   "outputs": [],
   "source": [
    "x_train = train_roberta"
   ]
  },
  {
   "cell_type": "code",
   "execution_count": 20,
   "id": "96657fb3",
   "metadata": {},
   "outputs": [],
   "source": [
    "x_test = test_roberta"
   ]
  },
  {
   "cell_type": "markdown",
   "id": "df68f675",
   "metadata": {},
   "source": [
    "# Model"
   ]
  },
  {
   "cell_type": "markdown",
   "id": "3b26cbaa",
   "metadata": {},
   "source": [
    "# Prepare training"
   ]
  },
  {
   "cell_type": "code",
   "execution_count": 129,
   "id": "0996f648",
   "metadata": {},
   "outputs": [],
   "source": [
    "from sklearn.model_selection import KFold, StratifiedKFold\n",
    "from sklearn.metrics import f1_score\n",
    "\n",
    "from model import NeuralNetBase"
   ]
  },
  {
   "cell_type": "code",
   "execution_count": 69,
   "id": "dd0eccb7",
   "metadata": {},
   "outputs": [],
   "source": [
    "x_test_tensor = torch.tensor(x_test)\n",
    "test_data = torch.utils.data.TensorDataset(x_test_tensor)\n",
    "test_loader = torch.utils.data.DataLoader(test_data, batch_size=BATCH_SIZE, shuffle=False)"
   ]
  },
  {
   "cell_type": "code",
   "execution_count": 62,
   "id": "be78dca4",
   "metadata": {},
   "outputs": [],
   "source": [
    "device = 'cuda:0'"
   ]
  },
  {
   "cell_type": "code",
   "execution_count": 124,
   "id": "a352aea1",
   "metadata": {},
   "outputs": [],
   "source": [
    "EPOCHS = 15"
   ]
  },
  {
   "cell_type": "code",
   "execution_count": 125,
   "id": "4ff945c0",
   "metadata": {},
   "outputs": [
    {
     "name": "stdout",
     "output_type": "stream",
     "text": [
      "Fold: 1/5\n",
      "Epoch 1/15 \t loss=0.1068\t val_loss=0.0934 \t val_f1_score=0.9657 \t time=5.23s\n",
      "0.9676772942767305\n",
      "Epoch 2/15 \t loss=0.0850\t val_loss=0.0888 \t val_f1_score=0.9681 \t time=5.46s\n",
      "0.9690132125576318\n",
      "Epoch 3/15 \t loss=0.0776\t val_loss=0.0856 \t val_f1_score=0.9691 \t time=5.34s\n",
      "0.9695779910178502\n",
      "Epoch 4/15 \t loss=0.0713\t val_loss=0.0870 \t val_f1_score=0.9693 \t time=5.09s\n",
      "0.9697571995677272\n",
      "Epoch 5/15 \t loss=0.0662\t val_loss=0.0850 \t val_f1_score=0.9699 \t time=5.24s\n",
      "0.9688991707531647\n",
      "Epoch 6/15 \t loss=0.0611\t val_loss=0.0901 \t val_f1_score=0.9688 \t time=5.10s\n",
      "0.9693553379710333\n",
      "Epoch 7/15 \t loss=0.0566\t val_loss=0.0892 \t val_f1_score=0.9695 \t time=4.93s\n",
      "0.9685461842155282\n",
      "Epoch 8/15 \t loss=0.0531\t val_loss=0.0918 \t val_f1_score=0.9696 \t time=5.13s\n",
      "0.9690783793030416\n",
      "Epoch 9/15 \t loss=0.0501\t val_loss=0.0926 \t val_f1_score=0.9694 \t time=5.31s\n",
      "0.9686656565821128\n",
      "Epoch 10/15 \t loss=0.0473\t val_loss=0.0988 \t val_f1_score=0.9693 \t time=5.04s\n",
      "0.9687525455759926\n",
      "Epoch 11/15 \t loss=0.0443\t val_loss=0.1020 \t val_f1_score=0.9689 \t time=5.06s\n",
      "0.9676338497797907\n",
      "Epoch 12/15 \t loss=0.0420\t val_loss=0.1058 \t val_f1_score=0.9693 \t time=5.04s\n",
      "0.9674600717920312\n",
      "Epoch 13/15 \t loss=0.0398\t val_loss=0.1094 \t val_f1_score=0.9695 \t time=5.45s\n",
      "0.9678673639508425\n",
      "Epoch 14/15 \t loss=0.0386\t val_loss=0.1079 \t val_f1_score=0.9697 \t time=5.13s\n",
      "0.9676610025903781\n",
      "Epoch 15/15 \t loss=0.0369\t val_loss=0.1173 \t val_f1_score=0.9695 \t time=5.21s\n",
      "0.968041141938602\n",
      "Fold: 2/5\n",
      "Epoch 1/15 \t loss=0.1070\t val_loss=0.0903 \t val_f1_score=0.9672 \t time=5.39s\n",
      "0.9673786133602689\n",
      "Epoch 2/15 \t loss=0.0855\t val_loss=0.0883 \t val_f1_score=0.9680 \t time=5.41s\n",
      "0.968958906936457\n",
      "Epoch 3/15 \t loss=0.0773\t val_loss=0.0857 \t val_f1_score=0.9694 \t time=5.34s\n",
      "0.9692847406635061\n",
      "Epoch 4/15 \t loss=0.0713\t val_loss=0.0840 \t val_f1_score=0.9706 \t time=5.27s\n",
      "0.9695291159587929\n",
      "Epoch 5/15 \t loss=0.0660\t val_loss=0.0844 \t val_f1_score=0.9702 \t time=5.17s\n",
      "0.9688828790668123\n",
      "Epoch 6/15 \t loss=0.0610\t val_loss=0.0851 \t val_f1_score=0.9711 \t time=5.23s\n",
      "0.9690729487409242\n",
      "Epoch 7/15 \t loss=0.0572\t val_loss=0.0880 \t val_f1_score=0.9705 \t time=5.08s\n",
      "0.9684049896004735\n",
      "Epoch 8/15 \t loss=0.0531\t val_loss=0.0891 \t val_f1_score=0.9708 \t time=5.42s\n",
      "0.9687145316411702\n",
      "Epoch 9/15 \t loss=0.0502\t val_loss=0.0902 \t val_f1_score=0.9707 \t time=5.07s\n",
      "0.9685733370261156\n",
      "Epoch 10/15 \t loss=0.0472\t val_loss=0.0968 \t val_f1_score=0.9712 \t time=5.00s\n",
      "0.9682040588021266\n",
      "Epoch 11/15 \t loss=0.0447\t val_loss=0.0916 \t val_f1_score=0.9705 \t time=4.95s\n",
      "0.9679108084477824\n",
      "Epoch 12/15 \t loss=0.0420\t val_loss=0.0967 \t val_f1_score=0.9704 \t time=5.43s\n",
      "0.9671233769407471\n",
      "Epoch 13/15 \t loss=0.0405\t val_loss=0.0979 \t val_f1_score=0.9707 \t time=5.07s\n",
      "0.9673297383012116\n",
      "Epoch 14/15 \t loss=0.0387\t val_loss=0.1091 \t val_f1_score=0.9705 \t time=5.03s\n",
      "0.9674600717920312\n",
      "Epoch 15/15 \t loss=0.0365\t val_loss=0.1067 \t val_f1_score=0.9704 \t time=4.99s\n",
      "0.9675578219101459\n",
      "Fold: 3/5\n",
      "Epoch 1/15 \t loss=0.1074\t val_loss=0.0907 \t val_f1_score=0.9676 \t time=5.07s\n",
      "0.9677750443948453\n",
      "Epoch 2/15 \t loss=0.0854\t val_loss=0.0864 \t val_f1_score=0.9689 \t time=5.18s\n",
      "0.9675958358449683\n",
      "Epoch 3/15 \t loss=0.0777\t val_loss=0.0833 \t val_f1_score=0.9702 \t time=4.91s\n",
      "0.9687471150138751\n",
      "Epoch 4/15 \t loss=0.0711\t val_loss=0.0835 \t val_f1_score=0.9700 \t time=4.87s\n",
      "0.969654018887495\n",
      "Epoch 5/15 \t loss=0.0659\t val_loss=0.0881 \t val_f1_score=0.9703 \t time=5.21s\n",
      "0.9686276426472904\n",
      "Epoch 6/15 \t loss=0.0616\t val_loss=0.0844 \t val_f1_score=0.9709 \t time=4.93s\n",
      "0.9694042130300907\n",
      "Epoch 7/15 \t loss=0.0567\t val_loss=0.0887 \t val_f1_score=0.9701 \t time=5.19s\n",
      "0.9690077819955144\n",
      "Epoch 8/15 \t loss=0.0535\t val_loss=0.0888 \t val_f1_score=0.9706 \t time=5.36s\n",
      "0.9681334614945993\n",
      "Epoch 9/15 \t loss=0.0501\t val_loss=0.0918 \t val_f1_score=0.9700 \t time=4.93s\n",
      "0.9679433918204874\n",
      "Epoch 10/15 \t loss=0.0473\t val_loss=0.0935 \t val_f1_score=0.9705 \t time=4.99s\n",
      "0.9679379612583698\n",
      "Epoch 11/15 \t loss=0.0450\t val_loss=0.0954 \t val_f1_score=0.9707 \t time=5.15s\n",
      "0.9677804749569628\n",
      "Epoch 12/15 \t loss=0.0423\t val_loss=0.1024 \t val_f1_score=0.9699 \t time=4.89s\n",
      "0.9674709329162662\n",
      "Epoch 13/15 \t loss=0.0405\t val_loss=0.1023 \t val_f1_score=0.9703 \t time=4.98s\n",
      "0.9677424610221405\n",
      "Epoch 14/15 \t loss=0.0384\t val_loss=0.1063 \t val_f1_score=0.9702 \t time=4.97s\n",
      "0.9676555720282607\n",
      "Epoch 15/15 \t loss=0.0372\t val_loss=0.1080 \t val_f1_score=0.9704 \t time=5.19s\n",
      "0.9674817940405012\n",
      "Fold: 4/5\n",
      "Epoch 1/15 \t loss=0.1069\t val_loss=0.0931 \t val_f1_score=0.9661 \t time=5.04s\n",
      "0.9665585984805287\n",
      "Epoch 2/15 \t loss=0.0850\t val_loss=0.0871 \t val_f1_score=0.9684 \t time=5.12s\n",
      "0.9687742678244625\n",
      "Epoch 3/15 \t loss=0.0770\t val_loss=0.0851 \t val_f1_score=0.9697 \t time=4.96s\n",
      "0.9695454076451454\n",
      "Epoch 4/15 \t loss=0.0707\t val_loss=0.0866 \t val_f1_score=0.9693 \t time=4.88s\n",
      "0.9693607685331509\n",
      "Epoch 5/15 \t loss=0.0652\t val_loss=0.0856 \t val_f1_score=0.9705 \t time=5.00s\n",
      "0.9691218237999816\n",
      "Epoch 6/15 \t loss=0.0606\t val_loss=0.0870 \t val_f1_score=0.9702 \t time=5.74s\n",
      "0.968790559510815\n",
      "Epoch 7/15 \t loss=0.0564\t val_loss=0.0939 \t val_f1_score=0.9689 \t time=5.44s\n",
      "0.9682637949854189\n",
      "Epoch 8/15 \t loss=0.0528\t val_loss=0.0924 \t val_f1_score=0.9694 \t time=5.23s\n",
      "0.9684647257837659\n",
      "Epoch 9/15 \t loss=0.0502\t val_loss=0.0926 \t val_f1_score=0.9704 \t time=5.11s\n",
      "0.9677750443948453\n",
      "Epoch 10/15 \t loss=0.0462\t val_loss=0.1041 \t val_f1_score=0.9690 \t time=5.34s\n",
      "0.9681877671157741\n",
      "Epoch 11/15 \t loss=0.0436\t val_loss=0.0996 \t val_f1_score=0.9691 \t time=5.32s\n",
      "0.9680302808143672\n",
      "Epoch 12/15 \t loss=0.0418\t val_loss=0.1061 \t val_f1_score=0.9695 \t time=5.04s\n",
      "0.9677859055190803\n",
      "Epoch 13/15 \t loss=0.0398\t val_loss=0.1104 \t val_f1_score=0.9697 \t time=5.24s\n",
      "0.9682475032990665\n",
      "Epoch 14/15 \t loss=0.0380\t val_loss=0.1082 \t val_f1_score=0.9695 \t time=5.19s\n",
      "0.9682312116127141\n",
      "Epoch 15/15 \t loss=0.0361\t val_loss=0.1147 \t val_f1_score=0.9698 \t time=5.20s\n",
      "0.9679922668795446\n",
      "Fold: 5/5\n",
      "Epoch 1/15 \t loss=0.1071\t val_loss=0.0928 \t val_f1_score=0.9663 \t time=5.28s\n",
      "0.9667703904031106\n",
      "Epoch 2/15 \t loss=0.0849\t val_loss=0.0879 \t val_f1_score=0.9688 \t time=5.61s\n",
      "0.9681226003703644\n",
      "Epoch 3/15 \t loss=0.0776\t val_loss=0.0836 \t val_f1_score=0.9696 \t time=5.05s\n",
      "0.9693879213437383\n",
      "Epoch 4/15 \t loss=0.0712\t val_loss=0.0868 \t val_f1_score=0.9694 \t time=5.74s\n",
      "0.969833227437372\n",
      "Epoch 5/15 \t loss=0.0661\t val_loss=0.0850 \t val_f1_score=0.9699 \t time=4.84s\n",
      "0.9690729487409242\n",
      "Epoch 6/15 \t loss=0.0614\t val_loss=0.0891 \t val_f1_score=0.9694 \t time=4.95s\n",
      "0.9690403653682192\n",
      "Epoch 7/15 \t loss=0.0568\t val_loss=0.0909 \t val_f1_score=0.9695 \t time=5.03s\n",
      "0.969116393237864\n",
      "Epoch 8/15 \t loss=0.0532\t val_loss=0.0904 \t val_f1_score=0.9700 \t time=4.87s\n",
      "0.9688557262562247\n",
      "Epoch 9/15 \t loss=0.0500\t val_loss=0.0937 \t val_f1_score=0.9700 \t time=5.18s\n",
      "0.9689806291849269\n",
      "Epoch 10/15 \t loss=0.0467\t val_loss=0.0967 \t val_f1_score=0.9701 \t time=4.97s\n",
      "0.968432142411061\n",
      "Epoch 11/15 \t loss=0.0442\t val_loss=0.1012 \t val_f1_score=0.9696 \t time=5.32s\n",
      "0.9683072394823589\n",
      "Epoch 12/15 \t loss=0.0425\t val_loss=0.0983 \t val_f1_score=0.9696 \t time=5.63s\n",
      "0.9681497531809518\n",
      "Epoch 13/15 \t loss=0.0402\t val_loss=0.1073 \t val_f1_score=0.9699 \t time=4.92s\n",
      "0.9680248502522496\n",
      "Epoch 14/15 \t loss=0.0381\t val_loss=0.1107 \t val_f1_score=0.9692 \t time=5.38s\n",
      "0.9676935859630831\n",
      "Epoch 15/15 \t loss=0.0367\t val_loss=0.1133 \t val_f1_score=0.9692 \t time=5.94s\n",
      "0.9679488223826048\n"
     ]
    }
   ],
   "source": [
    "final_test = list()\n",
    "val_f1_score = list()\n",
    "\n",
    "NFOLDS = 5\n",
    "\n",
    "skf = StratifiedKFold(n_splits=NFOLDS, shuffle=True, random_state=SEED)\n",
    "\n",
    "for fold_, (trn_idx, val_idx) in enumerate(skf.split(x_train, y_train)):\n",
    "        \n",
    "    print(\"Fold: {}/{}\".format(fold_ + 1, NFOLDS))\n",
    "     \n",
    "    y_train_fold = torch.tensor(y_train[trn_idx], dtype=torch.float).to(device)\n",
    "    y_val = torch.tensor(y_train[val_idx], dtype=torch.float).to(device)\n",
    "    x_train_roberta = torch.tensor(train_roberta[trn_idx], dtype=torch.float).to(device)\n",
    "    x_val_roberta = torch.tensor(x_train[val_idx], dtype=torch.float).to(device)\n",
    "    \n",
    "    train_data = torch.utils.data.TensorDataset(x_train_roberta, y_train_fold)\n",
    "    val_data = torch.utils.data.TensorDataset(x_val_roberta, y_val)\n",
    "\n",
    "    train_loader = torch.utils.data.DataLoader(train_data, batch_size=BATCH_SIZE, shuffle=True)\n",
    "    val_loader = torch.utils.data.DataLoader(val_data, batch_size=BATCH_SIZE, shuffle=False)\n",
    "\n",
    "    net = NeuralNetBase(256, 1).to(device)\n",
    "    loss_fn = torch.nn.BCELoss(reduction='mean')\n",
    "    optimizer = torch.optim.AdamW(params =  net.parameters(), lr=0.002, weight_decay=1e-7)\n",
    "\n",
    "    test_checkpoint = list()\n",
    "    loss_checkpoint = list()\n",
    "    val_f1_epoch = list()\n",
    "    \n",
    "    for epoch in range(EPOCHS): \n",
    "        \n",
    "        start_time = time.time()\n",
    "\n",
    "        avg_loss = 0.0\n",
    "        \n",
    "        net.train()\n",
    "        for i, data in enumerate(train_loader):\n",
    "            \n",
    "            # get the inputs\n",
    "            inputs_roberta, labels = data\n",
    "            inputs_roberta = inputs_roberta.to(device)\n",
    "            \n",
    "            pred1 = net(inputs_roberta)\n",
    "            loss1 = loss_fn(pred1, labels.unsqueeze(1))\n",
    "            \n",
    "            optimizer.zero_grad()\n",
    "            loss1.backward()\n",
    "            optimizer.step()\n",
    "\n",
    "            avg_loss += loss1.item()\n",
    "\n",
    "        net.eval()\n",
    "        \n",
    "        valid_preds = np.zeros((len(val_idx),))\n",
    "        true_label = np.zeros((len(val_idx),))\n",
    "\n",
    "        avg_val_loss = 0.0\n",
    "\n",
    "        for j, data in enumerate(val_loader):\n",
    "            \n",
    "            # get the inputs\n",
    "            inputs_roberta, labels = data\n",
    "            inputs_roberta = inputs_roberta.to(device)\n",
    "            \n",
    "            pred1 = net(inputs_roberta)\n",
    "            loss1_val = loss_fn(pred1, labels.unsqueeze(1))\n",
    "            avg_val_loss += loss1_val.item()\n",
    "            \n",
    "            valid_preds[j * BATCH_SIZE:(j+1) * BATCH_SIZE] = (pred1.squeeze().cpu().detach().numpy()>=0.5).astype(float)\n",
    "            true_label[j * BATCH_SIZE:(j+1) * BATCH_SIZE]  = labels.cpu().detach().numpy()\n",
    "            \n",
    "        elapsed_time = time.time() - start_time \n",
    "\n",
    "        print('Epoch {}/{} \\t loss={:.4f}\\t val_loss={:.4f} \\t val_f1_score={:.4f} \\t time={:.2f}s'.format(\n",
    "                        epoch+1, EPOCHS, avg_loss/len(train_loader),avg_val_loss/len(val_loader), f1_score(true_label, valid_preds, average='micro'), elapsed_time))\n",
    "        val_f1_epoch.append(f1_score(true_label, valid_preds, average='micro'))\n",
    "        \n",
    "        ## inference\n",
    "        result = list()\n",
    "        with torch.no_grad():\n",
    "            for inputs_roberta in test_loader:\n",
    "                inputs_roberta = inputs_roberta[0].to(device)\n",
    "                y_pred = net(inputs_roberta)\n",
    "                \n",
    "                y_pred = y_pred.cpu().detach().numpy()\n",
    "                result.extend(y_pred)\n",
    "\n",
    "        test_checkpoint.append(result)\n",
    "        loss_checkpoint.append(avg_val_loss)\n",
    "        print(f1_score(test_df.label.values, np.array(test_checkpoint[-1]) >= 0.5, average='micro'))\n",
    "        \n",
    "        \n",
    "    final_test.append(test_checkpoint[np.argmin(loss_checkpoint)])\n",
    "    val_f1_score.append(val_f1_epoch[np.argmin(loss_checkpoint)])\n",
    "    with open(\"final_test_{}\".format(fold_), \"wb\") as fp: \n",
    "        pickle.dump(final_test, fp)\n",
    "\n"
   ]
  },
  {
   "cell_type": "code",
   "execution_count": 114,
   "id": "3a0772f7",
   "metadata": {},
   "outputs": [
    {
     "data": {
      "text/plain": [
       "array([[ True],\n",
       "       [ True],\n",
       "       [False],\n",
       "       ...,\n",
       "       [False],\n",
       "       [False],\n",
       "       [False]])"
      ]
     },
     "execution_count": 114,
     "metadata": {},
     "output_type": "execute_result"
    }
   ],
   "source": [
    "np.array(test_checkpoint[0]) >= 0.5"
   ]
  },
  {
   "cell_type": "code",
   "execution_count": 117,
   "id": "36c2ad30",
   "metadata": {},
   "outputs": [
    {
     "name": "stdout",
     "output_type": "stream",
     "text": [
      "mean val f1 score: 0.971537311897616\n"
     ]
    }
   ],
   "source": [
    "print('mean val f1 score:', np.mean(val_f1_score))"
   ]
  },
  {
   "cell_type": "code",
   "execution_count": 74,
   "id": "31107db8",
   "metadata": {},
   "outputs": [],
   "source": [
    "from sklearn.metrics import f1_score, recall_score, precision_score\n",
    "\n",
    "def threshold_search_fold(y_true, y_proba):\n",
    "\n",
    "    binary_best_threshold = 0\n",
    "    binary_best_score = 0\n",
    "    \n",
    "    for threshold in tqdm([i * 0.01 for i in range(100)], disable=True):\n",
    " \n",
    "        binary_score = f1_score(y_true, np.where(y_proba>=threshold , 1 ,0), average='micro')\n",
    "        if binary_score > binary_best_score:\n",
    "            binary_best_threshold = threshold\n",
    "            binary_best_score = binary_score\n",
    "            \n",
    "    recall = recall_score(y_true, np.where(y_proba>=binary_best_threshold , 1 ,0), average='micro')\n",
    "    precission = precision_score(y_true, np.where(y_proba>=binary_best_threshold , 1 ,0), average='micro')\n",
    "    print('best_threshold_recall:', recall)\n",
    "    print('best_threshold_precision:', precission)\n",
    "    \n",
    "    search_result = {'f1_binary_threshold': binary_best_threshold, 'f1_binary': binary_best_score,}\n",
    "    return search_result"
   ]
  },
  {
   "cell_type": "code",
   "execution_count": 126,
   "id": "af52439d",
   "metadata": {},
   "outputs": [],
   "source": [
    "predicted_prob = np.mean(final_test, axis=0)"
   ]
  },
  {
   "cell_type": "code",
   "execution_count": 128,
   "id": "81764aad",
   "metadata": {},
   "outputs": [
    {
     "name": "stdout",
     "output_type": "stream",
     "text": [
      "best_threshold_recall: 0.97236386938412\n",
      "best_threshold_precision: 0.97236386938412\n"
     ]
    },
    {
     "data": {
      "text/plain": [
       "{'f1_binary_threshold': 0.49, 'f1_binary': 0.97236386938412}"
      ]
     },
     "execution_count": 128,
     "metadata": {},
     "output_type": "execute_result"
    }
   ],
   "source": [
    "search_resutls = threshold_search_fold(test_df.label.values, predicted_prob)\n",
    "search_resutls"
   ]
  },
  {
   "cell_type": "code",
   "execution_count": null,
   "id": "de6319b2",
   "metadata": {},
   "outputs": [],
   "source": [
    "predicted_prob = (predicted_prob>=0.5).astype(float)"
   ]
  }
 ],
 "metadata": {
  "kernelspec": {
   "display_name": "Python 3",
   "language": "python",
   "name": "python3"
  },
  "language_info": {
   "codemirror_mode": {
    "name": "ipython",
    "version": 3
   },
   "file_extension": ".py",
   "mimetype": "text/x-python",
   "name": "python",
   "nbconvert_exporter": "python",
   "pygments_lexer": "ipython3",
   "version": "3.6.8"
  }
 },
 "nbformat": 4,
 "nbformat_minor": 5
}
