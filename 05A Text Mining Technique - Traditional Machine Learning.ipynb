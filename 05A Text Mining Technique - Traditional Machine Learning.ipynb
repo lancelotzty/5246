{
 "cells": [
  {
   "cell_type": "code",
   "execution_count": 3,
   "metadata": {
    "execution": {
     "iopub.execute_input": "2023-04-09T10:36:18.552661Z",
     "iopub.status.busy": "2023-04-09T10:36:18.552146Z",
     "iopub.status.idle": "2023-04-09T10:36:19.456999Z",
     "shell.execute_reply": "2023-04-09T10:36:19.455744Z",
     "shell.execute_reply.started": "2023-04-09T10:36:18.552615Z"
    }
   },
   "outputs": [],
   "source": [
    "# utilities\n",
    "import re\n",
    "import pickle\n",
    "import numpy as np\n",
    "import pandas as pd\n",
    "import string\n",
    "# plotting\n",
    "import seaborn as sns\n",
    "from wordcloud import WordCloud\n",
    "import matplotlib.pyplot as plt\n",
    "from tqdm import tqdm\n",
    "\n",
    "# nltk\n",
    "import nltk\n",
    "from nltk.stem import WordNetLemmatizer\n",
    "\n",
    "# sklearn\n",
    "from sklearn.pipeline import Pipeline\n",
    "from sklearn.svm import LinearSVC\n",
    "from sklearn.naive_bayes import BernoulliNB\n",
    "from sklearn.linear_model import LogisticRegression\n",
    "\n",
    "from sklearn.model_selection import train_test_split\n",
    "from sklearn.feature_extraction.text import TfidfVectorizer\n",
    "from sklearn import metrics\n",
    "from sklearn.metrics import confusion_matrix, classification_report"
   ]
  },
  {
   "cell_type": "code",
   "execution_count": 4,
   "metadata": {
    "execution": {
     "iopub.execute_input": "2023-04-09T10:36:21.450369Z",
     "iopub.status.busy": "2023-04-09T10:36:21.449809Z",
     "iopub.status.idle": "2023-04-09T10:37:24.387643Z",
     "shell.execute_reply": "2023-04-09T10:37:24.386486Z",
     "shell.execute_reply.started": "2023-04-09T10:36:21.450316Z"
    }
   },
   "outputs": [],
   "source": [
    "df = pd.read_csv(\"/kaggle/input/cleaned-reddit-lemmatized/cleaned_reddit_lemmatized.csv\")"
   ]
  },
  {
   "cell_type": "markdown",
   "metadata": {},
   "source": [
    "## Simple Data Understanding"
   ]
  },
  {
   "cell_type": "code",
   "execution_count": 6,
   "metadata": {
    "execution": {
     "iopub.execute_input": "2023-03-29T13:59:16.598171Z",
     "iopub.status.busy": "2023-03-29T13:59:16.597726Z",
     "iopub.status.idle": "2023-03-29T13:59:16.642875Z",
     "shell.execute_reply": "2023-03-29T13:59:16.641380Z",
     "shell.execute_reply.started": "2023-03-29T13:59:16.598131Z"
    }
   },
   "outputs": [
    {
     "data": {
      "text/html": [
       "<div>\n",
       "<style scoped>\n",
       "    .dataframe tbody tr th:only-of-type {\n",
       "        vertical-align: middle;\n",
       "    }\n",
       "\n",
       "    .dataframe tbody tr th {\n",
       "        vertical-align: top;\n",
       "    }\n",
       "\n",
       "    .dataframe thead th {\n",
       "        text-align: right;\n",
       "    }\n",
       "</style>\n",
       "<table border=\"1\" class=\"dataframe\">\n",
       "  <thead>\n",
       "    <tr style=\"text-align: right;\">\n",
       "      <th></th>\n",
       "      <th>Unnamed: 0</th>\n",
       "      <th>subreddit</th>\n",
       "      <th>author</th>\n",
       "      <th>date</th>\n",
       "      <th>post</th>\n",
       "      <th>label</th>\n",
       "      <th>num_char</th>\n",
       "      <th>text_processed</th>\n",
       "      <th>mentioned_usernames</th>\n",
       "      <th>num_mentioned_usernames</th>\n",
       "      <th>...</th>\n",
       "      <th>mentioned_hashtags_cleaned</th>\n",
       "      <th>num_word</th>\n",
       "      <th>processed_num_word</th>\n",
       "      <th>num_mentioned_expressions</th>\n",
       "      <th>date_processed</th>\n",
       "      <th>date_day_of_week</th>\n",
       "      <th>date_month</th>\n",
       "      <th>date_year</th>\n",
       "      <th>date_hour</th>\n",
       "      <th>date_date</th>\n",
       "    </tr>\n",
       "  </thead>\n",
       "  <tbody>\n",
       "    <tr>\n",
       "      <th>0</th>\n",
       "      <td>0</td>\n",
       "      <td>conspiracy</td>\n",
       "      <td>catvlyst</td>\n",
       "      <td>2018/12/17</td>\n",
       "      <td>My argument against the annunaki narrative One...</td>\n",
       "      <td>0</td>\n",
       "      <td>1249</td>\n",
       "      <td>my argument against the annunaki narrative one...</td>\n",
       "      <td>NaN</td>\n",
       "      <td>0</td>\n",
       "      <td>...</td>\n",
       "      <td>NaN</td>\n",
       "      <td>207</td>\n",
       "      <td>219</td>\n",
       "      <td>0</td>\n",
       "      <td>2018-12-17</td>\n",
       "      <td>0</td>\n",
       "      <td>12</td>\n",
       "      <td>2018</td>\n",
       "      <td>0</td>\n",
       "      <td>2018-12-17</td>\n",
       "    </tr>\n",
       "    <tr>\n",
       "      <th>1</th>\n",
       "      <td>1</td>\n",
       "      <td>conspiracy</td>\n",
       "      <td>When_The_Dank_Hits</td>\n",
       "      <td>2018/12/17</td>\n",
       "      <td>diagram of all involved in 911 is there a diag...</td>\n",
       "      <td>0</td>\n",
       "      <td>103</td>\n",
       "      <td>diagram of all involved in is there a diagram ...</td>\n",
       "      <td>NaN</td>\n",
       "      <td>0</td>\n",
       "      <td>...</td>\n",
       "      <td>NaN</td>\n",
       "      <td>20</td>\n",
       "      <td>17</td>\n",
       "      <td>0</td>\n",
       "      <td>2018-12-17</td>\n",
       "      <td>0</td>\n",
       "      <td>12</td>\n",
       "      <td>2018</td>\n",
       "      <td>0</td>\n",
       "      <td>2018-12-17</td>\n",
       "    </tr>\n",
       "    <tr>\n",
       "      <th>2</th>\n",
       "      <td>2</td>\n",
       "      <td>conspiracy</td>\n",
       "      <td>freethinker78</td>\n",
       "      <td>2018/12/17</td>\n",
       "      <td>Is the US government analyzing online comments...</td>\n",
       "      <td>0</td>\n",
       "      <td>1060</td>\n",
       "      <td>is the u government analyzing online comment a...</td>\n",
       "      <td>NaN</td>\n",
       "      <td>0</td>\n",
       "      <td>...</td>\n",
       "      <td>NaN</td>\n",
       "      <td>153</td>\n",
       "      <td>152</td>\n",
       "      <td>0</td>\n",
       "      <td>2018-12-17</td>\n",
       "      <td>0</td>\n",
       "      <td>12</td>\n",
       "      <td>2018</td>\n",
       "      <td>0</td>\n",
       "      <td>2018-12-17</td>\n",
       "    </tr>\n",
       "    <tr>\n",
       "      <th>3</th>\n",
       "      <td>3</td>\n",
       "      <td>conspiracy</td>\n",
       "      <td>MrBobosky</td>\n",
       "      <td>2018/12/17</td>\n",
       "      <td>Who owns the media? It’s clear that many compa...</td>\n",
       "      <td>0</td>\n",
       "      <td>709</td>\n",
       "      <td>who owns the medium it is clear that many comp...</td>\n",
       "      <td>NaN</td>\n",
       "      <td>0</td>\n",
       "      <td>...</td>\n",
       "      <td>NaN</td>\n",
       "      <td>124</td>\n",
       "      <td>134</td>\n",
       "      <td>0</td>\n",
       "      <td>2018-12-17</td>\n",
       "      <td>0</td>\n",
       "      <td>12</td>\n",
       "      <td>2018</td>\n",
       "      <td>0</td>\n",
       "      <td>2018-12-17</td>\n",
       "    </tr>\n",
       "    <tr>\n",
       "      <th>4</th>\n",
       "      <td>4</td>\n",
       "      <td>conspiracy</td>\n",
       "      <td>KodiakDog</td>\n",
       "      <td>2018/12/17</td>\n",
       "      <td>[Discussion] Top Secret Pharmaceuticals Does a...</td>\n",
       "      <td>0</td>\n",
       "      <td>1279</td>\n",
       "      <td>discussion top secret pharmaceutical doe anybo...</td>\n",
       "      <td>NaN</td>\n",
       "      <td>0</td>\n",
       "      <td>...</td>\n",
       "      <td>NaN</td>\n",
       "      <td>200</td>\n",
       "      <td>209</td>\n",
       "      <td>0</td>\n",
       "      <td>2018-12-17</td>\n",
       "      <td>0</td>\n",
       "      <td>12</td>\n",
       "      <td>2018</td>\n",
       "      <td>0</td>\n",
       "      <td>2018-12-17</td>\n",
       "    </tr>\n",
       "  </tbody>\n",
       "</table>\n",
       "<p>5 rows × 28 columns</p>\n",
       "</div>"
      ],
      "text/plain": [
       "   Unnamed: 0   subreddit              author        date  \\\n",
       "0           0  conspiracy            catvlyst  2018/12/17   \n",
       "1           1  conspiracy  When_The_Dank_Hits  2018/12/17   \n",
       "2           2  conspiracy       freethinker78  2018/12/17   \n",
       "3           3  conspiracy           MrBobosky  2018/12/17   \n",
       "4           4  conspiracy           KodiakDog  2018/12/17   \n",
       "\n",
       "                                                post  label  num_char  \\\n",
       "0  My argument against the annunaki narrative One...      0      1249   \n",
       "1  diagram of all involved in 911 is there a diag...      0       103   \n",
       "2  Is the US government analyzing online comments...      0      1060   \n",
       "3  Who owns the media? It’s clear that many compa...      0       709   \n",
       "4  [Discussion] Top Secret Pharmaceuticals Does a...      0      1279   \n",
       "\n",
       "                                      text_processed mentioned_usernames  \\\n",
       "0  my argument against the annunaki narrative one...                 NaN   \n",
       "1  diagram of all involved in is there a diagram ...                 NaN   \n",
       "2  is the u government analyzing online comment a...                 NaN   \n",
       "3  who owns the medium it is clear that many comp...                 NaN   \n",
       "4  discussion top secret pharmaceutical doe anybo...                 NaN   \n",
       "\n",
       "   num_mentioned_usernames  ...  mentioned_hashtags_cleaned num_word  \\\n",
       "0                        0  ...                         NaN      207   \n",
       "1                        0  ...                         NaN       20   \n",
       "2                        0  ...                         NaN      153   \n",
       "3                        0  ...                         NaN      124   \n",
       "4                        0  ...                         NaN      200   \n",
       "\n",
       "   processed_num_word num_mentioned_expressions  date_processed  \\\n",
       "0                 219                         0      2018-12-17   \n",
       "1                  17                         0      2018-12-17   \n",
       "2                 152                         0      2018-12-17   \n",
       "3                 134                         0      2018-12-17   \n",
       "4                 209                         0      2018-12-17   \n",
       "\n",
       "   date_day_of_week  date_month  date_year date_hour   date_date  \n",
       "0                 0          12       2018         0  2018-12-17  \n",
       "1                 0          12       2018         0  2018-12-17  \n",
       "2                 0          12       2018         0  2018-12-17  \n",
       "3                 0          12       2018         0  2018-12-17  \n",
       "4                 0          12       2018         0  2018-12-17  \n",
       "\n",
       "[5 rows x 28 columns]"
      ]
     },
     "execution_count": 6,
     "metadata": {},
     "output_type": "execute_result"
    }
   ],
   "source": [
    "df.head(5)"
   ]
  },
  {
   "cell_type": "code",
   "execution_count": 7,
   "metadata": {
    "execution": {
     "iopub.execute_input": "2023-03-29T13:59:20.584387Z",
     "iopub.status.busy": "2023-03-29T13:59:20.583614Z",
     "iopub.status.idle": "2023-03-29T13:59:20.681263Z",
     "shell.execute_reply": "2023-03-29T13:59:20.679978Z",
     "shell.execute_reply.started": "2023-03-29T13:59:20.584344Z"
    }
   },
   "outputs": [
    {
     "data": {
      "text/plain": [
       "array(['conspiracy', 'divorce', 'guns', 'fitness', 'jokes', 'legaladvice',\n",
       "       'meditation', 'parenting', 'personalfinance', 'relationships',\n",
       "       'teaching', 'addiction', 'adhd', 'alcoholism', 'anxiety', 'bpd',\n",
       "       'bipolarreddit', 'autism', 'COVID19_support', 'depression',\n",
       "       'EDAnonymous', 'healthanxiety', 'lonely', 'mentalhealth', 'ptsd',\n",
       "       'schizophrenia', 'suicidewatch', 'socialanxiety'], dtype=object)"
      ]
     },
     "execution_count": 7,
     "metadata": {},
     "output_type": "execute_result"
    }
   ],
   "source": [
    "df[\"subreddit\"].unique()"
   ]
  },
  {
   "cell_type": "code",
   "execution_count": 5,
   "metadata": {
    "execution": {
     "iopub.execute_input": "2023-04-09T10:37:24.390173Z",
     "iopub.status.busy": "2023-04-09T10:37:24.389799Z",
     "iopub.status.idle": "2023-04-09T10:37:24.805778Z",
     "shell.execute_reply": "2023-04-09T10:37:24.804655Z",
     "shell.execute_reply.started": "2023-04-09T10:37:24.390140Z"
    }
   },
   "outputs": [],
   "source": [
    "df = df[~df[\"subreddit\"].isin([\"mentalhealth\", \"COVID19_support\"])]"
   ]
  },
  {
   "cell_type": "code",
   "execution_count": 11,
   "metadata": {
    "execution": {
     "iopub.execute_input": "2023-03-29T14:00:36.884911Z",
     "iopub.status.busy": "2023-03-29T14:00:36.884451Z",
     "iopub.status.idle": "2023-03-29T14:00:37.263507Z",
     "shell.execute_reply": "2023-03-29T14:00:37.262165Z",
     "shell.execute_reply.started": "2023-03-29T14:00:36.884874Z"
    }
   },
   "outputs": [
    {
     "name": "stdout",
     "output_type": "stream",
     "text": [
      "number of 1 label:  426500\n",
      "number of 0 label:  634489\n"
     ]
    }
   ],
   "source": [
    "print(\"number of 1 label: \", len(df[df[\"label\"]==1]))\n",
    "print(\"number of 0 label: \", len(df[df[\"label\"]==0]))"
   ]
  },
  {
   "cell_type": "code",
   "execution_count": 6,
   "metadata": {
    "execution": {
     "iopub.execute_input": "2023-04-09T10:37:24.807767Z",
     "iopub.status.busy": "2023-04-09T10:37:24.807309Z",
     "iopub.status.idle": "2023-04-09T10:37:26.392594Z",
     "shell.execute_reply": "2023-04-09T10:37:26.391464Z",
     "shell.execute_reply.started": "2023-04-09T10:37:24.807722Z"
    }
   },
   "outputs": [],
   "source": [
    "df = df.groupby('subreddit', group_keys=False).apply(lambda x: x.sample(frac=0.6))"
   ]
  },
  {
   "cell_type": "code",
   "execution_count": 7,
   "metadata": {
    "execution": {
     "iopub.execute_input": "2023-04-08T01:15:09.745311Z",
     "iopub.status.busy": "2023-04-08T01:15:09.744250Z",
     "iopub.status.idle": "2023-04-08T01:15:10.425301Z",
     "shell.execute_reply": "2023-04-08T01:15:10.424090Z",
     "shell.execute_reply.started": "2023-04-08T01:15:09.745242Z"
    }
   },
   "outputs": [
    {
     "name": "stdout",
     "output_type": "stream",
     "text": [
      "number of 1 label:  255902\n",
      "number of 0 label:  380693\n"
     ]
    }
   ],
   "source": [
    "print(\"number of 1 label: \", len(df[df[\"label\"]==1]))\n",
    "print(\"number of 0 label: \", len(df[df[\"label\"]==0]))"
   ]
  },
  {
   "cell_type": "code",
   "execution_count": 7,
   "metadata": {
    "execution": {
     "iopub.execute_input": "2023-04-09T10:37:26.397145Z",
     "iopub.status.busy": "2023-04-09T10:37:26.396755Z",
     "iopub.status.idle": "2023-04-09T10:37:36.312560Z",
     "shell.execute_reply": "2023-04-09T10:37:36.311090Z",
     "shell.execute_reply.started": "2023-04-09T10:37:26.397109Z"
    }
   },
   "outputs": [],
   "source": [
    "df['text_processed_trim'] = df['text_processed'].apply(lambda x: \" \".join(str(x).split(\" \")[:400]))"
   ]
  },
  {
   "cell_type": "code",
   "execution_count": 9,
   "metadata": {
    "execution": {
     "iopub.execute_input": "2023-04-08T01:15:54.401998Z",
     "iopub.status.busy": "2023-04-08T01:15:54.401592Z",
     "iopub.status.idle": "2023-04-08T01:15:54.442248Z",
     "shell.execute_reply": "2023-04-08T01:15:54.441320Z",
     "shell.execute_reply.started": "2023-04-08T01:15:54.401960Z"
    }
   },
   "outputs": [
    {
     "data": {
      "text/html": [
       "<div>\n",
       "<style scoped>\n",
       "    .dataframe tbody tr th:only-of-type {\n",
       "        vertical-align: middle;\n",
       "    }\n",
       "\n",
       "    .dataframe tbody tr th {\n",
       "        vertical-align: top;\n",
       "    }\n",
       "\n",
       "    .dataframe thead th {\n",
       "        text-align: right;\n",
       "    }\n",
       "</style>\n",
       "<table border=\"1\" class=\"dataframe\">\n",
       "  <thead>\n",
       "    <tr style=\"text-align: right;\">\n",
       "      <th></th>\n",
       "      <th>Unnamed: 0</th>\n",
       "      <th>subreddit</th>\n",
       "      <th>author</th>\n",
       "      <th>date</th>\n",
       "      <th>post</th>\n",
       "      <th>label</th>\n",
       "      <th>num_char</th>\n",
       "      <th>text_processed</th>\n",
       "      <th>mentioned_usernames</th>\n",
       "      <th>num_mentioned_usernames</th>\n",
       "      <th>...</th>\n",
       "      <th>num_word</th>\n",
       "      <th>processed_num_word</th>\n",
       "      <th>num_mentioned_expressions</th>\n",
       "      <th>date_processed</th>\n",
       "      <th>date_day_of_week</th>\n",
       "      <th>date_month</th>\n",
       "      <th>date_year</th>\n",
       "      <th>date_hour</th>\n",
       "      <th>date_date</th>\n",
       "      <th>text_processed_trim</th>\n",
       "    </tr>\n",
       "  </thead>\n",
       "  <tbody>\n",
       "    <tr>\n",
       "      <th>913728</th>\n",
       "      <td>913728</td>\n",
       "      <td>EDAnonymous</td>\n",
       "      <td>kayteesays</td>\n",
       "      <td>2019/02/05</td>\n",
       "      <td>Antidepressants that don't cause weight gain? ...</td>\n",
       "      <td>1</td>\n",
       "      <td>531</td>\n",
       "      <td>antidepressant that do not cause weight gain h...</td>\n",
       "      <td>NaN</td>\n",
       "      <td>0</td>\n",
       "      <td>...</td>\n",
       "      <td>92</td>\n",
       "      <td>98</td>\n",
       "      <td>0</td>\n",
       "      <td>2019-02-05</td>\n",
       "      <td>1</td>\n",
       "      <td>2</td>\n",
       "      <td>2019</td>\n",
       "      <td>0</td>\n",
       "      <td>2019-02-05</td>\n",
       "      <td>antidepressant that do not cause weight gain h...</td>\n",
       "    </tr>\n",
       "    <tr>\n",
       "      <th>914040</th>\n",
       "      <td>914040</td>\n",
       "      <td>EDAnonymous</td>\n",
       "      <td>Venge22</td>\n",
       "      <td>2019/07/19</td>\n",
       "      <td>My binge-restrict cycle has transformed into a...</td>\n",
       "      <td>1</td>\n",
       "      <td>93</td>\n",
       "      <td>my binge restrict cycle ha transformed into a ...</td>\n",
       "      <td>NaN</td>\n",
       "      <td>0</td>\n",
       "      <td>...</td>\n",
       "      <td>15</td>\n",
       "      <td>18</td>\n",
       "      <td>0</td>\n",
       "      <td>2019-07-19</td>\n",
       "      <td>4</td>\n",
       "      <td>7</td>\n",
       "      <td>2019</td>\n",
       "      <td>0</td>\n",
       "      <td>2019-07-19</td>\n",
       "      <td>my binge restrict cycle ha transformed into a ...</td>\n",
       "    </tr>\n",
       "    <tr>\n",
       "      <th>913534</th>\n",
       "      <td>913534</td>\n",
       "      <td>EDAnonymous</td>\n",
       "      <td>remrem24</td>\n",
       "      <td>2019/07/08</td>\n",
       "      <td>Start treatment on Monday So the hospital prog...</td>\n",
       "      <td>1</td>\n",
       "      <td>306</td>\n",
       "      <td>start treatment on monday so the hospital prog...</td>\n",
       "      <td>NaN</td>\n",
       "      <td>0</td>\n",
       "      <td>...</td>\n",
       "      <td>57</td>\n",
       "      <td>65</td>\n",
       "      <td>0</td>\n",
       "      <td>2019-07-08</td>\n",
       "      <td>0</td>\n",
       "      <td>7</td>\n",
       "      <td>2019</td>\n",
       "      <td>0</td>\n",
       "      <td>2019-07-08</td>\n",
       "      <td>start treatment on monday so the hospital prog...</td>\n",
       "    </tr>\n",
       "    <tr>\n",
       "      <th>922173</th>\n",
       "      <td>922173</td>\n",
       "      <td>EDAnonymous</td>\n",
       "      <td>lemej</td>\n",
       "      <td>2019/02/24</td>\n",
       "      <td>Scaring yourself into eating more Background *...</td>\n",
       "      <td>1</td>\n",
       "      <td>2024</td>\n",
       "      <td>scaring yourself into eating more background 2...</td>\n",
       "      <td>NaN</td>\n",
       "      <td>0</td>\n",
       "      <td>...</td>\n",
       "      <td>353</td>\n",
       "      <td>372</td>\n",
       "      <td>0</td>\n",
       "      <td>2019-02-24</td>\n",
       "      <td>6</td>\n",
       "      <td>2</td>\n",
       "      <td>2019</td>\n",
       "      <td>0</td>\n",
       "      <td>2019-02-24</td>\n",
       "      <td>scaring yourself into eating more background 2...</td>\n",
       "    </tr>\n",
       "    <tr>\n",
       "      <th>911854</th>\n",
       "      <td>911854</td>\n",
       "      <td>EDAnonymous</td>\n",
       "      <td>morimaruko</td>\n",
       "      <td>2019/07/23</td>\n",
       "      <td>you guys they finally started selling those mo...</td>\n",
       "      <td>1</td>\n",
       "      <td>183</td>\n",
       "      <td>you guy they finally started selling those mon...</td>\n",
       "      <td>NaN</td>\n",
       "      <td>0</td>\n",
       "      <td>...</td>\n",
       "      <td>30</td>\n",
       "      <td>31</td>\n",
       "      <td>0</td>\n",
       "      <td>2019-07-23</td>\n",
       "      <td>1</td>\n",
       "      <td>7</td>\n",
       "      <td>2019</td>\n",
       "      <td>0</td>\n",
       "      <td>2019-07-23</td>\n",
       "      <td>you guy they finally started selling those mon...</td>\n",
       "    </tr>\n",
       "  </tbody>\n",
       "</table>\n",
       "<p>5 rows × 29 columns</p>\n",
       "</div>"
      ],
      "text/plain": [
       "        Unnamed: 0    subreddit      author        date  \\\n",
       "913728      913728  EDAnonymous  kayteesays  2019/02/05   \n",
       "914040      914040  EDAnonymous     Venge22  2019/07/19   \n",
       "913534      913534  EDAnonymous    remrem24  2019/07/08   \n",
       "922173      922173  EDAnonymous       lemej  2019/02/24   \n",
       "911854      911854  EDAnonymous  morimaruko  2019/07/23   \n",
       "\n",
       "                                                     post  label  num_char  \\\n",
       "913728  Antidepressants that don't cause weight gain? ...      1       531   \n",
       "914040  My binge-restrict cycle has transformed into a...      1        93   \n",
       "913534  Start treatment on Monday So the hospital prog...      1       306   \n",
       "922173  Scaring yourself into eating more Background *...      1      2024   \n",
       "911854  you guys they finally started selling those mo...      1       183   \n",
       "\n",
       "                                           text_processed mentioned_usernames  \\\n",
       "913728  antidepressant that do not cause weight gain h...                 NaN   \n",
       "914040  my binge restrict cycle ha transformed into a ...                 NaN   \n",
       "913534  start treatment on monday so the hospital prog...                 NaN   \n",
       "922173  scaring yourself into eating more background 2...                 NaN   \n",
       "911854  you guy they finally started selling those mon...                 NaN   \n",
       "\n",
       "        num_mentioned_usernames  ...  num_word processed_num_word  \\\n",
       "913728                        0  ...        92                 98   \n",
       "914040                        0  ...        15                 18   \n",
       "913534                        0  ...        57                 65   \n",
       "922173                        0  ...       353                372   \n",
       "911854                        0  ...        30                 31   \n",
       "\n",
       "        num_mentioned_expressions date_processed  date_day_of_week  \\\n",
       "913728                          0     2019-02-05                 1   \n",
       "914040                          0     2019-07-19                 4   \n",
       "913534                          0     2019-07-08                 0   \n",
       "922173                          0     2019-02-24                 6   \n",
       "911854                          0     2019-07-23                 1   \n",
       "\n",
       "        date_month  date_year  date_hour   date_date  \\\n",
       "913728           2       2019          0  2019-02-05   \n",
       "914040           7       2019          0  2019-07-19   \n",
       "913534           7       2019          0  2019-07-08   \n",
       "922173           2       2019          0  2019-02-24   \n",
       "911854           7       2019          0  2019-07-23   \n",
       "\n",
       "                                      text_processed_trim  \n",
       "913728  antidepressant that do not cause weight gain h...  \n",
       "914040  my binge restrict cycle ha transformed into a ...  \n",
       "913534  start treatment on monday so the hospital prog...  \n",
       "922173  scaring yourself into eating more background 2...  \n",
       "911854  you guy they finally started selling those mon...  \n",
       "\n",
       "[5 rows x 29 columns]"
      ]
     },
     "execution_count": 9,
     "metadata": {},
     "output_type": "execute_result"
    }
   ],
   "source": [
    "df.head()"
   ]
  },
  {
   "cell_type": "code",
   "execution_count": 8,
   "metadata": {
    "execution": {
     "iopub.execute_input": "2023-04-09T10:37:36.314423Z",
     "iopub.status.busy": "2023-04-09T10:37:36.314085Z",
     "iopub.status.idle": "2023-04-09T10:37:37.651834Z",
     "shell.execute_reply": "2023-04-09T10:37:37.650558Z",
     "shell.execute_reply.started": "2023-04-09T10:37:36.314392Z"
    }
   },
   "outputs": [],
   "source": [
    "df_new = df.sort_values(by='date', ascending=True)"
   ]
  },
  {
   "cell_type": "code",
   "execution_count": 9,
   "metadata": {
    "execution": {
     "iopub.execute_input": "2023-04-09T10:37:37.654485Z",
     "iopub.status.busy": "2023-04-09T10:37:37.654116Z",
     "iopub.status.idle": "2023-04-09T10:37:38.479887Z",
     "shell.execute_reply": "2023-04-09T10:37:38.478275Z",
     "shell.execute_reply.started": "2023-04-09T10:37:37.654451Z"
    }
   },
   "outputs": [],
   "source": [
    "df_new = df_new.reset_index()"
   ]
  },
  {
   "cell_type": "markdown",
   "metadata": {},
   "source": [
    "## Prepare Training and Out of Sample Test Data"
   ]
  },
  {
   "cell_type": "code",
   "execution_count": 10,
   "metadata": {
    "execution": {
     "iopub.execute_input": "2023-04-09T10:37:38.482264Z",
     "iopub.status.busy": "2023-04-09T10:37:38.481778Z",
     "iopub.status.idle": "2023-04-09T10:37:39.028254Z",
     "shell.execute_reply": "2023-04-09T10:37:39.026521Z",
     "shell.execute_reply.started": "2023-04-09T10:37:38.482216Z"
    }
   },
   "outputs": [],
   "source": [
    "X_train = df_new[df_new[\"date_year\"].isin([2018, 2019])]['text_processed_trim']\n",
    "y_train = df_new[df_new[\"date_year\"].isin([2018, 2019])]['label']\n",
    "X_test = df_new[df_new[\"date_year\"]==2020]['text_processed_trim']\n",
    "y_test = df_new[df_new[\"date_year\"]==2020]['label']"
   ]
  },
  {
   "cell_type": "code",
   "execution_count": 10,
   "metadata": {
    "execution": {
     "iopub.execute_input": "2023-04-09T03:58:11.584357Z",
     "iopub.status.busy": "2023-04-09T03:58:11.583235Z",
     "iopub.status.idle": "2023-04-09T03:58:11.590867Z",
     "shell.execute_reply": "2023-04-09T03:58:11.589626Z",
     "shell.execute_reply.started": "2023-04-09T03:58:11.584283Z"
    }
   },
   "outputs": [
    {
     "name": "stdout",
     "output_type": "stream",
     "text": [
      "num training data:  452856\n",
      "num validation data:  183739\n"
     ]
    }
   ],
   "source": [
    "print(\"num training data: \", len(X_train))\n",
    "print(\"num validation data: \", len(X_test))"
   ]
  },
  {
   "cell_type": "code",
   "execution_count": 11,
   "metadata": {
    "execution": {
     "iopub.execute_input": "2023-04-09T10:37:39.030654Z",
     "iopub.status.busy": "2023-04-09T10:37:39.030147Z",
     "iopub.status.idle": "2023-04-09T10:37:39.038302Z",
     "shell.execute_reply": "2023-04-09T10:37:39.036697Z",
     "shell.execute_reply.started": "2023-04-09T10:37:39.030602Z"
    }
   },
   "outputs": [],
   "source": [
    "def get_tfidf_data(fit_data, transform_data_list, num_features, ngram_range):\n",
    "    vectoriser = TfidfVectorizer(ngram_range=ngram_range, max_features=num_features)\n",
    "    vectoriser.fit(fit_data)\n",
    "    return list(map(vectoriser.transform, transform_data_list))"
   ]
  },
  {
   "cell_type": "code",
   "execution_count": 12,
   "metadata": {
    "execution": {
     "iopub.execute_input": "2023-04-09T10:37:39.040856Z",
     "iopub.status.busy": "2023-04-09T10:37:39.039928Z",
     "iopub.status.idle": "2023-04-09T10:51:13.322476Z",
     "shell.execute_reply": "2023-04-09T10:51:13.319049Z",
     "shell.execute_reply.started": "2023-04-09T10:37:39.040817Z"
    }
   },
   "outputs": [],
   "source": [
    "v1_map = {}\n",
    "v1_map['X_train'], v1_map['X_test'] = get_tfidf_data(X_train, [X_train, X_test], 100000, (1, 3))"
   ]
  },
  {
   "cell_type": "code",
   "execution_count": 58,
   "metadata": {
    "execution": {
     "iopub.execute_input": "2023-04-08T06:00:51.750667Z",
     "iopub.status.busy": "2023-04-08T06:00:51.750254Z",
     "iopub.status.idle": "2023-04-08T06:00:51.761615Z",
     "shell.execute_reply": "2023-04-08T06:00:51.760221Z",
     "shell.execute_reply.started": "2023-04-08T06:00:51.750629Z"
    }
   },
   "outputs": [
    {
     "data": {
      "text/plain": [
       "{'X_train': <453258x100000 sparse matrix of type '<class 'numpy.float64'>'\n",
       " \twith 96628075 stored elements in Compressed Sparse Row format>,\n",
       " 'X_test': <183337x100000 sparse matrix of type '<class 'numpy.float64'>'\n",
       " \twith 37664116 stored elements in Compressed Sparse Row format>}"
      ]
     },
     "execution_count": 58,
     "metadata": {},
     "output_type": "execute_result"
    }
   ],
   "source": [
    "v1_map"
   ]
  },
  {
   "cell_type": "markdown",
   "metadata": {},
   "source": [
    "## Model Training and Evaluation"
   ]
  },
  {
   "cell_type": "code",
   "execution_count": 13,
   "metadata": {
    "execution": {
     "iopub.execute_input": "2023-04-09T10:51:13.330904Z",
     "iopub.status.busy": "2023-04-09T10:51:13.330267Z",
     "iopub.status.idle": "2023-04-09T10:51:13.342968Z",
     "shell.execute_reply": "2023-04-09T10:51:13.341579Z",
     "shell.execute_reply.started": "2023-04-09T10:51:13.330826Z"
    }
   },
   "outputs": [],
   "source": [
    "def model_Evaluate(model, test_data):\n",
    "    \n",
    "    # Predict values for Test dataset\n",
    "    y_pred = model.predict(test_data)\n",
    "\n",
    "    # Print the evaluation metrics for the dataset.\n",
    "    print(classification_report(y_test, y_pred, digits=4))\n",
    "    \n",
    "    cf_matrix = confusion_matrix(y_test, y_pred)\n",
    "    ax = sns.heatmap(cf_matrix/np.sum(cf_matrix), annot=True, fmt='.2%', cmap='Blues')\n",
    "    ax.set_title('Confusion Matrix \\n\\n');\n",
    "    ax.set_xlabel('\\nPredicted Values')\n",
    "    ax.set_ylabel('Actual Values ');\n",
    "\n",
    "    ## Ticket labels - List must be in alphabetical order\n",
    "    ax.xaxis.set_ticklabels(['False','True'])\n",
    "    ax.yaxis.set_ticklabels(['False','True'])\n",
    "\n",
    "    ## Display the visualization of the Confusion Matrix.\n",
    "    plt.show()"
   ]
  },
  {
   "cell_type": "code",
   "execution_count": 14,
   "metadata": {
    "execution": {
     "iopub.execute_input": "2023-04-09T10:51:13.345135Z",
     "iopub.status.busy": "2023-04-09T10:51:13.344721Z",
     "iopub.status.idle": "2023-04-09T10:51:13.361071Z",
     "shell.execute_reply": "2023-04-09T10:51:13.360020Z",
     "shell.execute_reply.started": "2023-04-09T10:51:13.345078Z"
    }
   },
   "outputs": [],
   "source": [
    "data_map = v1_map"
   ]
  },
  {
   "cell_type": "code",
   "execution_count": 15,
   "metadata": {
    "execution": {
     "iopub.execute_input": "2023-04-09T10:51:13.362923Z",
     "iopub.status.busy": "2023-04-09T10:51:13.362571Z",
     "iopub.status.idle": "2023-04-09T10:51:16.599345Z",
     "shell.execute_reply": "2023-04-09T10:51:16.598089Z",
     "shell.execute_reply.started": "2023-04-09T10:51:13.362890Z"
    }
   },
   "outputs": [
    {
     "name": "stdout",
     "output_type": "stream",
     "text": [
      "              precision    recall  f1-score   support\n",
      "\n",
      "           0     0.9142    0.9291    0.9216    109044\n",
      "           1     0.8945    0.8733    0.8838     75038\n",
      "\n",
      "    accuracy                         0.9064    184082\n",
      "   macro avg     0.9043    0.9012    0.9027    184082\n",
      "weighted avg     0.9062    0.9064    0.9062    184082\n",
      "\n"
     ]
    },
    {
     "data": {
      "image/png": "[encoded data removed]",
      "text/plain": [
       "<Figure size 640x480 with 2 Axes>"
      ]
     },
     "metadata": {},
     "output_type": "display_data"
    }
   ],
   "source": [
    "# naive bayes\n",
    "BNBmodel = BernoulliNB()\n",
    "BNBmodel.fit(data_map['X_train'], y_train)\n",
    "model_Evaluate(BNBmodel, data_map['X_test'])"
   ]
  },
  {
   "cell_type": "code",
   "execution_count": 34,
   "metadata": {
    "execution": {
     "iopub.execute_input": "2023-04-08T01:35:22.809148Z",
     "iopub.status.busy": "2023-04-08T01:35:22.808792Z",
     "iopub.status.idle": "2023-04-08T01:35:22.820884Z",
     "shell.execute_reply": "2023-04-08T01:35:22.819611Z",
     "shell.execute_reply.started": "2023-04-08T01:35:22.809112Z"
    }
   },
   "outputs": [],
   "source": [
    "pipeline = Pipeline([\n",
    "    ('tfidf', TfidfVectorizer(max_features=100000)),\n",
    "    ('nb', BernoulliNB()),\n",
    "])"
   ]
  },
  {
   "cell_type": "code",
   "execution_count": 52,
   "metadata": {
    "execution": {
     "iopub.execute_input": "2023-04-08T04:30:01.674692Z",
     "iopub.status.busy": "2023-04-08T04:30:01.674068Z",
     "iopub.status.idle": "2023-04-08T04:30:01.681457Z",
     "shell.execute_reply": "2023-04-08T04:30:01.680311Z",
     "shell.execute_reply.started": "2023-04-08T04:30:01.674643Z"
    }
   },
   "outputs": [],
   "source": [
    "parameters = {\n",
    "    'tfidf__max_df': (0.8, 0.9),\n",
    "    'tfidf__ngram_range': ((1, 1), (1, 2))\n",
    "}"
   ]
  },
  {
   "cell_type": "code",
   "execution_count": 53,
   "metadata": {
    "execution": {
     "iopub.execute_input": "2023-04-08T04:30:10.198431Z",
     "iopub.status.busy": "2023-04-08T04:30:10.197210Z",
     "iopub.status.idle": "2023-04-08T04:56:11.945407Z",
     "shell.execute_reply": "2023-04-08T04:56:11.944037Z",
     "shell.execute_reply.started": "2023-04-08T04:30:10.198374Z"
    }
   },
   "outputs": [
    {
     "name": "stdout",
     "output_type": "stream",
     "text": [
      "Fitting 3 folds for each of 4 candidates, totalling 12 fits\n",
      "[CV] END .......tfidf__max_df=0.8, tfidf__ngram_range=(1, 1); total time=  32.5s\n",
      "[CV] END .......tfidf__max_df=0.8, tfidf__ngram_range=(1, 1); total time=  48.3s\n",
      "[CV] END .......tfidf__max_df=0.8, tfidf__ngram_range=(1, 1); total time= 1.0min\n",
      "[CV] END .......tfidf__max_df=0.8, tfidf__ngram_range=(1, 2); total time= 2.0min\n",
      "[CV] END .......tfidf__max_df=0.8, tfidf__ngram_range=(1, 2); total time= 2.9min\n",
      "[CV] END .......tfidf__max_df=0.8, tfidf__ngram_range=(1, 2); total time= 3.7min\n",
      "[CV] END .......tfidf__max_df=0.9, tfidf__ngram_range=(1, 1); total time=  31.7s\n",
      "[CV] END .......tfidf__max_df=0.9, tfidf__ngram_range=(1, 1); total time=  48.0s\n",
      "[CV] END .......tfidf__max_df=0.9, tfidf__ngram_range=(1, 1); total time= 1.0min\n",
      "[CV] END .......tfidf__max_df=0.9, tfidf__ngram_range=(1, 2); total time= 1.8min\n",
      "[CV] END .......tfidf__max_df=0.9, tfidf__ngram_range=(1, 2); total time= 2.8min\n",
      "[CV] END .......tfidf__max_df=0.9, tfidf__ngram_range=(1, 2); total time= 3.7min\n"
     ]
    }
   ],
   "source": [
    "from sklearn.model_selection import train_test_split, cross_val_score, GridSearchCV\n",
    "from sklearn.model_selection import TimeSeriesSplit\n",
    "cv = TimeSeriesSplit(n_splits=3)\n",
    "grid_search = GridSearchCV(pipeline, parameters, cv=cv, n_jobs=1, verbose=2)\n",
    "\n",
    "grid_search = grid_search.fit(X_train, y_train)"
   ]
  },
  {
   "cell_type": "code",
   "execution_count": 54,
   "metadata": {
    "execution": {
     "iopub.execute_input": "2023-04-08T05:30:20.387785Z",
     "iopub.status.busy": "2023-04-08T05:30:20.387197Z",
     "iopub.status.idle": "2023-04-08T05:30:20.397746Z",
     "shell.execute_reply": "2023-04-08T05:30:20.395987Z",
     "shell.execute_reply.started": "2023-04-08T05:30:20.387740Z"
    }
   },
   "outputs": [
    {
     "name": "stdout",
     "output_type": "stream",
     "text": [
      "{'tfidf__max_df': 0.8, 'tfidf__ngram_range': (1, 2)}\n"
     ]
    }
   ],
   "source": [
    "print(grid_search.best_params_)"
   ]
  },
  {
   "cell_type": "code",
   "execution_count": 55,
   "metadata": {
    "execution": {
     "iopub.execute_input": "2023-04-08T05:30:30.874131Z",
     "iopub.status.busy": "2023-04-08T05:30:30.873188Z",
     "iopub.status.idle": "2023-04-08T05:36:06.274762Z",
     "shell.execute_reply": "2023-04-08T05:36:06.273263Z",
     "shell.execute_reply.started": "2023-04-08T05:30:30.874085Z"
    }
   },
   "outputs": [
    {
     "name": "stdout",
     "output_type": "stream",
     "text": [
      "Precison: 0.915\n",
      "Recall:   0.915\n",
      "F1 score: 0.915\n"
     ]
    }
   ],
   "source": [
    "vectoriser = TfidfVectorizer(ngram_range=(1, 2), max_features=100000, max_df=0.8)\n",
    "X_train_vec = vectoriser.fit_transform(X_train)\n",
    "X_test_vec = vectoriser.transform(X_test)\n",
    "\n",
    "MNBmodel = BernoulliNB()\n",
    "MNBmodel.fit(X_train_vec, y_train)\n",
    "\n",
    "y_pred = MNBmodel.predict(X_test_vec)\n",
    "\n",
    "precision = metrics.precision_score(y_test, y_pred, average=\"micro\")\n",
    "recall = metrics.recall_score(y_test, y_pred, average=\"micro\")\n",
    "f1 = metrics.f1_score(y_test, y_pred, average=\"micro\")\n",
    "\n",
    "print(\"Precison: {:.3f}\".format(precision))\n",
    "print(\"Recall:   {:.3f}\".format(recall))\n",
    "print(\"F1 score: {:.3f}\".format(f1))"
   ]
  },
  {
   "cell_type": "code",
   "execution_count": 61,
   "metadata": {
    "execution": {
     "iopub.execute_input": "2023-04-08T06:00:51.798753Z",
     "iopub.status.busy": "2023-04-08T06:00:51.797988Z",
     "iopub.status.idle": "2023-04-08T06:01:09.441886Z",
     "shell.execute_reply": "2023-04-08T06:01:09.440553Z",
     "shell.execute_reply.started": "2023-04-08T06:00:51.798714Z"
    }
   },
   "outputs": [
    {
     "name": "stdout",
     "output_type": "stream",
     "text": [
      "              precision    recall  f1-score   support\n",
      "\n",
      "           0       0.96      0.96      0.96    108751\n",
      "           1       0.94      0.94      0.94     74586\n",
      "\n",
      "    accuracy                           0.95    183337\n",
      "   macro avg       0.95      0.95      0.95    183337\n",
      "weighted avg       0.95      0.95      0.95    183337\n",
      "\n"
     ]
    },
    {
     "data": {
      "image/png": "[encoded data removed]",
      "text/plain": [
       "<Figure size 640x480 with 2 Axes>"
      ]
     },
     "metadata": {},
     "output_type": "display_data"
    }
   ],
   "source": [
    "SVCmodel = LinearSVC()\n",
    "SVCmodel.fit(data_map['X_train'], y_train)\n",
    "model_Evaluate(SVCmodel, data_map['X_test'])"
   ]
  },
  {
   "cell_type": "code",
   "execution_count": 62,
   "metadata": {
    "execution": {
     "iopub.execute_input": "2023-04-08T06:04:47.282064Z",
     "iopub.status.busy": "2023-04-08T06:04:47.281244Z",
     "iopub.status.idle": "2023-04-08T06:04:47.293211Z",
     "shell.execute_reply": "2023-04-08T06:04:47.291587Z",
     "shell.execute_reply.started": "2023-04-08T06:04:47.282023Z"
    }
   },
   "outputs": [],
   "source": [
    "from sklearn.linear_model import LogisticRegression\n",
    "pipeline_lr = Pipeline([\n",
    "    ('tfidf', TfidfVectorizer(max_features=100000)),\n",
    "    ('lr', LogisticRegression()),\n",
    "])"
   ]
  },
  {
   "cell_type": "code",
   "execution_count": 63,
   "metadata": {
    "execution": {
     "iopub.execute_input": "2023-04-08T06:04:59.277580Z",
     "iopub.status.busy": "2023-04-08T06:04:59.277105Z",
     "iopub.status.idle": "2023-04-08T06:04:59.285678Z",
     "shell.execute_reply": "2023-04-08T06:04:59.283765Z",
     "shell.execute_reply.started": "2023-04-08T06:04:59.277540Z"
    }
   },
   "outputs": [],
   "source": [
    "parameters_lr = {\n",
    "    'tfidf__max_df': (0.8, 0.9),\n",
    "    'tfidf__ngram_range': ((1, 1), (1, 2))\n",
    "}"
   ]
  },
  {
   "cell_type": "code",
   "execution_count": 64,
   "metadata": {
    "execution": {
     "iopub.execute_input": "2023-04-08T06:05:23.829565Z",
     "iopub.status.busy": "2023-04-08T06:05:23.829026Z",
     "iopub.status.idle": "2023-04-08T06:39:35.290371Z",
     "shell.execute_reply": "2023-04-08T06:39:35.288900Z",
     "shell.execute_reply.started": "2023-04-08T06:05:23.829508Z"
    }
   },
   "outputs": [
    {
     "name": "stdout",
     "output_type": "stream",
     "text": [
      "Fitting 3 folds for each of 4 candidates, totalling 12 fits\n",
      "[CV] END .......tfidf__max_df=0.8, tfidf__ngram_range=(1, 1); total time=  43.4s\n"
     ]
    },
    {
     "name": "stderr",
     "output_type": "stream",
     "text": [
      "/opt/conda/lib/python3.7/site-packages/sklearn/linear_model/_logistic.py:818: ConvergenceWarning: lbfgs failed to converge (status=1):\n",
      "STOP: TOTAL NO. of ITERATIONS REACHED LIMIT.\n",
      "\n",
      "Increase the number of iterations (max_iter) or scale the data as shown in:\n",
      "    https://scikit-learn.org/stable/modules/preprocessing.html\n",
      "Please also refer to the documentation for alternative solver options:\n",
      "    https://scikit-learn.org/stable/modules/linear_model.html#logistic-regression\n",
      "  extra_warning_msg=_LOGISTIC_SOLVER_CONVERGENCE_MSG,\n"
     ]
    },
    {
     "name": "stdout",
     "output_type": "stream",
     "text": [
      "[CV] END .......tfidf__max_df=0.8, tfidf__ngram_range=(1, 1); total time= 1.4min\n"
     ]
    },
    {
     "name": "stderr",
     "output_type": "stream",
     "text": [
      "/opt/conda/lib/python3.7/site-packages/sklearn/linear_model/_logistic.py:818: ConvergenceWarning: lbfgs failed to converge (status=1):\n",
      "STOP: TOTAL NO. of ITERATIONS REACHED LIMIT.\n",
      "\n",
      "Increase the number of iterations (max_iter) or scale the data as shown in:\n",
      "    https://scikit-learn.org/stable/modules/preprocessing.html\n",
      "Please also refer to the documentation for alternative solver options:\n",
      "    https://scikit-learn.org/stable/modules/linear_model.html#logistic-regression\n",
      "  extra_warning_msg=_LOGISTIC_SOLVER_CONVERGENCE_MSG,\n"
     ]
    },
    {
     "name": "stdout",
     "output_type": "stream",
     "text": [
      "[CV] END .......tfidf__max_df=0.8, tfidf__ngram_range=(1, 1); total time= 1.6min\n"
     ]
    },
    {
     "name": "stderr",
     "output_type": "stream",
     "text": [
      "/opt/conda/lib/python3.7/site-packages/sklearn/linear_model/_logistic.py:818: ConvergenceWarning: lbfgs failed to converge (status=1):\n",
      "STOP: TOTAL NO. of ITERATIONS REACHED LIMIT.\n",
      "\n",
      "Increase the number of iterations (max_iter) or scale the data as shown in:\n",
      "    https://scikit-learn.org/stable/modules/preprocessing.html\n",
      "Please also refer to the documentation for alternative solver options:\n",
      "    https://scikit-learn.org/stable/modules/linear_model.html#logistic-regression\n",
      "  extra_warning_msg=_LOGISTIC_SOLVER_CONVERGENCE_MSG,\n"
     ]
    },
    {
     "name": "stdout",
     "output_type": "stream",
     "text": [
      "[CV] END .......tfidf__max_df=0.8, tfidf__ngram_range=(1, 2); total time= 2.4min\n"
     ]
    },
    {
     "name": "stderr",
     "output_type": "stream",
     "text": [
      "/opt/conda/lib/python3.7/site-packages/sklearn/linear_model/_logistic.py:818: ConvergenceWarning: lbfgs failed to converge (status=1):\n",
      "STOP: TOTAL NO. of ITERATIONS REACHED LIMIT.\n",
      "\n",
      "Increase the number of iterations (max_iter) or scale the data as shown in:\n",
      "    https://scikit-learn.org/stable/modules/preprocessing.html\n",
      "Please also refer to the documentation for alternative solver options:\n",
      "    https://scikit-learn.org/stable/modules/linear_model.html#logistic-regression\n",
      "  extra_warning_msg=_LOGISTIC_SOLVER_CONVERGENCE_MSG,\n"
     ]
    },
    {
     "name": "stdout",
     "output_type": "stream",
     "text": [
      "[CV] END .......tfidf__max_df=0.8, tfidf__ngram_range=(1, 2); total time= 3.7min\n"
     ]
    },
    {
     "name": "stderr",
     "output_type": "stream",
     "text": [
      "/opt/conda/lib/python3.7/site-packages/sklearn/linear_model/_logistic.py:818: ConvergenceWarning: lbfgs failed to converge (status=1):\n",
      "STOP: TOTAL NO. of ITERATIONS REACHED LIMIT.\n",
      "\n",
      "Increase the number of iterations (max_iter) or scale the data as shown in:\n",
      "    https://scikit-learn.org/stable/modules/preprocessing.html\n",
      "Please also refer to the documentation for alternative solver options:\n",
      "    https://scikit-learn.org/stable/modules/linear_model.html#logistic-regression\n",
      "  extra_warning_msg=_LOGISTIC_SOLVER_CONVERGENCE_MSG,\n"
     ]
    },
    {
     "name": "stdout",
     "output_type": "stream",
     "text": [
      "[CV] END .......tfidf__max_df=0.8, tfidf__ngram_range=(1, 2); total time= 4.8min\n"
     ]
    },
    {
     "name": "stderr",
     "output_type": "stream",
     "text": [
      "/opt/conda/lib/python3.7/site-packages/sklearn/linear_model/_logistic.py:818: ConvergenceWarning: lbfgs failed to converge (status=1):\n",
      "STOP: TOTAL NO. of ITERATIONS REACHED LIMIT.\n",
      "\n",
      "Increase the number of iterations (max_iter) or scale the data as shown in:\n",
      "    https://scikit-learn.org/stable/modules/preprocessing.html\n",
      "Please also refer to the documentation for alternative solver options:\n",
      "    https://scikit-learn.org/stable/modules/linear_model.html#logistic-regression\n",
      "  extra_warning_msg=_LOGISTIC_SOLVER_CONVERGENCE_MSG,\n"
     ]
    },
    {
     "name": "stdout",
     "output_type": "stream",
     "text": [
      "[CV] END .......tfidf__max_df=0.9, tfidf__ngram_range=(1, 1); total time=  47.9s\n"
     ]
    },
    {
     "name": "stderr",
     "output_type": "stream",
     "text": [
      "/opt/conda/lib/python3.7/site-packages/sklearn/linear_model/_logistic.py:818: ConvergenceWarning: lbfgs failed to converge (status=1):\n",
      "STOP: TOTAL NO. of ITERATIONS REACHED LIMIT.\n",
      "\n",
      "Increase the number of iterations (max_iter) or scale the data as shown in:\n",
      "    https://scikit-learn.org/stable/modules/preprocessing.html\n",
      "Please also refer to the documentation for alternative solver options:\n",
      "    https://scikit-learn.org/stable/modules/linear_model.html#logistic-regression\n",
      "  extra_warning_msg=_LOGISTIC_SOLVER_CONVERGENCE_MSG,\n"
     ]
    },
    {
     "name": "stdout",
     "output_type": "stream",
     "text": [
      "[CV] END .......tfidf__max_df=0.9, tfidf__ngram_range=(1, 1); total time= 1.2min\n"
     ]
    },
    {
     "name": "stderr",
     "output_type": "stream",
     "text": [
      "/opt/conda/lib/python3.7/site-packages/sklearn/linear_model/_logistic.py:818: ConvergenceWarning: lbfgs failed to converge (status=1):\n",
      "STOP: TOTAL NO. of ITERATIONS REACHED LIMIT.\n",
      "\n",
      "Increase the number of iterations (max_iter) or scale the data as shown in:\n",
      "    https://scikit-learn.org/stable/modules/preprocessing.html\n",
      "Please also refer to the documentation for alternative solver options:\n",
      "    https://scikit-learn.org/stable/modules/linear_model.html#logistic-regression\n",
      "  extra_warning_msg=_LOGISTIC_SOLVER_CONVERGENCE_MSG,\n"
     ]
    },
    {
     "name": "stdout",
     "output_type": "stream",
     "text": [
      "[CV] END .......tfidf__max_df=0.9, tfidf__ngram_range=(1, 1); total time= 1.6min\n",
      "[CV] END .......tfidf__max_df=0.9, tfidf__ngram_range=(1, 2); total time= 2.1min\n"
     ]
    },
    {
     "name": "stderr",
     "output_type": "stream",
     "text": [
      "/opt/conda/lib/python3.7/site-packages/sklearn/linear_model/_logistic.py:818: ConvergenceWarning: lbfgs failed to converge (status=1):\n",
      "STOP: TOTAL NO. of ITERATIONS REACHED LIMIT.\n",
      "\n",
      "Increase the number of iterations (max_iter) or scale the data as shown in:\n",
      "    https://scikit-learn.org/stable/modules/preprocessing.html\n",
      "Please also refer to the documentation for alternative solver options:\n",
      "    https://scikit-learn.org/stable/modules/linear_model.html#logistic-regression\n",
      "  extra_warning_msg=_LOGISTIC_SOLVER_CONVERGENCE_MSG,\n"
     ]
    },
    {
     "name": "stdout",
     "output_type": "stream",
     "text": [
      "[CV] END .......tfidf__max_df=0.9, tfidf__ngram_range=(1, 2); total time= 3.5min\n"
     ]
    },
    {
     "name": "stderr",
     "output_type": "stream",
     "text": [
      "/opt/conda/lib/python3.7/site-packages/sklearn/linear_model/_logistic.py:818: ConvergenceWarning: lbfgs failed to converge (status=1):\n",
      "STOP: TOTAL NO. of ITERATIONS REACHED LIMIT.\n",
      "\n",
      "Increase the number of iterations (max_iter) or scale the data as shown in:\n",
      "    https://scikit-learn.org/stable/modules/preprocessing.html\n",
      "Please also refer to the documentation for alternative solver options:\n",
      "    https://scikit-learn.org/stable/modules/linear_model.html#logistic-regression\n",
      "  extra_warning_msg=_LOGISTIC_SOLVER_CONVERGENCE_MSG,\n"
     ]
    },
    {
     "name": "stdout",
     "output_type": "stream",
     "text": [
      "[CV] END .......tfidf__max_df=0.9, tfidf__ngram_range=(1, 2); total time= 4.8min\n"
     ]
    },
    {
     "name": "stderr",
     "output_type": "stream",
     "text": [
      "/opt/conda/lib/python3.7/site-packages/sklearn/linear_model/_logistic.py:818: ConvergenceWarning: lbfgs failed to converge (status=1):\n",
      "STOP: TOTAL NO. of ITERATIONS REACHED LIMIT.\n",
      "\n",
      "Increase the number of iterations (max_iter) or scale the data as shown in:\n",
      "    https://scikit-learn.org/stable/modules/preprocessing.html\n",
      "Please also refer to the documentation for alternative solver options:\n",
      "    https://scikit-learn.org/stable/modules/linear_model.html#logistic-regression\n",
      "  extra_warning_msg=_LOGISTIC_SOLVER_CONVERGENCE_MSG,\n"
     ]
    }
   ],
   "source": [
    "from sklearn.model_selection import train_test_split, cross_val_score, GridSearchCV\n",
    "cv = TimeSeriesSplit(n_splits=3)\n",
    "grid_search_lr = GridSearchCV(pipeline_lr, parameters_lr, n_jobs=1, verbose=2, cv=cv)\n",
    "\n",
    "grid_search_lr = grid_search_lr.fit(X_train, y_train)"
   ]
  },
  {
   "cell_type": "code",
   "execution_count": 65,
   "metadata": {
    "execution": {
     "iopub.execute_input": "2023-04-08T06:39:35.294382Z",
     "iopub.status.busy": "2023-04-08T06:39:35.293385Z",
     "iopub.status.idle": "2023-04-08T06:39:35.306873Z",
     "shell.execute_reply": "2023-04-08T06:39:35.304229Z",
     "shell.execute_reply.started": "2023-04-08T06:39:35.294324Z"
    }
   },
   "outputs": [
    {
     "name": "stdout",
     "output_type": "stream",
     "text": [
      "{'tfidf__max_df': 0.8, 'tfidf__ngram_range': (1, 2)}\n"
     ]
    }
   ],
   "source": [
    "print(grid_search_lr.best_params_)"
   ]
  },
  {
   "cell_type": "code",
   "execution_count": 14,
   "metadata": {
    "execution": {
     "iopub.execute_input": "2023-04-09T04:38:00.314522Z",
     "iopub.status.busy": "2023-04-09T04:38:00.314098Z",
     "iopub.status.idle": "2023-04-09T04:43:42.079024Z",
     "shell.execute_reply": "2023-04-09T04:43:42.077101Z",
     "shell.execute_reply.started": "2023-04-09T04:38:00.314485Z"
    }
   },
   "outputs": [
    {
     "name": "stderr",
     "output_type": "stream",
     "text": [
      "/opt/conda/lib/python3.7/site-packages/sklearn/linear_model/_logistic.py:818: ConvergenceWarning: lbfgs failed to converge (status=1):\n",
      "STOP: TOTAL NO. of ITERATIONS REACHED LIMIT.\n",
      "\n",
      "Increase the number of iterations (max_iter) or scale the data as shown in:\n",
      "    https://scikit-learn.org/stable/modules/preprocessing.html\n",
      "Please also refer to the documentation for alternative solver options:\n",
      "    https://scikit-learn.org/stable/modules/linear_model.html#logistic-regression\n",
      "  extra_warning_msg=_LOGISTIC_SOLVER_CONVERGENCE_MSG,\n"
     ]
    },
    {
     "data": {
      "text/plain": [
       "LogisticRegression()"
      ]
     },
     "execution_count": 14,
     "metadata": {},
     "output_type": "execute_result"
    }
   ],
   "source": [
    "vectoriser = TfidfVectorizer(ngram_range=(1, 2), max_features=100000, max_df=0.8)\n",
    "X_train_vec = vectoriser.fit_transform(X_train)\n",
    "X_test_vec = vectoriser.transform(X_test)\n",
    "\n",
    "LRmodel = LogisticRegression()\n",
    "LRmodel.fit(X_train_vec, y_train)"
   ]
  },
  {
   "cell_type": "code",
   "execution_count": 67,
   "metadata": {
    "execution": {
     "iopub.execute_input": "2023-04-08T06:46:58.496217Z",
     "iopub.status.busy": "2023-04-08T06:46:58.494331Z",
     "iopub.status.idle": "2023-04-08T06:46:58.505418Z",
     "shell.execute_reply": "2023-04-08T06:46:58.503401Z",
     "shell.execute_reply.started": "2023-04-08T06:46:58.496146Z"
    }
   },
   "outputs": [],
   "source": [
    "# save model pickle file\n",
    "import pickle\n",
    "pickle.dump(LRmodel, open(\"/kaggle/working/LRmodel.pkl\", \"wb\"))"
   ]
  },
  {
   "cell_type": "code",
   "execution_count": 69,
   "metadata": {
    "execution": {
     "iopub.execute_input": "2023-04-08T06:46:58.528102Z",
     "iopub.status.busy": "2023-04-08T06:46:58.527307Z",
     "iopub.status.idle": "2023-04-08T06:46:58.888576Z",
     "shell.execute_reply": "2023-04-08T06:46:58.886655Z",
     "shell.execute_reply.started": "2023-04-08T06:46:58.528031Z"
    }
   },
   "outputs": [
    {
     "name": "stdout",
     "output_type": "stream",
     "text": [
      "Precison: 0.953\n",
      "Recall:   0.953\n",
      "F1 score: 0.953\n"
     ]
    }
   ],
   "source": [
    "y_pred = LRmodel.predict(X_test_vec)\n",
    "\n",
    "precision = metrics.precision_score(y_test, y_pred, average=\"micro\")\n",
    "recall = metrics.recall_score(y_test, y_pred, average=\"micro\")\n",
    "f1 = metrics.f1_score(y_test, y_pred, average=\"micro\")\n",
    "\n",
    "print(\"Precison: {:.3f}\".format(precision))\n",
    "print(\"Recall:   {:.3f}\".format(recall))\n",
    "print(\"F1 score: {:.3f}\".format(f1))"
   ]
  },
  {
   "cell_type": "code",
   "execution_count": 43,
   "metadata": {
    "execution": {
     "iopub.execute_input": "2023-04-09T05:34:09.704075Z",
     "iopub.status.busy": "2023-04-09T05:34:09.703655Z",
     "iopub.status.idle": "2023-04-09T05:34:09.960250Z",
     "shell.execute_reply": "2023-04-09T05:34:09.958934Z",
     "shell.execute_reply.started": "2023-04-09T05:34:09.704040Z"
    }
   },
   "outputs": [
    {
     "data": {
      "text/html": [
       "<div>\n",
       "<style scoped>\n",
       "    .dataframe tbody tr th:only-of-type {\n",
       "        vertical-align: middle;\n",
       "    }\n",
       "\n",
       "    .dataframe tbody tr th {\n",
       "        vertical-align: top;\n",
       "    }\n",
       "\n",
       "    .dataframe thead th {\n",
       "        text-align: right;\n",
       "    }\n",
       "</style>\n",
       "<table border=\"1\" class=\"dataframe\">\n",
       "  <thead>\n",
       "    <tr style=\"text-align: right;\">\n",
       "      <th></th>\n",
       "      <th>feature_name</th>\n",
       "      <th>importance</th>\n",
       "    </tr>\n",
       "  </thead>\n",
       "  <tbody>\n",
       "    <tr>\n",
       "      <th>1600</th>\n",
       "      <td>adhd</td>\n",
       "      <td>21.069797</td>\n",
       "    </tr>\n",
       "    <tr>\n",
       "      <th>87895</th>\n",
       "      <td>tl dr</td>\n",
       "      <td>-19.652099</td>\n",
       "    </tr>\n",
       "    <tr>\n",
       "      <th>87894</th>\n",
       "      <td>tl</td>\n",
       "      <td>-19.516683</td>\n",
       "    </tr>\n",
       "    <tr>\n",
       "      <th>14206</th>\n",
       "      <td>bpd</td>\n",
       "      <td>18.774372</td>\n",
       "    </tr>\n",
       "    <tr>\n",
       "      <th>52443</th>\n",
       "      <td>meditation</td>\n",
       "      <td>-18.261012</td>\n",
       "    </tr>\n",
       "    <tr>\n",
       "      <th>7210</th>\n",
       "      <td>anxiety</td>\n",
       "      <td>18.075498</td>\n",
       "    </tr>\n",
       "    <tr>\n",
       "      <th>87896</th>\n",
       "      <td>tldr</td>\n",
       "      <td>-15.454723</td>\n",
       "    </tr>\n",
       "    <tr>\n",
       "      <th>52435</th>\n",
       "      <td>meditating</td>\n",
       "      <td>-14.684397</td>\n",
       "    </tr>\n",
       "    <tr>\n",
       "      <th>22028</th>\n",
       "      <td>depression</td>\n",
       "      <td>13.565427</td>\n",
       "    </tr>\n",
       "    <tr>\n",
       "      <th>9925</th>\n",
       "      <td>autism</td>\n",
       "      <td>12.914137</td>\n",
       "    </tr>\n",
       "    <tr>\n",
       "      <th>23199</th>\n",
       "      <td>divorce</td>\n",
       "      <td>-12.877067</td>\n",
       "    </tr>\n",
       "    <tr>\n",
       "      <th>24251</th>\n",
       "      <td>dr</td>\n",
       "      <td>-11.836205</td>\n",
       "    </tr>\n",
       "    <tr>\n",
       "      <th>52427</th>\n",
       "      <td>meditate</td>\n",
       "      <td>-11.444697</td>\n",
       "    </tr>\n",
       "    <tr>\n",
       "      <th>48179</th>\n",
       "      <td>legal</td>\n",
       "      <td>-11.066003</td>\n",
       "    </tr>\n",
       "    <tr>\n",
       "      <th>79804</th>\n",
       "      <td>suicide</td>\n",
       "      <td>10.762884</td>\n",
       "    </tr>\n",
       "    <tr>\n",
       "      <th>72667</th>\n",
       "      <td>schizophrenia</td>\n",
       "      <td>10.761612</td>\n",
       "    </tr>\n",
       "    <tr>\n",
       "      <th>68124</th>\n",
       "      <td>ptsd</td>\n",
       "      <td>10.376889</td>\n",
       "    </tr>\n",
       "    <tr>\n",
       "      <th>9936</th>\n",
       "      <td>autistic</td>\n",
       "      <td>10.376088</td>\n",
       "    </tr>\n",
       "    <tr>\n",
       "      <th>52289</th>\n",
       "      <td>med</td>\n",
       "      <td>10.003783</td>\n",
       "    </tr>\n",
       "    <tr>\n",
       "      <th>19078</th>\n",
       "      <td>conspiracy</td>\n",
       "      <td>-9.873396</td>\n",
       "    </tr>\n",
       "  </tbody>\n",
       "</table>\n",
       "</div>"
      ],
      "text/plain": [
       "        feature_name  importance\n",
       "1600            adhd   21.069797\n",
       "87895          tl dr  -19.652099\n",
       "87894             tl  -19.516683\n",
       "14206            bpd   18.774372\n",
       "52443     meditation  -18.261012\n",
       "7210         anxiety   18.075498\n",
       "87896           tldr  -15.454723\n",
       "52435     meditating  -14.684397\n",
       "22028     depression   13.565427\n",
       "9925          autism   12.914137\n",
       "23199        divorce  -12.877067\n",
       "24251             dr  -11.836205\n",
       "52427       meditate  -11.444697\n",
       "48179          legal  -11.066003\n",
       "79804        suicide   10.762884\n",
       "72667  schizophrenia   10.761612\n",
       "68124           ptsd   10.376889\n",
       "9936        autistic   10.376088\n",
       "52289            med   10.003783\n",
       "19078     conspiracy   -9.873396"
      ]
     },
     "execution_count": 43,
     "metadata": {},
     "output_type": "execute_result"
    }
   ],
   "source": [
    "importance = LRmodel.coef_[0]\n",
    "feature_names = vectoriser.get_feature_names()\n",
    "data = {\"feature_name\": feature_names, \"importance\":list(importance)}\n",
    "feature_importance = pd.DataFrame(data).sort_values(\"importance\", ascending=False, key=abs)\n",
    "feature_importance[:20]"
   ]
  },
  {
   "cell_type": "code",
   "execution_count": 74,
   "metadata": {
    "execution": {
     "iopub.execute_input": "2023-04-09T06:29:52.238668Z",
     "iopub.status.busy": "2023-04-09T06:29:52.237484Z",
     "iopub.status.idle": "2023-04-09T06:29:57.798025Z",
     "shell.execute_reply": "2023-04-09T06:29:57.796573Z",
     "shell.execute_reply.started": "2023-04-09T06:29:52.238616Z"
    }
   },
   "outputs": [
    {
     "data": {
      "text/plain": [
       "subreddit\n",
       "legaladvice        58313\n",
       "personalfinance    42637\n",
       "relationships      42173\n",
       "depression         35382\n",
       "anxiety            18696\n",
       "suicidewatch       18385\n",
       "adhd               15229\n",
       "fitness            14434\n",
       "parenting          11851\n",
       "jokes               9660\n",
       "bpd                 7547\n",
       "conspiracy          6602\n",
       "socialanxiety       6272\n",
       "lonely              5502\n",
       "guns                4603\n",
       "meditation          4181\n",
       "divorce             4153\n",
       "EDAnonymous         3644\n",
       "addiction           3134\n",
       "ptsd                3107\n",
       "alcoholism          3068\n",
       "healthanxiety       2986\n",
       "schizophrenia       2569\n",
       "autism              2461\n",
       "bipolarreddit       1995\n",
       "teaching            1258\n",
       "dtype: int64"
      ]
     },
     "execution_count": 74,
     "metadata": {},
     "output_type": "execute_result"
    }
   ],
   "source": [
    "# posts with tldr\n",
    "tldr_posts = df_new[(df_new[\"text_processed_trim\"].str.contains(\"tldr\") |df_new[\"text_processed_trim\"].str.contains(\"tl dr\") | df_new[\"text_processed_trim\"].str.contains(\"tl\") |df_new[\"text_processed_trim\"].str.contains(\"dr\"))]\n",
    "tldr_posts.value_counts(\"subreddit\")"
   ]
  },
  {
   "cell_type": "markdown",
   "metadata": {},
   "source": [
    "## Model Explainability"
   ]
  },
  {
   "cell_type": "code",
   "execution_count": 44,
   "metadata": {
    "execution": {
     "iopub.execute_input": "2023-04-09T05:34:19.358549Z",
     "iopub.status.busy": "2023-04-09T05:34:19.358112Z",
     "iopub.status.idle": "2023-04-09T05:34:25.679397Z",
     "shell.execute_reply": "2023-04-09T05:34:25.678101Z",
     "shell.execute_reply.started": "2023-04-09T05:34:19.358511Z"
    }
   },
   "outputs": [],
   "source": [
    "import shap"
   ]
  },
  {
   "cell_type": "code",
   "execution_count": 45,
   "metadata": {
    "execution": {
     "iopub.execute_input": "2023-04-09T05:34:34.920257Z",
     "iopub.status.busy": "2023-04-09T05:34:34.919620Z",
     "iopub.status.idle": "2023-04-09T05:34:35.094372Z",
     "shell.execute_reply": "2023-04-09T05:34:35.092835Z",
     "shell.execute_reply.started": "2023-04-09T05:34:34.920215Z"
    }
   },
   "outputs": [
    {
     "name": "stderr",
     "output_type": "stream",
     "text": [
      "Function get_feature_names is deprecated; get_feature_names is deprecated in 1.0 and will be removed in 1.2. Please use get_feature_names_out instead.\n"
     ]
    }
   ],
   "source": [
    "# Fits the explainer\n",
    "explainer = shap.Explainer(LRmodel, X_train_vec, feature_names=vectoriser.get_feature_names())"
   ]
  },
  {
   "cell_type": "code",
   "execution_count": 47,
   "metadata": {
    "execution": {
     "iopub.execute_input": "2023-04-09T06:20:31.297644Z",
     "iopub.status.busy": "2023-04-09T06:20:31.297183Z",
     "iopub.status.idle": "2023-04-09T06:20:31.332404Z",
     "shell.execute_reply": "2023-04-09T06:20:31.330899Z",
     "shell.execute_reply.started": "2023-04-09T06:20:31.297602Z"
    }
   },
   "outputs": [],
   "source": [
    "# take a sample of test data and calculate shap value\n",
    "sample_test = X_test.reset_index(drop=True).sample(20)"
   ]
  },
  {
   "cell_type": "code",
   "execution_count": 48,
   "metadata": {
    "execution": {
     "iopub.execute_input": "2023-04-09T06:20:33.158743Z",
     "iopub.status.busy": "2023-04-09T06:20:33.158371Z",
     "iopub.status.idle": "2023-04-09T06:20:33.506945Z",
     "shell.execute_reply": "2023-04-09T06:20:33.505501Z",
     "shell.execute_reply.started": "2023-04-09T06:20:33.158711Z"
    }
   },
   "outputs": [],
   "source": [
    "# Calculates the SHAP values - It takes some time\n",
    "shap_values = explainer(X_test_vec[sample_test.index.values])"
   ]
  },
  {
   "cell_type": "code",
   "execution_count": 54,
   "metadata": {
    "execution": {
     "iopub.execute_input": "2023-04-09T06:22:33.808956Z",
     "iopub.status.busy": "2023-04-09T06:22:33.808561Z",
     "iopub.status.idle": "2023-04-09T06:22:33.818160Z",
     "shell.execute_reply": "2023-04-09T06:22:33.816911Z",
     "shell.execute_reply.started": "2023-04-09T06:22:33.808922Z"
    }
   },
   "outputs": [
    {
     "data": {
      "text/plain": [
       "array([139404,  98051, 165874, 109746, 132498,  60363,  63653,  26689,\n",
       "       155208, 150742, 179233,  15226,   3768, 161614, 119565,  18353,\n",
       "       110583,  51755,  75706,   2289])"
      ]
     },
     "execution_count": 54,
     "metadata": {},
     "output_type": "execute_result"
    }
   ],
   "source": [
    "sample_test.index.values"
   ]
  },
  {
   "cell_type": "code",
   "execution_count": 63,
   "metadata": {
    "execution": {
     "iopub.execute_input": "2023-04-09T06:24:43.712252Z",
     "iopub.status.busy": "2023-04-09T06:24:43.711822Z",
     "iopub.status.idle": "2023-04-09T06:24:43.738636Z",
     "shell.execute_reply": "2023-04-09T06:24:43.737250Z",
     "shell.execute_reply.started": "2023-04-09T06:24:43.712216Z"
    }
   },
   "outputs": [
    {
     "data": {
      "text/html": [
       "<div>\n",
       "<style scoped>\n",
       "    .dataframe tbody tr th:only-of-type {\n",
       "        vertical-align: middle;\n",
       "    }\n",
       "\n",
       "    .dataframe tbody tr th {\n",
       "        vertical-align: top;\n",
       "    }\n",
       "\n",
       "    .dataframe thead th {\n",
       "        text-align: right;\n",
       "    }\n",
       "</style>\n",
       "<table border=\"1\" class=\"dataframe\">\n",
       "  <thead>\n",
       "    <tr style=\"text-align: right;\">\n",
       "      <th></th>\n",
       "      <th>index</th>\n",
       "      <th>Unnamed: 0</th>\n",
       "      <th>subreddit</th>\n",
       "      <th>author</th>\n",
       "      <th>date</th>\n",
       "      <th>post</th>\n",
       "      <th>label</th>\n",
       "      <th>num_char</th>\n",
       "      <th>text_processed</th>\n",
       "      <th>mentioned_usernames</th>\n",
       "      <th>...</th>\n",
       "      <th>num_word</th>\n",
       "      <th>processed_num_word</th>\n",
       "      <th>num_mentioned_expressions</th>\n",
       "      <th>date_processed</th>\n",
       "      <th>date_day_of_week</th>\n",
       "      <th>date_month</th>\n",
       "      <th>date_year</th>\n",
       "      <th>date_hour</th>\n",
       "      <th>date_date</th>\n",
       "      <th>text_processed_trim</th>\n",
       "    </tr>\n",
       "  </thead>\n",
       "  <tbody>\n",
       "    <tr>\n",
       "      <th>304813</th>\n",
       "      <td>452856</td>\n",
       "      <td>452856</td>\n",
       "      <td>personalfinance</td>\n",
       "      <td>wutevadude</td>\n",
       "      <td>2019/03/27</td>\n",
       "      <td>My first investment opportunity: too good to p...</td>\n",
       "      <td>0</td>\n",
       "      <td>2796</td>\n",
       "      <td>my first investment opportunity too good to pa...</td>\n",
       "      <td>NaN</td>\n",
       "      <td>...</td>\n",
       "      <td>500</td>\n",
       "      <td>508</td>\n",
       "      <td>0</td>\n",
       "      <td>2019-03-27</td>\n",
       "      <td>2</td>\n",
       "      <td>3</td>\n",
       "      <td>2019</td>\n",
       "      <td>0</td>\n",
       "      <td>2019-03-27</td>\n",
       "      <td>my first investment opportunity too good to pa...</td>\n",
       "    </tr>\n",
       "  </tbody>\n",
       "</table>\n",
       "<p>1 rows × 30 columns</p>\n",
       "</div>"
      ],
      "text/plain": [
       "         index  Unnamed: 0        subreddit      author        date  \\\n",
       "304813  452856      452856  personalfinance  wutevadude  2019/03/27   \n",
       "\n",
       "                                                     post  label  num_char  \\\n",
       "304813  My first investment opportunity: too good to p...      0      2796   \n",
       "\n",
       "                                           text_processed mentioned_usernames  \\\n",
       "304813  my first investment opportunity too good to pa...                 NaN   \n",
       "\n",
       "        ...  num_word  processed_num_word num_mentioned_expressions  \\\n",
       "304813  ...       500                 508                         0   \n",
       "\n",
       "        date_processed date_day_of_week  date_month  date_year  date_hour  \\\n",
       "304813      2019-03-27                2           3       2019          0   \n",
       "\n",
       "         date_date                                text_processed_trim  \n",
       "304813  2019-03-27  my first investment opportunity too good to pa...  \n",
       "\n",
       "[1 rows x 30 columns]"
      ]
     },
     "execution_count": 63,
     "metadata": {},
     "output_type": "execute_result"
    }
   ],
   "source": [
    "df_new[df_new[\"index\"]==452856]"
   ]
  },
  {
   "cell_type": "code",
   "execution_count": 66,
   "metadata": {
    "execution": {
     "iopub.execute_input": "2023-04-09T06:25:35.310314Z",
     "iopub.status.busy": "2023-04-09T06:25:35.309835Z",
     "iopub.status.idle": "2023-04-09T06:25:35.320687Z",
     "shell.execute_reply": "2023-04-09T06:25:35.318930Z",
     "shell.execute_reply.started": "2023-04-09T06:25:35.310258Z"
    }
   },
   "outputs": [
    {
     "data": {
      "text/plain": [
       "139404"
      ]
     },
     "execution_count": 66,
     "metadata": {},
     "output_type": "execute_result"
    }
   ],
   "source": [
    "sample_test.index.values[i]"
   ]
  },
  {
   "cell_type": "code",
   "execution_count": 65,
   "metadata": {
    "execution": {
     "iopub.execute_input": "2023-04-09T06:25:26.092046Z",
     "iopub.status.busy": "2023-04-09T06:25:26.091412Z",
     "iopub.status.idle": "2023-04-09T06:25:26.116956Z",
     "shell.execute_reply": "2023-04-09T06:25:26.115191Z",
     "shell.execute_reply.started": "2023-04-09T06:25:26.091981Z"
    }
   },
   "outputs": [
    {
     "data": {
      "text/html": [
       "<div>\n",
       "<style scoped>\n",
       "    .dataframe tbody tr th:only-of-type {\n",
       "        vertical-align: middle;\n",
       "    }\n",
       "\n",
       "    .dataframe tbody tr th {\n",
       "        vertical-align: top;\n",
       "    }\n",
       "\n",
       "    .dataframe thead th {\n",
       "        text-align: right;\n",
       "    }\n",
       "</style>\n",
       "<table border=\"1\" class=\"dataframe\">\n",
       "  <thead>\n",
       "    <tr style=\"text-align: right;\">\n",
       "      <th></th>\n",
       "      <th>index</th>\n",
       "      <th>Unnamed: 0</th>\n",
       "      <th>subreddit</th>\n",
       "      <th>author</th>\n",
       "      <th>date</th>\n",
       "      <th>post</th>\n",
       "      <th>label</th>\n",
       "      <th>num_char</th>\n",
       "      <th>text_processed</th>\n",
       "      <th>mentioned_usernames</th>\n",
       "      <th>...</th>\n",
       "      <th>num_word</th>\n",
       "      <th>processed_num_word</th>\n",
       "      <th>num_mentioned_expressions</th>\n",
       "      <th>date_processed</th>\n",
       "      <th>date_day_of_week</th>\n",
       "      <th>date_month</th>\n",
       "      <th>date_year</th>\n",
       "      <th>date_hour</th>\n",
       "      <th>date_date</th>\n",
       "      <th>text_processed_trim</th>\n",
       "    </tr>\n",
       "  </thead>\n",
       "  <tbody>\n",
       "  </tbody>\n",
       "</table>\n",
       "<p>0 rows × 30 columns</p>\n",
       "</div>"
      ],
      "text/plain": [
       "Empty DataFrame\n",
       "Columns: [index, Unnamed: 0, subreddit, author, date, post, label, num_char, text_processed, mentioned_usernames, num_mentioned_usernames, num_mentioned_urls, mentioned_hashtags, num_mentioned_hashtags, mentioned_smileys, num_mentioned_smileys, num_mentioned_haha, num_mentioned_lol, processed_num_char, mentioned_hashtags_cleaned, num_word, processed_num_word, num_mentioned_expressions, date_processed, date_day_of_week, date_month, date_year, date_hour, date_date, text_processed_trim]\n",
       "Index: []\n",
       "\n",
       "[0 rows x 30 columns]"
      ]
     },
     "execution_count": 65,
     "metadata": {},
     "output_type": "execute_result"
    }
   ],
   "source": [
    "df_new[df_new[\"index\"]==sample_test.index.values[i]]"
   ]
  },
  {
   "cell_type": "code",
   "execution_count": 75,
   "metadata": {
    "execution": {
     "iopub.execute_input": "2023-04-09T06:35:15.059114Z",
     "iopub.status.busy": "2023-04-09T06:35:15.058699Z",
     "iopub.status.idle": "2023-04-09T06:35:15.071028Z",
     "shell.execute_reply": "2023-04-09T06:35:15.069573Z",
     "shell.execute_reply.started": "2023-04-09T06:35:15.059080Z"
    }
   },
   "outputs": [
    {
     "name": "stdout",
     "output_type": "stream",
     "text": [
      "index:  0\n",
      "post:  how can i stop being anxious about death so my family member died last year in november ever since i can not stop obsessing over and fearing death pretty much anything could trigger this fear in me for example my friend and i could make a long term plan and my mind will randomly think okay but will you be alive during that time and my day will automatically get ruined the fact that i believe in loa worsens the whole situation because i get anxious that whatever i invest too much thought into could actually manifest to reality these obsessive thought literally prevent me from enjoying life i want to learn how to stop btw i am year old if that matter in any way\n",
      "class:  1\n",
      "index_in_orginal_df:  139404\n",
      "sub-reddit:  ['anxiety']\n",
      "original post:  [\"Panic attack I just recently had the worst panic attack I've ever had, it felt like I was having a heart attack. Its been three days since it happened, and it's had an effect on me. My heart rate has gotten faster, I feel weak/fatigued despite getting rest, and I fear it happening again but worse. I have two weeks before seeing my doctor and psychiatrist; is there any advice you guys can give me to help me cope til then? \"]\n"
     ]
    }
   ],
   "source": [
    "for i in range(30):\n",
    "    if y_test.reset_index(drop=True)[sample_test.index.values[i]] == 1:\n",
    "        print(\"index: \", i)\n",
    "        print(\"post: \", sample_test.iloc[i])\n",
    "        print(\"class: \", y_test.iloc[i])\n",
    "        index_in_orginal_df = sample_test.index.values[i]\n",
    "        print(\"index_in_orginal_df: \", index_in_orginal_df)\n",
    "        print(\"sub-reddit: \", df_new.filter(items = [index_in_orginal_df], axis=0)[\"subreddit\"].values)\n",
    "        print(\"original post: \", df_new.filter(items = [index_in_orginal_df], axis=0)[\"post\"].values)\n",
    "        break"
   ]
  },
  {
   "cell_type": "code",
   "execution_count": 73,
   "metadata": {
    "execution": {
     "iopub.execute_input": "2023-04-09T06:29:09.156147Z",
     "iopub.status.busy": "2023-04-09T06:29:09.155723Z",
     "iopub.status.idle": "2023-04-09T06:29:11.919695Z",
     "shell.execute_reply": "2023-04-09T06:29:11.918768Z",
     "shell.execute_reply.started": "2023-04-09T06:29:09.156109Z"
    }
   },
   "outputs": [
    {
     "data": {
      "image/png": "[encoded data removed]",
      "text/plain": [
       "<Figure size 800x850 with 3 Axes>"
      ]
     },
     "metadata": {},
     "output_type": "display_data"
    }
   ],
   "source": [
    "shap.plots.waterfall(shap_values[i], max_display=14)"
   ]
  },
  {
   "cell_type": "code",
   "execution_count": null,
   "metadata": {},
   "outputs": [],
   "source": [
    "filename = \"/kaggle/working/LRmodel.pkl\"\n",
    "loaded_model = pickle.load(open(filename, 'rb'))"
   ]
  },
  {
   "cell_type": "code",
   "execution_count": 16,
   "metadata": {
    "execution": {
     "iopub.execute_input": "2023-04-09T10:56:55.784828Z",
     "iopub.status.busy": "2023-04-09T10:56:55.782965Z",
     "iopub.status.idle": "2023-04-09T11:30:12.232718Z",
     "shell.execute_reply": "2023-04-09T11:30:12.231272Z",
     "shell.execute_reply.started": "2023-04-09T10:56:55.784769Z"
    }
   },
   "outputs": [
    {
     "name": "stdout",
     "output_type": "stream",
     "text": [
      "              precision    recall  f1-score   support\n",
      "\n",
      "           0     0.9278    0.9599    0.9436    109044\n",
      "           1     0.9386    0.8915    0.9144     75038\n",
      "\n",
      "    accuracy                         0.9320    184082\n",
      "   macro avg     0.9332    0.9257    0.9290    184082\n",
      "weighted avg     0.9322    0.9320    0.9317    184082\n",
      "\n"
     ]
    },
    {
     "data": {
      "image/png": "[encoded data removed]",
      "text/plain": [
       "<Figure size 640x480 with 2 Axes>"
      ]
     },
     "metadata": {},
     "output_type": "display_data"
    }
   ],
   "source": [
    "from xgboost import XGBClassifier\n",
    "XGBmodel = XGBClassifier()\n",
    "XGBmodel.fit(data_map['X_train'], y_train)\n",
    "model_Evaluate(XGBmodel, data_map['X_test'])"
   ]
  },
  {
   "cell_type": "code",
   "execution_count": null,
   "metadata": {
    "execution": {
     "iopub.execute_input": "2023-04-09T11:43:30.930452Z",
     "iopub.status.busy": "2023-04-09T11:43:30.929953Z"
    }
   },
   "outputs": [],
   "source": [
    "from sklearn.neighbors import KNeighborsClassifier\n",
    "KNNmodel = KNeighborsClassifier(n_neighbors=10)\n",
    "KNNmodel.fit(data_map['X_train'], y_train)\n",
    "model_Evaluate(KNNmodel, data_map['X_test'])"
   ]
  },
  {
   "cell_type": "code",
   "execution_count": 76,
   "metadata": {
    "execution": {
     "iopub.execute_input": "2023-04-08T07:30:29.997618Z",
     "iopub.status.busy": "2023-04-08T07:30:29.997073Z",
     "iopub.status.idle": "2023-04-08T12:12:15.654316Z",
     "shell.execute_reply": "2023-04-08T12:12:15.651151Z",
     "shell.execute_reply.started": "2023-04-08T07:30:29.997557Z"
    }
   },
   "outputs": [
    {
     "name": "stdout",
     "output_type": "stream",
     "text": [
      "              precision    recall  f1-score   support\n",
      "\n",
      "           0       0.78      0.04      0.08    108751\n",
      "           1       0.41      0.98      0.58     74586\n",
      "\n",
      "    accuracy                           0.43    183337\n",
      "   macro avg       0.59      0.51      0.33    183337\n",
      "weighted avg       0.63      0.43      0.29    183337\n",
      "\n"
     ]
    },
    {
     "data": {
      "image/png": "[encoded data removed]",
      "text/plain": [
       "<Figure size 640x480 with 2 Axes>"
      ]
     },
     "metadata": {},
     "output_type": "display_data"
    }
   ],
   "source": [
    "from sklearn.neighbors import KNeighborsClassifier\n",
    "KNNmodel = KNeighborsClassifier(n_neighbors=10)\n",
    "KNNmodel.fit(data_map['X_train'], y_train)\n",
    "model_Evaluate(KNNmodel, data_map['X_test'])"
   ]
  }
 ],
 "metadata": {
  "kernelspec": {
   "display_name": "Python 3",
   "language": "python",
   "name": "python3"
  },
  "language_info": {
   "codemirror_mode": {
    "name": "ipython",
    "version": 3
   },
   "file_extension": ".py",
   "mimetype": "text/x-python",
   "name": "python",
   "nbconvert_exporter": "python",
   "pygments_lexer": "ipython3",
   "version": "3.7.6"
  }
 },
 "nbformat": 4,
 "nbformat_minor": 4
}
